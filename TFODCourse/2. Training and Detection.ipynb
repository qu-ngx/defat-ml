{
 "cells": [
  {
   "cell_type": "markdown",
   "metadata": {
    "id": "QUANWN3rpfC9"
   },
   "source": [
    "# 0. Setup Paths"
   ]
  },
  {
   "cell_type": "code",
   "execution_count": 9,
   "metadata": {
    "id": "146BB11JpfDA"
   },
   "outputs": [],
   "source": [
    "import os\n",
    "os.environ[\"KMP_DUPLICATE_LIB_OK\"]=\"TRUE\""
   ]
  },
  {
   "cell_type": "code",
   "execution_count": 10,
   "metadata": {
    "id": "42hJEdo_pfDB"
   },
   "outputs": [],
   "source": [
    "CUSTOM_MODEL_NAME = 'my_ssd_mobnet' \n",
    "PRETRAINED_MODEL_NAME = 'ssd_mobilenet_v2_fpnlite_320x320_coco17_tpu-8'\n",
    "PRETRAINED_MODEL_URL = 'http://download.tensorflow.org/models/object_detection/tf2/20200711/ssd_mobilenet_v2_fpnlite_320x320_coco17_tpu-8.tar.gz'\n",
    "TF_RECORD_SCRIPT_NAME = 'generate_tfrecord.py'\n",
    "LABEL_MAP_NAME = 'label_map.pbtxt'"
   ]
  },
  {
   "cell_type": "code",
   "execution_count": 11,
   "metadata": {
    "id": "hbPhYVy_pfDB"
   },
   "outputs": [],
   "source": [
    "paths = {\n",
    "    'WORKSPACE_PATH': os.path.join('Tensorflow', 'workspace'),\n",
    "    'SCRIPTS_PATH': os.path.join('Tensorflow','scripts'),\n",
    "    'APIMODEL_PATH': os.path.join('Tensorflow','models'),\n",
    "    'ANNOTATION_PATH': os.path.join('Tensorflow', 'workspace','annotations'),\n",
    "    'IMAGE_PATH': os.path.join('Tensorflow', 'workspace','images'),\n",
    "    'MODEL_PATH': os.path.join('Tensorflow', 'workspace','models'),\n",
    "    'PRETRAINED_MODEL_PATH': os.path.join('Tensorflow', 'workspace','pre-trained-models'),\n",
    "    'CHECKPOINT_PATH': os.path.join('Tensorflow', 'workspace','models',CUSTOM_MODEL_NAME), \n",
    "    'OUTPUT_PATH': os.path.join('Tensorflow', 'workspace','models',CUSTOM_MODEL_NAME, 'export'), \n",
    "    'TFJS_PATH':os.path.join('Tensorflow', 'workspace','models',CUSTOM_MODEL_NAME, 'tfjsexport'), \n",
    "    'TFLITE_PATH':os.path.join('Tensorflow', 'workspace','models',CUSTOM_MODEL_NAME, 'tfliteexport'), \n",
    "    'PROTOC_PATH':os.path.join('Tensorflow','protoc')\n",
    " }"
   ]
  },
  {
   "cell_type": "code",
   "execution_count": 12,
   "metadata": {
    "id": "LwhWZMI0pfDC"
   },
   "outputs": [],
   "source": [
    "files = {\n",
    "    'PIPELINE_CONFIG':os.path.join('Tensorflow', 'workspace','models', CUSTOM_MODEL_NAME, 'pipeline.config'),\n",
    "    'TF_RECORD_SCRIPT': os.path.join(paths['SCRIPTS_PATH'], TF_RECORD_SCRIPT_NAME), \n",
    "    'LABELMAP': os.path.join(paths['ANNOTATION_PATH'], LABEL_MAP_NAME)\n",
    "}"
   ]
  },
  {
   "cell_type": "code",
   "execution_count": 5,
   "metadata": {
    "id": "HR-TfDGrpfDC"
   },
   "outputs": [],
   "source": [
    "for path in paths.values():\n",
    "    if not os.path.exists(path):\n",
    "        if os.name == 'posix':\n",
    "            !mkdir -p {path}\n",
    "        if os.name == 'nt':\n",
    "            !mkdir {path}"
   ]
  },
  {
   "cell_type": "markdown",
   "metadata": {
    "id": "OLU-rs_ipfDE"
   },
   "source": [
    "# 1. Download TF Models Pretrained Models from Tensorflow Model Zoo and Install TFOD"
   ]
  },
  {
   "cell_type": "code",
   "execution_count": 12,
   "metadata": {},
   "outputs": [],
   "source": [
    "# https://www.tensorflow.org/install/source_windows"
   ]
  },
  {
   "cell_type": "code",
   "execution_count": 6,
   "metadata": {
    "id": "K-Cmz2edpfDE",
    "scrolled": true
   },
   "outputs": [],
   "source": [
    "if os.name=='nt':\n",
    "    %pip install wget\n",
    "    # brew install wget (Run in command line)\n",
    "    import wget"
   ]
  },
  {
   "cell_type": "code",
   "execution_count": 7,
   "metadata": {
    "id": "iA1DIq5OpfDE"
   },
   "outputs": [],
   "source": [
    "if not os.path.exists(os.path.join(paths['APIMODEL_PATH'], 'research', 'object_detection')):\n",
    "    %git clone https://github.com/tensorflow/models {paths['APIMODEL_PATH']}"
   ]
  },
  {
   "cell_type": "code",
   "execution_count": 13,
   "metadata": {
    "id": "rJjMHbnDs3Tv"
   },
   "outputs": [
    {
     "name": "stdout",
     "output_type": "stream",
     "text": [
      "Requirement already satisfied: cython<3.0.0 in ./tfod3.9/lib/python3.9/site-packages (0.29.37)\n",
      "Requirement already satisfied: wheel in ./tfod3.9/lib/python3.9/site-packages (0.42.0)\n",
      "Note: you may need to restart the kernel to use updated packages.\n",
      "Requirement already satisfied: pyyaml==6.0.0 in ./tfod3.9/lib/python3.9/site-packages (6.0)\n",
      "Note: you may need to restart the kernel to use updated packages.\n",
      "Requirement already satisfied: protobuf in ./tfod3.9/lib/python3.9/site-packages (3.20.3)\n",
      "Note: you may need to restart the kernel to use updated packages.\n",
      "ERROR: unknown command \"link\"\n",
      "Note: you may need to restart the kernel to use updated packages.\n",
      "Requirement already satisfied: wheel in ./tfod3.9/lib/python3.9/site-packages (0.42.0)\n",
      "Requirement already satisfied: setuptools in ./tfod3.9/lib/python3.9/site-packages (69.0.3)\n",
      "Requirement already satisfied: pip in ./tfod3.9/lib/python3.9/site-packages (23.3.2)\n",
      "Note: you may need to restart the kernel to use updated packages.\n",
      "[Errno 2] No such file or directory: 'Tensorflow/models/research && protoc object_detection/protos/*.proto --python_out=. && cp object_detection/packages/tf2/setup.py . && python -m pip install .'\n",
      "/Users/quangnguyen/Documents/gsc24-test/TFODCourse\n"
     ]
    },
    {
     "name": "stderr",
     "output_type": "stream",
     "text": [
      "/Users/quangnguyen/Documents/gsc24-test/TFODCourse/tfod3.9/lib/python3.9/site-packages/IPython/core/magics/osm.py:393: UserWarning: using bookmarks requires you to install the `pickleshare` library.\n",
      "  bkms = self.shell.db.get('bookmarks', {})\n"
     ]
    }
   ],
   "source": [
    "# Install Tensorflow Object Detection \n",
    "if os.name=='posix':  \n",
    "    #!apt-get install protobuf-compiler\n",
    "    \n",
    "    # Work-around to solve the bug with version confliction of PyYaml and Cython \n",
    "    %pip install \"cython<3.0.0\" wheel\n",
    "    # !pip install \"pyyaml==5.4.1\" --no-build-isolation\n",
    "    %pip install \"pyyaml==6.0.0\" --no-build-isolation\n",
    "    # !pip install -r requirements.txt\n",
    "\n",
    "    # Install protobuf via brew as package installer\n",
    "    %pip install protobuf\n",
    "    %pip link --overwrite protobuf\n",
    "    %pip install wheel setuptools pip --upgrade\n",
    "    %cd Tensorflow/models/research && protoc object_detection/protos/*.proto --python_out=. && cp object_detection/packages/tf2/setup.py . && python -m pip install . \n",
    "    \n",
    "if os.name=='nt':\n",
    "    url=\"https://github.com/protocolbuffers/protobuf/releases/download/v3.15.6/protoc-3.15.6-win64.zip\"\n",
    "    wget.download(url)\n",
    "    !move protoc-3.15.6-win64.zip {paths['PROTOC_PATH']}\n",
    "    !cd {paths['PROTOC_PATH']} && tar -xf protoc-3.15.6-win64.zip\n",
    "    os.environ['PATH'] += os.pathsep + os.path.abspath(os.path.join(paths['PROTOC_PATH'], 'bin'))   \n",
    "    %cd Tensorflow/models/research && protoc object_detection/protos/*.proto --python_out=. && copy object_detection\\\\packages\\\\tf2\\\\setup.py setup.py && python setup.py build && python setup.py install\n",
    "    %cd Tensorflow/models/research/slim && pip install -e . "
   ]
  },
  {
   "cell_type": "code",
   "execution_count": 14,
   "metadata": {},
   "outputs": [
    {
     "name": "stdout",
     "output_type": "stream",
     "text": [
      "Found existing installation: matplotlib 3.8.2\n",
      "Uninstalling matplotlib-3.8.2:\n",
      "  Successfully uninstalled matplotlib-3.8.2\n",
      "Note: you may need to restart the kernel to use updated packages.\n",
      "Collecting matplotlib\n",
      "  Using cached matplotlib-3.8.2-cp39-cp39-macosx_10_12_x86_64.whl.metadata (5.8 kB)\n",
      "Requirement already satisfied: contourpy>=1.0.1 in ./tfod3.9/lib/python3.9/site-packages (from matplotlib) (1.2.0)\n",
      "Requirement already satisfied: cycler>=0.10 in ./tfod3.9/lib/python3.9/site-packages (from matplotlib) (0.12.1)\n",
      "Requirement already satisfied: fonttools>=4.22.0 in ./tfod3.9/lib/python3.9/site-packages (from matplotlib) (4.47.0)\n",
      "Requirement already satisfied: kiwisolver>=1.3.1 in ./tfod3.9/lib/python3.9/site-packages (from matplotlib) (1.4.5)\n",
      "Requirement already satisfied: numpy<2,>=1.21 in ./tfod3.9/lib/python3.9/site-packages (from matplotlib) (1.24.4)\n",
      "Requirement already satisfied: packaging>=20.0 in ./tfod3.9/lib/python3.9/site-packages (from matplotlib) (23.2)\n",
      "Requirement already satisfied: pillow>=8 in ./tfod3.9/lib/python3.9/site-packages (from matplotlib) (10.1.0)\n",
      "Requirement already satisfied: pyparsing>=2.3.1 in ./tfod3.9/lib/python3.9/site-packages (from matplotlib) (2.4.7)\n",
      "Requirement already satisfied: python-dateutil>=2.7 in ./tfod3.9/lib/python3.9/site-packages (from matplotlib) (2.8.2)\n",
      "Requirement already satisfied: importlib-resources>=3.2.0 in ./tfod3.9/lib/python3.9/site-packages (from matplotlib) (6.1.1)\n",
      "Requirement already satisfied: zipp>=3.1.0 in ./tfod3.9/lib/python3.9/site-packages (from importlib-resources>=3.2.0->matplotlib) (3.17.0)\n",
      "Requirement already satisfied: six>=1.5 in ./tfod3.9/lib/python3.9/site-packages (from python-dateutil>=2.7->matplotlib) (1.16.0)\n",
      "Using cached matplotlib-3.8.2-cp39-cp39-macosx_10_12_x86_64.whl (7.6 MB)\n",
      "Installing collected packages: matplotlib\n",
      "Successfully installed matplotlib-3.8.2\n",
      "Note: you may need to restart the kernel to use updated packages.\n"
     ]
    }
   ],
   "source": [
    "%pip uninstall matplotlib -y\n",
    "%pip install matplotlib"
   ]
  },
  {
   "cell_type": "code",
   "execution_count": 21,
   "metadata": {},
   "outputs": [],
   "source": [
    "VERIFICATION_SCRIPT = os.path.join(paths['APIMODEL_PATH'], 'research', 'object_detection', 'builders', 'model_builder_tf2_test.py')\n"
   ]
  },
  {
   "cell_type": "code",
   "execution_count": 24,
   "metadata": {},
   "outputs": [],
   "source": [
    "# Verify Installation\n",
    "!python3 {VERIFICATION_SCRIPT}"
   ]
  },
  {
   "cell_type": "code",
   "execution_count": 25,
   "metadata": {},
   "outputs": [
    {
     "name": "stdout",
     "output_type": "stream",
     "text": [
      "Requirement already satisfied: numpy in ./tfod3.9/lib/python3.9/site-packages (1.24.4)\n",
      "Collecting numpy\n",
      "  Using cached numpy-1.26.2-cp39-cp39-macosx_10_9_x86_64.whl.metadata (61 kB)\n",
      "Using cached numpy-1.26.2-cp39-cp39-macosx_10_9_x86_64.whl (20.6 MB)\n",
      "Installing collected packages: numpy\n",
      "  Attempting uninstall: numpy\n",
      "    Found existing installation: numpy 1.24.4\n",
      "    Uninstalling numpy-1.24.4:\n",
      "      Successfully uninstalled numpy-1.24.4\n",
      "\u001b[31mERROR: pip's dependency resolver does not currently take into account all the packages that are installed. This behaviour is the source of the following dependency conflicts.\n",
      "apache-beam 2.52.0 requires numpy<1.25.0,>=1.14.3, but you have numpy 1.26.2 which is incompatible.\u001b[0m\u001b[31m\n",
      "\u001b[0mSuccessfully installed numpy-1.26.2\n",
      "Note: you may need to restart the kernel to use updated packages.\n"
     ]
    }
   ],
   "source": [
    "%pip install -U numpy"
   ]
  },
  {
   "cell_type": "code",
   "execution_count": 26,
   "metadata": {},
   "outputs": [
    {
     "name": "stdout",
     "output_type": "stream",
     "text": [
      "Found existing installation: tensorflow 2.15.0\n",
      "Uninstalling tensorflow-2.15.0:\n",
      "  Successfully uninstalled tensorflow-2.15.0\n",
      "Note: you may need to restart the kernel to use updated packages.\n",
      "Collecting tensorflow\n",
      "  Using cached tensorflow-2.15.0-cp39-cp39-macosx_10_15_x86_64.whl.metadata (4.2 kB)\n",
      "Requirement already satisfied: absl-py>=1.0.0 in ./tfod3.9/lib/python3.9/site-packages (from tensorflow) (1.4.0)\n",
      "Requirement already satisfied: astunparse>=1.6.0 in ./tfod3.9/lib/python3.9/site-packages (from tensorflow) (1.6.3)\n",
      "Requirement already satisfied: flatbuffers>=23.5.26 in ./tfod3.9/lib/python3.9/site-packages (from tensorflow) (23.5.26)\n",
      "Requirement already satisfied: gast!=0.5.0,!=0.5.1,!=0.5.2,>=0.2.1 in ./tfod3.9/lib/python3.9/site-packages (from tensorflow) (0.5.4)\n",
      "Requirement already satisfied: google-pasta>=0.1.1 in ./tfod3.9/lib/python3.9/site-packages (from tensorflow) (0.2.0)\n",
      "Requirement already satisfied: h5py>=2.9.0 in ./tfod3.9/lib/python3.9/site-packages (from tensorflow) (3.10.0)\n",
      "Requirement already satisfied: libclang>=13.0.0 in ./tfod3.9/lib/python3.9/site-packages (from tensorflow) (16.0.6)\n",
      "Requirement already satisfied: ml-dtypes~=0.2.0 in ./tfod3.9/lib/python3.9/site-packages (from tensorflow) (0.2.0)\n",
      "Requirement already satisfied: numpy<2.0.0,>=1.23.5 in ./tfod3.9/lib/python3.9/site-packages (from tensorflow) (1.26.2)\n",
      "Requirement already satisfied: opt-einsum>=2.3.2 in ./tfod3.9/lib/python3.9/site-packages (from tensorflow) (3.3.0)\n",
      "Requirement already satisfied: packaging in ./tfod3.9/lib/python3.9/site-packages (from tensorflow) (23.2)\n",
      "Requirement already satisfied: protobuf!=4.21.0,!=4.21.1,!=4.21.2,!=4.21.3,!=4.21.4,!=4.21.5,<5.0.0dev,>=3.20.3 in ./tfod3.9/lib/python3.9/site-packages (from tensorflow) (3.20.3)\n",
      "Requirement already satisfied: setuptools in ./tfod3.9/lib/python3.9/site-packages (from tensorflow) (69.0.3)\n",
      "Requirement already satisfied: six>=1.12.0 in ./tfod3.9/lib/python3.9/site-packages (from tensorflow) (1.16.0)\n",
      "Requirement already satisfied: termcolor>=1.1.0 in ./tfod3.9/lib/python3.9/site-packages (from tensorflow) (2.4.0)\n",
      "Requirement already satisfied: typing-extensions>=3.6.6 in ./tfod3.9/lib/python3.9/site-packages (from tensorflow) (4.9.0)\n",
      "Requirement already satisfied: wrapt<1.15,>=1.11.0 in ./tfod3.9/lib/python3.9/site-packages (from tensorflow) (1.14.1)\n",
      "Requirement already satisfied: tensorflow-io-gcs-filesystem>=0.23.1 in ./tfod3.9/lib/python3.9/site-packages (from tensorflow) (0.35.0)\n",
      "Requirement already satisfied: grpcio<2.0,>=1.24.3 in ./tfod3.9/lib/python3.9/site-packages (from tensorflow) (1.60.0)\n",
      "Requirement already satisfied: tensorboard<2.16,>=2.15 in ./tfod3.9/lib/python3.9/site-packages (from tensorflow) (2.15.1)\n",
      "Requirement already satisfied: tensorflow-estimator<2.16,>=2.15.0 in ./tfod3.9/lib/python3.9/site-packages (from tensorflow) (2.15.0)\n",
      "Requirement already satisfied: keras<2.16,>=2.15.0 in ./tfod3.9/lib/python3.9/site-packages (from tensorflow) (2.15.0)\n",
      "Requirement already satisfied: wheel<1.0,>=0.23.0 in ./tfod3.9/lib/python3.9/site-packages (from astunparse>=1.6.0->tensorflow) (0.42.0)\n",
      "Requirement already satisfied: google-auth<3,>=1.6.3 in ./tfod3.9/lib/python3.9/site-packages (from tensorboard<2.16,>=2.15->tensorflow) (2.25.2)\n",
      "Requirement already satisfied: google-auth-oauthlib<2,>=0.5 in ./tfod3.9/lib/python3.9/site-packages (from tensorboard<2.16,>=2.15->tensorflow) (1.0.0)\n",
      "Requirement already satisfied: markdown>=2.6.8 in ./tfod3.9/lib/python3.9/site-packages (from tensorboard<2.16,>=2.15->tensorflow) (3.5.1)\n",
      "Requirement already satisfied: requests<3,>=2.21.0 in ./tfod3.9/lib/python3.9/site-packages (from tensorboard<2.16,>=2.15->tensorflow) (2.31.0)\n",
      "Requirement already satisfied: tensorboard-data-server<0.8.0,>=0.7.0 in ./tfod3.9/lib/python3.9/site-packages (from tensorboard<2.16,>=2.15->tensorflow) (0.7.2)\n",
      "Requirement already satisfied: werkzeug>=1.0.1 in ./tfod3.9/lib/python3.9/site-packages (from tensorboard<2.16,>=2.15->tensorflow) (3.0.1)\n",
      "Requirement already satisfied: cachetools<6.0,>=2.0.0 in ./tfod3.9/lib/python3.9/site-packages (from google-auth<3,>=1.6.3->tensorboard<2.16,>=2.15->tensorflow) (5.3.2)\n",
      "Requirement already satisfied: pyasn1-modules>=0.2.1 in ./tfod3.9/lib/python3.9/site-packages (from google-auth<3,>=1.6.3->tensorboard<2.16,>=2.15->tensorflow) (0.3.0)\n",
      "Requirement already satisfied: rsa<5,>=3.1.4 in ./tfod3.9/lib/python3.9/site-packages (from google-auth<3,>=1.6.3->tensorboard<2.16,>=2.15->tensorflow) (4.9)\n",
      "Requirement already satisfied: requests-oauthlib>=0.7.0 in ./tfod3.9/lib/python3.9/site-packages (from google-auth-oauthlib<2,>=0.5->tensorboard<2.16,>=2.15->tensorflow) (1.3.1)\n",
      "Requirement already satisfied: importlib-metadata>=4.4 in ./tfod3.9/lib/python3.9/site-packages (from markdown>=2.6.8->tensorboard<2.16,>=2.15->tensorflow) (7.0.1)\n",
      "Requirement already satisfied: charset-normalizer<4,>=2 in ./tfod3.9/lib/python3.9/site-packages (from requests<3,>=2.21.0->tensorboard<2.16,>=2.15->tensorflow) (3.3.2)\n",
      "Requirement already satisfied: idna<4,>=2.5 in ./tfod3.9/lib/python3.9/site-packages (from requests<3,>=2.21.0->tensorboard<2.16,>=2.15->tensorflow) (3.6)\n",
      "Requirement already satisfied: urllib3<3,>=1.21.1 in ./tfod3.9/lib/python3.9/site-packages (from requests<3,>=2.21.0->tensorboard<2.16,>=2.15->tensorflow) (2.1.0)\n",
      "Requirement already satisfied: certifi>=2017.4.17 in ./tfod3.9/lib/python3.9/site-packages (from requests<3,>=2.21.0->tensorboard<2.16,>=2.15->tensorflow) (2023.11.17)\n",
      "Requirement already satisfied: MarkupSafe>=2.1.1 in ./tfod3.9/lib/python3.9/site-packages (from werkzeug>=1.0.1->tensorboard<2.16,>=2.15->tensorflow) (2.1.3)\n",
      "Requirement already satisfied: zipp>=0.5 in ./tfod3.9/lib/python3.9/site-packages (from importlib-metadata>=4.4->markdown>=2.6.8->tensorboard<2.16,>=2.15->tensorflow) (3.17.0)\n",
      "Requirement already satisfied: pyasn1<0.6.0,>=0.4.6 in ./tfod3.9/lib/python3.9/site-packages (from pyasn1-modules>=0.2.1->google-auth<3,>=1.6.3->tensorboard<2.16,>=2.15->tensorflow) (0.5.1)\n",
      "Requirement already satisfied: oauthlib>=3.0.0 in ./tfod3.9/lib/python3.9/site-packages (from requests-oauthlib>=0.7.0->google-auth-oauthlib<2,>=0.5->tensorboard<2.16,>=2.15->tensorflow) (3.2.2)\n",
      "Using cached tensorflow-2.15.0-cp39-cp39-macosx_10_15_x86_64.whl (239.1 MB)\n",
      "Installing collected packages: tensorflow\n",
      "Successfully installed tensorflow-2.15.0\n",
      "Note: you may need to restart the kernel to use updated packages.\n"
     ]
    }
   ],
   "source": [
    "%pip uninstall tensorflow -y\n",
    "%pip install --upgrade tensorflow\n",
    "# brew install tensorflow"
   ]
  },
  {
   "cell_type": "code",
   "execution_count": 27,
   "metadata": {},
   "outputs": [
    {
     "name": "stdout",
     "output_type": "stream",
     "text": [
      "Found existing installation: protobuf 3.20.3\n",
      "Uninstalling protobuf-3.20.3:\n",
      "  Successfully uninstalled protobuf-3.20.3\n",
      "Found existing installation: matplotlib 3.8.2\n",
      "Uninstalling matplotlib-3.8.2:\n",
      "  Successfully uninstalled matplotlib-3.8.2\n",
      "Note: you may need to restart the kernel to use updated packages.\n",
      "zsh:1: no such file or directory: 4.21\n",
      "Note: you may need to restart the kernel to use updated packages.\n"
     ]
    }
   ],
   "source": [
    "%pip uninstall protobuf matplotlib -y\n",
    "%pip install protobuf<4.21 matplotlib==3.2"
   ]
  },
  {
   "cell_type": "code",
   "execution_count": 28,
   "metadata": {},
   "outputs": [
    {
     "name": "stdout",
     "output_type": "stream",
     "text": [
      "Requirement already satisfied: tensorflow-object-detection-api in ./tfod3.9/lib/python3.9/site-packages (0.1.1)\n",
      "Requirement already satisfied: Pillow>=1.0 in ./tfod3.9/lib/python3.9/site-packages (from tensorflow-object-detection-api) (10.1.0)\n",
      "Collecting Matplotlib>=2.1 (from tensorflow-object-detection-api)\n",
      "  Using cached matplotlib-3.8.2-cp39-cp39-macosx_10_12_x86_64.whl.metadata (5.8 kB)\n",
      "Requirement already satisfied: Cython>=0.28.1 in ./tfod3.9/lib/python3.9/site-packages (from tensorflow-object-detection-api) (0.29.37)\n",
      "Collecting Protobuf (from tensorflow-object-detection-api)\n",
      "  Using cached protobuf-4.25.1-cp37-abi3-macosx_10_9_universal2.whl.metadata (541 bytes)\n",
      "Requirement already satisfied: lxml in ./tfod3.9/lib/python3.9/site-packages (from tensorflow-object-detection-api) (4.9.4)\n",
      "Requirement already satisfied: jupyter in ./tfod3.9/lib/python3.9/site-packages (from tensorflow-object-detection-api) (1.0.0)\n",
      "Requirement already satisfied: tensorflow in ./tfod3.9/lib/python3.9/site-packages (from tensorflow-object-detection-api) (2.15.0)\n",
      "Requirement already satisfied: contextlib2 in ./tfod3.9/lib/python3.9/site-packages (from tensorflow-object-detection-api) (21.6.0)\n",
      "Requirement already satisfied: wheel in ./tfod3.9/lib/python3.9/site-packages (from tensorflow-object-detection-api) (0.42.0)\n",
      "Requirement already satisfied: twine in ./tfod3.9/lib/python3.9/site-packages (from tensorflow-object-detection-api) (4.0.2)\n",
      "Requirement already satisfied: contourpy>=1.0.1 in ./tfod3.9/lib/python3.9/site-packages (from Matplotlib>=2.1->tensorflow-object-detection-api) (1.2.0)\n",
      "Requirement already satisfied: cycler>=0.10 in ./tfod3.9/lib/python3.9/site-packages (from Matplotlib>=2.1->tensorflow-object-detection-api) (0.12.1)\n",
      "Requirement already satisfied: fonttools>=4.22.0 in ./tfod3.9/lib/python3.9/site-packages (from Matplotlib>=2.1->tensorflow-object-detection-api) (4.47.0)\n",
      "Requirement already satisfied: kiwisolver>=1.3.1 in ./tfod3.9/lib/python3.9/site-packages (from Matplotlib>=2.1->tensorflow-object-detection-api) (1.4.5)\n",
      "Requirement already satisfied: numpy<2,>=1.21 in ./tfod3.9/lib/python3.9/site-packages (from Matplotlib>=2.1->tensorflow-object-detection-api) (1.26.2)\n",
      "Requirement already satisfied: packaging>=20.0 in ./tfod3.9/lib/python3.9/site-packages (from Matplotlib>=2.1->tensorflow-object-detection-api) (23.2)\n",
      "Requirement already satisfied: pyparsing>=2.3.1 in ./tfod3.9/lib/python3.9/site-packages (from Matplotlib>=2.1->tensorflow-object-detection-api) (2.4.7)\n",
      "Requirement already satisfied: python-dateutil>=2.7 in ./tfod3.9/lib/python3.9/site-packages (from Matplotlib>=2.1->tensorflow-object-detection-api) (2.8.2)\n",
      "Requirement already satisfied: importlib-resources>=3.2.0 in ./tfod3.9/lib/python3.9/site-packages (from Matplotlib>=2.1->tensorflow-object-detection-api) (6.1.1)\n",
      "Requirement already satisfied: notebook in ./tfod3.9/lib/python3.9/site-packages (from jupyter->tensorflow-object-detection-api) (7.0.6)\n",
      "Requirement already satisfied: qtconsole in ./tfod3.9/lib/python3.9/site-packages (from jupyter->tensorflow-object-detection-api) (5.5.1)\n",
      "Requirement already satisfied: jupyter-console in ./tfod3.9/lib/python3.9/site-packages (from jupyter->tensorflow-object-detection-api) (6.6.3)\n",
      "Requirement already satisfied: nbconvert in ./tfod3.9/lib/python3.9/site-packages (from jupyter->tensorflow-object-detection-api) (7.13.1)\n",
      "Requirement already satisfied: ipykernel in ./tfod3.9/lib/python3.9/site-packages (from jupyter->tensorflow-object-detection-api) (6.28.0)\n",
      "Requirement already satisfied: ipywidgets in ./tfod3.9/lib/python3.9/site-packages (from jupyter->tensorflow-object-detection-api) (8.1.1)\n",
      "Requirement already satisfied: absl-py>=1.0.0 in ./tfod3.9/lib/python3.9/site-packages (from tensorflow->tensorflow-object-detection-api) (1.4.0)\n",
      "Requirement already satisfied: astunparse>=1.6.0 in ./tfod3.9/lib/python3.9/site-packages (from tensorflow->tensorflow-object-detection-api) (1.6.3)\n",
      "Requirement already satisfied: flatbuffers>=23.5.26 in ./tfod3.9/lib/python3.9/site-packages (from tensorflow->tensorflow-object-detection-api) (23.5.26)\n",
      "Requirement already satisfied: gast!=0.5.0,!=0.5.1,!=0.5.2,>=0.2.1 in ./tfod3.9/lib/python3.9/site-packages (from tensorflow->tensorflow-object-detection-api) (0.5.4)\n",
      "Requirement already satisfied: google-pasta>=0.1.1 in ./tfod3.9/lib/python3.9/site-packages (from tensorflow->tensorflow-object-detection-api) (0.2.0)\n",
      "Requirement already satisfied: h5py>=2.9.0 in ./tfod3.9/lib/python3.9/site-packages (from tensorflow->tensorflow-object-detection-api) (3.10.0)\n",
      "Requirement already satisfied: libclang>=13.0.0 in ./tfod3.9/lib/python3.9/site-packages (from tensorflow->tensorflow-object-detection-api) (16.0.6)\n",
      "Requirement already satisfied: ml-dtypes~=0.2.0 in ./tfod3.9/lib/python3.9/site-packages (from tensorflow->tensorflow-object-detection-api) (0.2.0)\n",
      "Requirement already satisfied: opt-einsum>=2.3.2 in ./tfod3.9/lib/python3.9/site-packages (from tensorflow->tensorflow-object-detection-api) (3.3.0)\n",
      "Requirement already satisfied: setuptools in ./tfod3.9/lib/python3.9/site-packages (from tensorflow->tensorflow-object-detection-api) (69.0.3)\n",
      "Requirement already satisfied: six>=1.12.0 in ./tfod3.9/lib/python3.9/site-packages (from tensorflow->tensorflow-object-detection-api) (1.16.0)\n",
      "Requirement already satisfied: termcolor>=1.1.0 in ./tfod3.9/lib/python3.9/site-packages (from tensorflow->tensorflow-object-detection-api) (2.4.0)\n",
      "Requirement already satisfied: typing-extensions>=3.6.6 in ./tfod3.9/lib/python3.9/site-packages (from tensorflow->tensorflow-object-detection-api) (4.9.0)\n",
      "Requirement already satisfied: wrapt<1.15,>=1.11.0 in ./tfod3.9/lib/python3.9/site-packages (from tensorflow->tensorflow-object-detection-api) (1.14.1)\n",
      "Requirement already satisfied: tensorflow-io-gcs-filesystem>=0.23.1 in ./tfod3.9/lib/python3.9/site-packages (from tensorflow->tensorflow-object-detection-api) (0.35.0)\n",
      "Requirement already satisfied: grpcio<2.0,>=1.24.3 in ./tfod3.9/lib/python3.9/site-packages (from tensorflow->tensorflow-object-detection-api) (1.60.0)\n",
      "Requirement already satisfied: tensorboard<2.16,>=2.15 in ./tfod3.9/lib/python3.9/site-packages (from tensorflow->tensorflow-object-detection-api) (2.15.1)\n",
      "Requirement already satisfied: tensorflow-estimator<2.16,>=2.15.0 in ./tfod3.9/lib/python3.9/site-packages (from tensorflow->tensorflow-object-detection-api) (2.15.0)\n",
      "Requirement already satisfied: keras<2.16,>=2.15.0 in ./tfod3.9/lib/python3.9/site-packages (from tensorflow->tensorflow-object-detection-api) (2.15.0)\n",
      "Requirement already satisfied: pkginfo>=1.8.1 in ./tfod3.9/lib/python3.9/site-packages (from twine->tensorflow-object-detection-api) (1.9.6)\n",
      "Requirement already satisfied: readme-renderer>=35.0 in ./tfod3.9/lib/python3.9/site-packages (from twine->tensorflow-object-detection-api) (42.0)\n",
      "Requirement already satisfied: requests>=2.20 in ./tfod3.9/lib/python3.9/site-packages (from twine->tensorflow-object-detection-api) (2.31.0)\n",
      "Requirement already satisfied: requests-toolbelt!=0.9.0,>=0.8.0 in ./tfod3.9/lib/python3.9/site-packages (from twine->tensorflow-object-detection-api) (1.0.0)\n",
      "Requirement already satisfied: urllib3>=1.26.0 in ./tfod3.9/lib/python3.9/site-packages (from twine->tensorflow-object-detection-api) (2.1.0)\n",
      "Requirement already satisfied: importlib-metadata>=3.6 in ./tfod3.9/lib/python3.9/site-packages (from twine->tensorflow-object-detection-api) (7.0.1)\n",
      "Requirement already satisfied: keyring>=15.1 in ./tfod3.9/lib/python3.9/site-packages (from twine->tensorflow-object-detection-api) (24.3.0)\n",
      "Requirement already satisfied: rfc3986>=1.4.0 in ./tfod3.9/lib/python3.9/site-packages (from twine->tensorflow-object-detection-api) (2.0.0)\n",
      "Requirement already satisfied: rich>=12.0.0 in ./tfod3.9/lib/python3.9/site-packages (from twine->tensorflow-object-detection-api) (13.7.0)\n",
      "Requirement already satisfied: zipp>=0.5 in ./tfod3.9/lib/python3.9/site-packages (from importlib-metadata>=3.6->twine->tensorflow-object-detection-api) (3.17.0)\n",
      "Requirement already satisfied: jaraco.classes in ./tfod3.9/lib/python3.9/site-packages (from keyring>=15.1->twine->tensorflow-object-detection-api) (3.3.0)\n",
      "Requirement already satisfied: nh3>=0.2.14 in ./tfod3.9/lib/python3.9/site-packages (from readme-renderer>=35.0->twine->tensorflow-object-detection-api) (0.2.15)\n",
      "Requirement already satisfied: docutils>=0.13.1 in ./tfod3.9/lib/python3.9/site-packages (from readme-renderer>=35.0->twine->tensorflow-object-detection-api) (0.20.1)\n",
      "Requirement already satisfied: Pygments>=2.5.1 in ./tfod3.9/lib/python3.9/site-packages (from readme-renderer>=35.0->twine->tensorflow-object-detection-api) (2.17.2)\n",
      "Requirement already satisfied: charset-normalizer<4,>=2 in ./tfod3.9/lib/python3.9/site-packages (from requests>=2.20->twine->tensorflow-object-detection-api) (3.3.2)\n",
      "Requirement already satisfied: idna<4,>=2.5 in ./tfod3.9/lib/python3.9/site-packages (from requests>=2.20->twine->tensorflow-object-detection-api) (3.6)\n",
      "Requirement already satisfied: certifi>=2017.4.17 in ./tfod3.9/lib/python3.9/site-packages (from requests>=2.20->twine->tensorflow-object-detection-api) (2023.11.17)\n",
      "Requirement already satisfied: markdown-it-py>=2.2.0 in ./tfod3.9/lib/python3.9/site-packages (from rich>=12.0.0->twine->tensorflow-object-detection-api) (3.0.0)\n",
      "Requirement already satisfied: google-auth<3,>=1.6.3 in ./tfod3.9/lib/python3.9/site-packages (from tensorboard<2.16,>=2.15->tensorflow->tensorflow-object-detection-api) (2.25.2)\n",
      "Requirement already satisfied: google-auth-oauthlib<2,>=0.5 in ./tfod3.9/lib/python3.9/site-packages (from tensorboard<2.16,>=2.15->tensorflow->tensorflow-object-detection-api) (1.0.0)\n",
      "Requirement already satisfied: markdown>=2.6.8 in ./tfod3.9/lib/python3.9/site-packages (from tensorboard<2.16,>=2.15->tensorflow->tensorflow-object-detection-api) (3.5.1)\n",
      "  Using cached protobuf-4.23.4-cp37-abi3-macosx_10_9_universal2.whl.metadata (540 bytes)\n",
      "Requirement already satisfied: tensorboard-data-server<0.8.0,>=0.7.0 in ./tfod3.9/lib/python3.9/site-packages (from tensorboard<2.16,>=2.15->tensorflow->tensorflow-object-detection-api) (0.7.2)\n",
      "Requirement already satisfied: werkzeug>=1.0.1 in ./tfod3.9/lib/python3.9/site-packages (from tensorboard<2.16,>=2.15->tensorflow->tensorflow-object-detection-api) (3.0.1)\n",
      "Requirement already satisfied: appnope in ./tfod3.9/lib/python3.9/site-packages (from ipykernel->jupyter->tensorflow-object-detection-api) (0.1.3)\n",
      "Requirement already satisfied: comm>=0.1.1 in ./tfod3.9/lib/python3.9/site-packages (from ipykernel->jupyter->tensorflow-object-detection-api) (0.2.0)\n",
      "Requirement already satisfied: debugpy>=1.6.5 in ./tfod3.9/lib/python3.9/site-packages (from ipykernel->jupyter->tensorflow-object-detection-api) (1.8.0)\n",
      "Requirement already satisfied: ipython>=7.23.1 in ./tfod3.9/lib/python3.9/site-packages (from ipykernel->jupyter->tensorflow-object-detection-api) (8.18.1)\n",
      "Requirement already satisfied: jupyter-client>=6.1.12 in ./tfod3.9/lib/python3.9/site-packages (from ipykernel->jupyter->tensorflow-object-detection-api) (8.6.0)\n",
      "Requirement already satisfied: jupyter-core!=5.0.*,>=4.12 in ./tfod3.9/lib/python3.9/site-packages (from ipykernel->jupyter->tensorflow-object-detection-api) (5.5.1)\n",
      "Requirement already satisfied: matplotlib-inline>=0.1 in ./tfod3.9/lib/python3.9/site-packages (from ipykernel->jupyter->tensorflow-object-detection-api) (0.1.6)\n",
      "Requirement already satisfied: nest-asyncio in ./tfod3.9/lib/python3.9/site-packages (from ipykernel->jupyter->tensorflow-object-detection-api) (1.5.8)\n",
      "Requirement already satisfied: psutil in ./tfod3.9/lib/python3.9/site-packages (from ipykernel->jupyter->tensorflow-object-detection-api) (5.9.7)\n",
      "Requirement already satisfied: pyzmq>=24 in ./tfod3.9/lib/python3.9/site-packages (from ipykernel->jupyter->tensorflow-object-detection-api) (25.1.2)\n",
      "Requirement already satisfied: tornado>=6.1 in ./tfod3.9/lib/python3.9/site-packages (from ipykernel->jupyter->tensorflow-object-detection-api) (6.4)\n",
      "Requirement already satisfied: traitlets>=5.4.0 in ./tfod3.9/lib/python3.9/site-packages (from ipykernel->jupyter->tensorflow-object-detection-api) (5.14.0)\n",
      "Requirement already satisfied: widgetsnbextension~=4.0.9 in ./tfod3.9/lib/python3.9/site-packages (from ipywidgets->jupyter->tensorflow-object-detection-api) (4.0.9)\n",
      "Requirement already satisfied: jupyterlab-widgets~=3.0.9 in ./tfod3.9/lib/python3.9/site-packages (from ipywidgets->jupyter->tensorflow-object-detection-api) (3.0.9)\n",
      "Requirement already satisfied: prompt-toolkit>=3.0.30 in ./tfod3.9/lib/python3.9/site-packages (from jupyter-console->jupyter->tensorflow-object-detection-api) (3.0.43)\n",
      "Requirement already satisfied: beautifulsoup4 in ./tfod3.9/lib/python3.9/site-packages (from nbconvert->jupyter->tensorflow-object-detection-api) (4.12.2)\n",
      "Requirement already satisfied: bleach!=5.0.0 in ./tfod3.9/lib/python3.9/site-packages (from nbconvert->jupyter->tensorflow-object-detection-api) (6.1.0)\n",
      "Requirement already satisfied: defusedxml in ./tfod3.9/lib/python3.9/site-packages (from nbconvert->jupyter->tensorflow-object-detection-api) (0.7.1)\n",
      "Requirement already satisfied: jinja2>=3.0 in ./tfod3.9/lib/python3.9/site-packages (from nbconvert->jupyter->tensorflow-object-detection-api) (3.1.2)\n",
      "Requirement already satisfied: jupyterlab-pygments in ./tfod3.9/lib/python3.9/site-packages (from nbconvert->jupyter->tensorflow-object-detection-api) (0.3.0)\n",
      "Requirement already satisfied: markupsafe>=2.0 in ./tfod3.9/lib/python3.9/site-packages (from nbconvert->jupyter->tensorflow-object-detection-api) (2.1.3)\n",
      "Requirement already satisfied: mistune<4,>=2.0.3 in ./tfod3.9/lib/python3.9/site-packages (from nbconvert->jupyter->tensorflow-object-detection-api) (3.0.2)\n",
      "Requirement already satisfied: nbclient>=0.5.0 in ./tfod3.9/lib/python3.9/site-packages (from nbconvert->jupyter->tensorflow-object-detection-api) (0.9.0)\n",
      "Requirement already satisfied: nbformat>=5.7 in ./tfod3.9/lib/python3.9/site-packages (from nbconvert->jupyter->tensorflow-object-detection-api) (5.9.2)\n",
      "Requirement already satisfied: pandocfilters>=1.4.1 in ./tfod3.9/lib/python3.9/site-packages (from nbconvert->jupyter->tensorflow-object-detection-api) (1.5.0)\n",
      "Requirement already satisfied: tinycss2 in ./tfod3.9/lib/python3.9/site-packages (from nbconvert->jupyter->tensorflow-object-detection-api) (1.2.1)\n",
      "Requirement already satisfied: jupyter-server<3,>=2.4.0 in ./tfod3.9/lib/python3.9/site-packages (from notebook->jupyter->tensorflow-object-detection-api) (2.12.1)\n",
      "Requirement already satisfied: jupyterlab-server<3,>=2.22.1 in ./tfod3.9/lib/python3.9/site-packages (from notebook->jupyter->tensorflow-object-detection-api) (2.25.2)\n",
      "Requirement already satisfied: jupyterlab<5,>=4.0.2 in ./tfod3.9/lib/python3.9/site-packages (from notebook->jupyter->tensorflow-object-detection-api) (4.0.9)\n",
      "Requirement already satisfied: notebook-shim<0.3,>=0.2 in ./tfod3.9/lib/python3.9/site-packages (from notebook->jupyter->tensorflow-object-detection-api) (0.2.3)\n",
      "Requirement already satisfied: qtpy>=2.4.0 in ./tfod3.9/lib/python3.9/site-packages (from qtconsole->jupyter->tensorflow-object-detection-api) (2.4.1)\n",
      "Requirement already satisfied: webencodings in ./tfod3.9/lib/python3.9/site-packages (from bleach!=5.0.0->nbconvert->jupyter->tensorflow-object-detection-api) (0.5.1)\n",
      "Requirement already satisfied: cachetools<6.0,>=2.0.0 in ./tfod3.9/lib/python3.9/site-packages (from google-auth<3,>=1.6.3->tensorboard<2.16,>=2.15->tensorflow->tensorflow-object-detection-api) (5.3.2)\n",
      "Requirement already satisfied: pyasn1-modules>=0.2.1 in ./tfod3.9/lib/python3.9/site-packages (from google-auth<3,>=1.6.3->tensorboard<2.16,>=2.15->tensorflow->tensorflow-object-detection-api) (0.3.0)\n",
      "Requirement already satisfied: rsa<5,>=3.1.4 in ./tfod3.9/lib/python3.9/site-packages (from google-auth<3,>=1.6.3->tensorboard<2.16,>=2.15->tensorflow->tensorflow-object-detection-api) (4.9)\n",
      "Requirement already satisfied: requests-oauthlib>=0.7.0 in ./tfod3.9/lib/python3.9/site-packages (from google-auth-oauthlib<2,>=0.5->tensorboard<2.16,>=2.15->tensorflow->tensorflow-object-detection-api) (1.3.1)\n",
      "Requirement already satisfied: decorator in ./tfod3.9/lib/python3.9/site-packages (from ipython>=7.23.1->ipykernel->jupyter->tensorflow-object-detection-api) (5.1.1)\n",
      "Requirement already satisfied: jedi>=0.16 in ./tfod3.9/lib/python3.9/site-packages (from ipython>=7.23.1->ipykernel->jupyter->tensorflow-object-detection-api) (0.19.1)\n",
      "Requirement already satisfied: stack-data in ./tfod3.9/lib/python3.9/site-packages (from ipython>=7.23.1->ipykernel->jupyter->tensorflow-object-detection-api) (0.6.3)\n",
      "Requirement already satisfied: exceptiongroup in ./tfod3.9/lib/python3.9/site-packages (from ipython>=7.23.1->ipykernel->jupyter->tensorflow-object-detection-api) (1.2.0)\n",
      "Requirement already satisfied: pexpect>4.3 in ./tfod3.9/lib/python3.9/site-packages (from ipython>=7.23.1->ipykernel->jupyter->tensorflow-object-detection-api) (4.9.0)\n",
      "Requirement already satisfied: platformdirs>=2.5 in ./tfod3.9/lib/python3.9/site-packages (from jupyter-core!=5.0.*,>=4.12->ipykernel->jupyter->tensorflow-object-detection-api) (4.1.0)\n",
      "Requirement already satisfied: anyio>=3.1.0 in ./tfod3.9/lib/python3.9/site-packages (from jupyter-server<3,>=2.4.0->notebook->jupyter->tensorflow-object-detection-api) (4.2.0)\n",
      "Requirement already satisfied: argon2-cffi in ./tfod3.9/lib/python3.9/site-packages (from jupyter-server<3,>=2.4.0->notebook->jupyter->tensorflow-object-detection-api) (23.1.0)\n",
      "Requirement already satisfied: jupyter-events>=0.9.0 in ./tfod3.9/lib/python3.9/site-packages (from jupyter-server<3,>=2.4.0->notebook->jupyter->tensorflow-object-detection-api) (0.9.0)\n",
      "Requirement already satisfied: jupyter-server-terminals in ./tfod3.9/lib/python3.9/site-packages (from jupyter-server<3,>=2.4.0->notebook->jupyter->tensorflow-object-detection-api) (0.5.1)\n",
      "Requirement already satisfied: overrides in ./tfod3.9/lib/python3.9/site-packages (from jupyter-server<3,>=2.4.0->notebook->jupyter->tensorflow-object-detection-api) (7.4.0)\n",
      "Requirement already satisfied: prometheus-client in ./tfod3.9/lib/python3.9/site-packages (from jupyter-server<3,>=2.4.0->notebook->jupyter->tensorflow-object-detection-api) (0.19.0)\n",
      "Requirement already satisfied: send2trash>=1.8.2 in ./tfod3.9/lib/python3.9/site-packages (from jupyter-server<3,>=2.4.0->notebook->jupyter->tensorflow-object-detection-api) (1.8.2)\n",
      "Requirement already satisfied: terminado>=0.8.3 in ./tfod3.9/lib/python3.9/site-packages (from jupyter-server<3,>=2.4.0->notebook->jupyter->tensorflow-object-detection-api) (0.18.0)\n",
      "Requirement already satisfied: websocket-client in ./tfod3.9/lib/python3.9/site-packages (from jupyter-server<3,>=2.4.0->notebook->jupyter->tensorflow-object-detection-api) (1.7.0)\n",
      "Requirement already satisfied: async-lru>=1.0.0 in ./tfod3.9/lib/python3.9/site-packages (from jupyterlab<5,>=4.0.2->notebook->jupyter->tensorflow-object-detection-api) (2.0.4)\n",
      "Requirement already satisfied: jupyter-lsp>=2.0.0 in ./tfod3.9/lib/python3.9/site-packages (from jupyterlab<5,>=4.0.2->notebook->jupyter->tensorflow-object-detection-api) (2.2.1)\n",
      "Requirement already satisfied: tomli in ./tfod3.9/lib/python3.9/site-packages (from jupyterlab<5,>=4.0.2->notebook->jupyter->tensorflow-object-detection-api) (2.0.1)\n",
      "Requirement already satisfied: babel>=2.10 in ./tfod3.9/lib/python3.9/site-packages (from jupyterlab-server<3,>=2.22.1->notebook->jupyter->tensorflow-object-detection-api) (2.14.0)\n",
      "Requirement already satisfied: json5>=0.9.0 in ./tfod3.9/lib/python3.9/site-packages (from jupyterlab-server<3,>=2.22.1->notebook->jupyter->tensorflow-object-detection-api) (0.9.14)\n",
      "Requirement already satisfied: jsonschema>=4.18.0 in ./tfod3.9/lib/python3.9/site-packages (from jupyterlab-server<3,>=2.22.1->notebook->jupyter->tensorflow-object-detection-api) (4.20.0)\n",
      "Requirement already satisfied: mdurl~=0.1 in ./tfod3.9/lib/python3.9/site-packages (from markdown-it-py>=2.2.0->rich>=12.0.0->twine->tensorflow-object-detection-api) (0.1.2)\n",
      "Requirement already satisfied: fastjsonschema in ./tfod3.9/lib/python3.9/site-packages (from nbformat>=5.7->nbconvert->jupyter->tensorflow-object-detection-api) (2.19.1)\n",
      "Requirement already satisfied: wcwidth in ./tfod3.9/lib/python3.9/site-packages (from prompt-toolkit>=3.0.30->jupyter-console->jupyter->tensorflow-object-detection-api) (0.2.12)\n",
      "Requirement already satisfied: soupsieve>1.2 in ./tfod3.9/lib/python3.9/site-packages (from beautifulsoup4->nbconvert->jupyter->tensorflow-object-detection-api) (2.5)\n",
      "Requirement already satisfied: more-itertools in ./tfod3.9/lib/python3.9/site-packages (from jaraco.classes->keyring>=15.1->twine->tensorflow-object-detection-api) (10.1.0)\n",
      "Requirement already satisfied: sniffio>=1.1 in ./tfod3.9/lib/python3.9/site-packages (from anyio>=3.1.0->jupyter-server<3,>=2.4.0->notebook->jupyter->tensorflow-object-detection-api) (1.3.0)\n",
      "Requirement already satisfied: parso<0.9.0,>=0.8.3 in ./tfod3.9/lib/python3.9/site-packages (from jedi>=0.16->ipython>=7.23.1->ipykernel->jupyter->tensorflow-object-detection-api) (0.8.3)\n",
      "Requirement already satisfied: attrs>=22.2.0 in ./tfod3.9/lib/python3.9/site-packages (from jsonschema>=4.18.0->jupyterlab-server<3,>=2.22.1->notebook->jupyter->tensorflow-object-detection-api) (23.1.0)\n",
      "Requirement already satisfied: jsonschema-specifications>=2023.03.6 in ./tfod3.9/lib/python3.9/site-packages (from jsonschema>=4.18.0->jupyterlab-server<3,>=2.22.1->notebook->jupyter->tensorflow-object-detection-api) (2023.12.1)\n",
      "Requirement already satisfied: referencing>=0.28.4 in ./tfod3.9/lib/python3.9/site-packages (from jsonschema>=4.18.0->jupyterlab-server<3,>=2.22.1->notebook->jupyter->tensorflow-object-detection-api) (0.32.0)\n",
      "Requirement already satisfied: rpds-py>=0.7.1 in ./tfod3.9/lib/python3.9/site-packages (from jsonschema>=4.18.0->jupyterlab-server<3,>=2.22.1->notebook->jupyter->tensorflow-object-detection-api) (0.16.2)\n",
      "Requirement already satisfied: python-json-logger>=2.0.4 in ./tfod3.9/lib/python3.9/site-packages (from jupyter-events>=0.9.0->jupyter-server<3,>=2.4.0->notebook->jupyter->tensorflow-object-detection-api) (2.0.7)\n",
      "Requirement already satisfied: pyyaml>=5.3 in ./tfod3.9/lib/python3.9/site-packages (from jupyter-events>=0.9.0->jupyter-server<3,>=2.4.0->notebook->jupyter->tensorflow-object-detection-api) (6.0)\n",
      "Requirement already satisfied: rfc3339-validator in ./tfod3.9/lib/python3.9/site-packages (from jupyter-events>=0.9.0->jupyter-server<3,>=2.4.0->notebook->jupyter->tensorflow-object-detection-api) (0.1.4)\n",
      "Requirement already satisfied: rfc3986-validator>=0.1.1 in ./tfod3.9/lib/python3.9/site-packages (from jupyter-events>=0.9.0->jupyter-server<3,>=2.4.0->notebook->jupyter->tensorflow-object-detection-api) (0.1.1)\n",
      "Requirement already satisfied: ptyprocess>=0.5 in ./tfod3.9/lib/python3.9/site-packages (from pexpect>4.3->ipython>=7.23.1->ipykernel->jupyter->tensorflow-object-detection-api) (0.7.0)\n",
      "Requirement already satisfied: pyasn1<0.6.0,>=0.4.6 in ./tfod3.9/lib/python3.9/site-packages (from pyasn1-modules>=0.2.1->google-auth<3,>=1.6.3->tensorboard<2.16,>=2.15->tensorflow->tensorflow-object-detection-api) (0.5.1)\n",
      "Requirement already satisfied: oauthlib>=3.0.0 in ./tfod3.9/lib/python3.9/site-packages (from requests-oauthlib>=0.7.0->google-auth-oauthlib<2,>=0.5->tensorboard<2.16,>=2.15->tensorflow->tensorflow-object-detection-api) (3.2.2)\n",
      "Requirement already satisfied: argon2-cffi-bindings in ./tfod3.9/lib/python3.9/site-packages (from argon2-cffi->jupyter-server<3,>=2.4.0->notebook->jupyter->tensorflow-object-detection-api) (21.2.0)\n",
      "Requirement already satisfied: executing>=1.2.0 in ./tfod3.9/lib/python3.9/site-packages (from stack-data->ipython>=7.23.1->ipykernel->jupyter->tensorflow-object-detection-api) (2.0.1)\n",
      "Requirement already satisfied: asttokens>=2.1.0 in ./tfod3.9/lib/python3.9/site-packages (from stack-data->ipython>=7.23.1->ipykernel->jupyter->tensorflow-object-detection-api) (2.4.1)\n",
      "Requirement already satisfied: pure-eval in ./tfod3.9/lib/python3.9/site-packages (from stack-data->ipython>=7.23.1->ipykernel->jupyter->tensorflow-object-detection-api) (0.2.2)\n",
      "Requirement already satisfied: fqdn in ./tfod3.9/lib/python3.9/site-packages (from jsonschema[format-nongpl]>=4.18.0->jupyter-events>=0.9.0->jupyter-server<3,>=2.4.0->notebook->jupyter->tensorflow-object-detection-api) (1.5.1)\n",
      "Requirement already satisfied: isoduration in ./tfod3.9/lib/python3.9/site-packages (from jsonschema[format-nongpl]>=4.18.0->jupyter-events>=0.9.0->jupyter-server<3,>=2.4.0->notebook->jupyter->tensorflow-object-detection-api) (20.11.0)\n",
      "Requirement already satisfied: jsonpointer>1.13 in ./tfod3.9/lib/python3.9/site-packages (from jsonschema[format-nongpl]>=4.18.0->jupyter-events>=0.9.0->jupyter-server<3,>=2.4.0->notebook->jupyter->tensorflow-object-detection-api) (2.4)\n",
      "Requirement already satisfied: uri-template in ./tfod3.9/lib/python3.9/site-packages (from jsonschema[format-nongpl]>=4.18.0->jupyter-events>=0.9.0->jupyter-server<3,>=2.4.0->notebook->jupyter->tensorflow-object-detection-api) (1.3.0)\n",
      "Requirement already satisfied: webcolors>=1.11 in ./tfod3.9/lib/python3.9/site-packages (from jsonschema[format-nongpl]>=4.18.0->jupyter-events>=0.9.0->jupyter-server<3,>=2.4.0->notebook->jupyter->tensorflow-object-detection-api) (1.13)\n",
      "Requirement already satisfied: cffi>=1.0.1 in ./tfod3.9/lib/python3.9/site-packages (from argon2-cffi-bindings->argon2-cffi->jupyter-server<3,>=2.4.0->notebook->jupyter->tensorflow-object-detection-api) (1.16.0)\n",
      "Requirement already satisfied: pycparser in ./tfod3.9/lib/python3.9/site-packages (from cffi>=1.0.1->argon2-cffi-bindings->argon2-cffi->jupyter-server<3,>=2.4.0->notebook->jupyter->tensorflow-object-detection-api) (2.21)\n",
      "Requirement already satisfied: arrow>=0.15.0 in ./tfod3.9/lib/python3.9/site-packages (from isoduration->jsonschema[format-nongpl]>=4.18.0->jupyter-events>=0.9.0->jupyter-server<3,>=2.4.0->notebook->jupyter->tensorflow-object-detection-api) (1.3.0)\n",
      "Requirement already satisfied: types-python-dateutil>=2.8.10 in ./tfod3.9/lib/python3.9/site-packages (from arrow>=0.15.0->isoduration->jsonschema[format-nongpl]>=4.18.0->jupyter-events>=0.9.0->jupyter-server<3,>=2.4.0->notebook->jupyter->tensorflow-object-detection-api) (2.8.19.14)\n",
      "Using cached matplotlib-3.8.2-cp39-cp39-macosx_10_12_x86_64.whl (7.6 MB)\n",
      "Using cached protobuf-4.23.4-cp37-abi3-macosx_10_9_universal2.whl (400 kB)\n",
      "Installing collected packages: Protobuf, Matplotlib\n",
      "\u001b[31mERROR: pip's dependency resolver does not currently take into account all the packages that are installed. This behaviour is the source of the following dependency conflicts.\n",
      "apache-beam 2.52.0 requires numpy<1.25.0,>=1.14.3, but you have numpy 1.26.2 which is incompatible.\n",
      "apache-beam 2.52.0 requires protobuf!=4.0.*,!=4.21.*,!=4.22.0,!=4.23.*,!=4.24.*,<4.26.0,>=3.20.3, but you have protobuf 4.23.4 which is incompatible.\n",
      "tensorflow-metadata 1.14.0 requires protobuf<4.21,>=3.20.3, but you have protobuf 4.23.4 which is incompatible.\u001b[0m\u001b[31m\n",
      "\u001b[0mSuccessfully installed Matplotlib-3.8.2 Protobuf-4.23.4\n",
      "Note: you may need to restart the kernel to use updated packages.\n"
     ]
    }
   ],
   "source": [
    "%pip install tensorflow-object-detection-api"
   ]
  },
  {
   "cell_type": "code",
   "execution_count": 29,
   "metadata": {},
   "outputs": [],
   "source": [
    "import object_detection"
   ]
  },
  {
   "cell_type": "code",
   "execution_count": 30,
   "metadata": {
    "scrolled": true
   },
   "outputs": [
    {
     "name": "stdout",
     "output_type": "stream",
     "text": [
      "Package                         Version\n",
      "------------------------------- ------------\n",
      "absl-py                         1.4.0\n",
      "anyio                           4.2.0\n",
      "apache-beam                     2.52.0\n",
      "appnope                         0.1.3\n",
      "argon2-cffi                     23.1.0\n",
      "argon2-cffi-bindings            21.2.0\n",
      "array-record                    0.4.1\n",
      "arrow                           1.3.0\n",
      "asttokens                       2.4.1\n",
      "astunparse                      1.6.3\n",
      "async-lru                       2.0.4\n",
      "attrs                           23.1.0\n",
      "avro-python3                    1.10.2\n",
      "Babel                           2.14.0\n",
      "beautifulsoup4                  4.12.2\n",
      "bleach                          6.1.0\n",
      "cachetools                      5.3.2\n",
      "certifi                         2023.11.17\n",
      "cffi                            1.16.0\n",
      "charset-normalizer              3.3.2\n",
      "click                           8.1.7\n",
      "cloudpickle                     2.2.1\n",
      "colorama                        0.4.6\n",
      "comm                            0.2.0\n",
      "contextlib2                     21.6.0\n",
      "contourpy                       1.2.0\n",
      "crcmod                          1.7\n",
      "cycler                          0.12.1\n",
      "Cython                          0.29.37\n",
      "debugpy                         1.8.0\n",
      "decorator                       5.1.1\n",
      "defusedxml                      0.7.1\n",
      "dill                            0.3.1.1\n",
      "dm-tree                         0.1.8\n",
      "dnspython                       2.4.2\n",
      "docopt                          0.6.2\n",
      "docutils                        0.20.1\n",
      "etils                           1.5.2\n",
      "exceptiongroup                  1.2.0\n",
      "executing                       2.0.1\n",
      "fastavro                        1.9.2\n",
      "fasteners                       0.19\n",
      "fastjsonschema                  2.19.1\n",
      "flatbuffers                     23.5.26\n",
      "fonttools                       4.47.0\n",
      "fqdn                            1.5.1\n",
      "fsspec                          2023.12.2\n",
      "gast                            0.5.4\n",
      "gin-config                      0.5.0\n",
      "google-api-core                 2.15.0\n",
      "google-api-python-client        2.111.0\n",
      "google-auth                     2.25.2\n",
      "google-auth-httplib2            0.2.0\n",
      "google-auth-oauthlib            1.0.0\n",
      "google-pasta                    0.2.0\n",
      "googleapis-common-protos        1.62.0\n",
      "grpcio                          1.60.0\n",
      "h5py                            3.10.0\n",
      "hdfs                            2.7.3\n",
      "httplib2                        0.22.0\n",
      "idna                            3.6\n",
      "immutabledict                   4.1.0\n",
      "importlib-metadata              7.0.1\n",
      "importlib-resources             6.1.1\n",
      "ipykernel                       6.28.0\n",
      "ipython                         8.18.1\n",
      "ipywidgets                      8.1.1\n",
      "isoduration                     20.11.0\n",
      "jaraco.classes                  3.3.0\n",
      "jedi                            0.19.1\n",
      "Jinja2                          3.1.2\n",
      "joblib                          1.3.2\n",
      "Js2Py                           0.74\n",
      "json5                           0.9.14\n",
      "jsonpointer                     2.4\n",
      "jsonschema                      4.20.0\n",
      "jsonschema-specifications       2023.12.1\n",
      "jupyter                         1.0.0\n",
      "jupyter_client                  8.6.0\n",
      "jupyter-console                 6.6.3\n",
      "jupyter_core                    5.5.1\n",
      "jupyter-events                  0.9.0\n",
      "jupyter-lsp                     2.2.1\n",
      "jupyter_server                  2.12.1\n",
      "jupyter_server_terminals        0.5.1\n",
      "jupyterlab                      4.0.9\n",
      "jupyterlab_pygments             0.3.0\n",
      "jupyterlab_server               2.25.2\n",
      "jupyterlab-widgets              3.0.9\n",
      "kaggle                          1.5.16\n",
      "keras                           2.15.0\n",
      "keyring                         24.3.0\n",
      "kiwisolver                      1.4.5\n",
      "libclang                        16.0.6\n",
      "lvis                            0.5.3\n",
      "lxml                            4.9.4\n",
      "Markdown                        3.5.1\n",
      "markdown-it-py                  3.0.0\n",
      "MarkupSafe                      2.1.3\n",
      "matplotlib                      3.8.2\n",
      "matplotlib-inline               0.1.6\n",
      "mdurl                           0.1.2\n",
      "mistune                         3.0.2\n",
      "ml-dtypes                       0.2.0\n",
      "more-itertools                  10.1.0\n",
      "nbclient                        0.9.0\n",
      "nbconvert                       7.13.1\n",
      "nbformat                        5.9.2\n",
      "nest-asyncio                    1.5.8\n",
      "nh3                             0.2.15\n",
      "notebook                        7.0.6\n",
      "notebook_shim                   0.2.3\n",
      "numpy                           1.26.2\n",
      "oauth2client                    4.1.3\n",
      "oauthlib                        3.2.2\n",
      "object_detection                0.1\n",
      "objsize                         0.6.1\n",
      "opencv-python                   4.8.1.78\n",
      "opencv-python-headless          4.8.1.78\n",
      "opt-einsum                      3.3.0\n",
      "orjson                          3.9.10\n",
      "overrides                       7.4.0\n",
      "packaging                       23.2\n",
      "pandas                          2.1.4\n",
      "pandocfilters                   1.5.0\n",
      "parso                           0.8.3\n",
      "pexpect                         4.9.0\n",
      "Pillow                          10.1.0\n",
      "pip                             23.3.2\n",
      "pkginfo                         1.9.6\n",
      "platformdirs                    4.1.0\n",
      "portalocker                     2.8.2\n",
      "prometheus-client               0.19.0\n",
      "promise                         2.3\n",
      "prompt-toolkit                  3.0.43\n",
      "proto-plus                      1.23.0\n",
      "protobuf                        4.23.4\n",
      "psutil                          5.9.7\n",
      "ptyprocess                      0.7.0\n",
      "pure-eval                       0.2.2\n",
      "py-cpuinfo                      9.0.0\n",
      "pyarrow                         11.0.0\n",
      "pyarrow-hotfix                  0.6\n",
      "pyasn1                          0.5.1\n",
      "pyasn1-modules                  0.3.0\n",
      "pycocotools                     2.0.7\n",
      "pycparser                       2.21\n",
      "pydot                           1.4.2\n",
      "Pygments                        2.17.2\n",
      "pyjsparser                      2.7.1\n",
      "pymongo                         4.6.1\n",
      "pyparsing                       2.4.7\n",
      "PyQt5                           5.15.10\n",
      "PyQt5-Qt5                       5.15.12\n",
      "PyQt5-sip                       12.13.0\n",
      "python-dateutil                 2.8.2\n",
      "python-json-logger              2.0.7\n",
      "python-slugify                  8.0.1\n",
      "pytz                            2023.3.post1\n",
      "PyYAML                          6.0\n",
      "pyzmq                           25.1.2\n",
      "qtconsole                       5.5.1\n",
      "QtPy                            2.4.1\n",
      "readme-renderer                 42.0\n",
      "referencing                     0.32.0\n",
      "regex                           2023.12.25\n",
      "requests                        2.31.0\n",
      "requests-oauthlib               1.3.1\n",
      "requests-toolbelt               1.0.0\n",
      "rfc3339-validator               0.1.4\n",
      "rfc3986                         2.0.0\n",
      "rfc3986-validator               0.1.1\n",
      "rich                            13.7.0\n",
      "rpds-py                         0.16.2\n",
      "rsa                             4.9\n",
      "sacrebleu                       2.2.0\n",
      "scikit-learn                    1.3.2\n",
      "scipy                           1.11.4\n",
      "Send2Trash                      1.8.2\n",
      "sentencepiece                   0.1.99\n",
      "seqeval                         1.2.2\n",
      "setuptools                      69.0.3\n",
      "six                             1.16.0\n",
      "sniffio                         1.3.0\n",
      "soupsieve                       2.5\n",
      "stack-data                      0.6.3\n",
      "tabulate                        0.9.0\n",
      "tensorboard                     2.15.1\n",
      "tensorboard-data-server         0.7.2\n",
      "tensorflow                      2.15.0\n",
      "tensorflow-datasets             4.9.3\n",
      "tensorflow-estimator            2.15.0\n",
      "tensorflow-hub                  0.15.0\n",
      "tensorflow-io                   0.35.0\n",
      "tensorflow-io-gcs-filesystem    0.35.0\n",
      "tensorflow-metadata             1.14.0\n",
      "tensorflow-model-optimization   0.7.5\n",
      "tensorflow_object_detection_api 0.1.1\n",
      "tensorflow-text                 2.15.0\n",
      "termcolor                       2.4.0\n",
      "terminado                       0.18.0\n",
      "text-unidecode                  1.3\n",
      "tf-models-official              2.15.0\n",
      "tf-slim                         1.1.0\n",
      "threadpoolctl                   3.2.0\n",
      "tinycss2                        1.2.1\n",
      "toml                            0.10.2\n",
      "tomli                           2.0.1\n",
      "tornado                         6.4\n",
      "tqdm                            4.66.1\n",
      "traitlets                       5.14.0\n",
      "twine                           4.0.2\n",
      "types-python-dateutil           2.8.19.14\n",
      "typing_extensions               4.9.0\n",
      "tzdata                          2023.3\n",
      "tzlocal                         5.2\n",
      "uri-template                    1.3.0\n",
      "uritemplate                     4.1.1\n",
      "urllib3                         2.1.0\n",
      "wcwidth                         0.2.12\n",
      "webcolors                       1.13\n",
      "webencodings                    0.5.1\n",
      "websocket-client                1.7.0\n",
      "Werkzeug                        3.0.1\n",
      "wheel                           0.42.0\n",
      "widgetsnbextension              4.0.9\n",
      "wrapt                           1.14.1\n",
      "zipp                            3.17.0\n",
      "zstandard                       0.22.0\n",
      "Note: you may need to restart the kernel to use updated packages.\n"
     ]
    }
   ],
   "source": [
    "%pip list"
   ]
  },
  {
   "cell_type": "code",
   "execution_count": 33,
   "metadata": {
    "colab": {
     "base_uri": "https://localhost:8080/"
    },
    "id": "csofht2npfDE",
    "outputId": "ff5471b2-bed2-43f2-959c-327a706527b6"
   },
   "outputs": [
    {
     "name": "stdout",
     "output_type": "stream",
     "text": [
      "--2023-12-29 09:56:43--  http://download.tensorflow.org/models/object_detection/tf2/20200711/ssd_mobilenet_v2_fpnlite_320x320_coco17_tpu-8.tar.gz\n",
      "Resolving download.tensorflow.org (download.tensorflow.org)... 2607:f8b0:4005:80e::201b, 2607:f8b0:4005:80f::201b, 2607:f8b0:4005:810::201b, ...\n",
      "Connecting to download.tensorflow.org (download.tensorflow.org)|2607:f8b0:4005:80e::201b|:80... connected.\n",
      "HTTP request sent, awaiting response... 200 OK\n",
      "Length: 20515344 (20M) [application/x-tar]\n",
      "Saving to: ‘ssd_mobilenet_v2_fpnlite_320x320_coco17_tpu-8.tar.gz’\n",
      "\n",
      "ssd_mobilenet_v2_fp 100%[===================>]  19.56M  24.5MB/s    in 0.8s    \n",
      "\n",
      "2023-12-29 09:56:44 (24.5 MB/s) - ‘ssd_mobilenet_v2_fpnlite_320x320_coco17_tpu-8.tar.gz’ saved [20515344/20515344]\n",
      "\n",
      "x ssd_mobilenet_v2_fpnlite_320x320_coco17_tpu-8/\n",
      "x ssd_mobilenet_v2_fpnlite_320x320_coco17_tpu-8/checkpoint/\n",
      "x ssd_mobilenet_v2_fpnlite_320x320_coco17_tpu-8/checkpoint/ckpt-0.data-00000-of-00001\n",
      "x ssd_mobilenet_v2_fpnlite_320x320_coco17_tpu-8/checkpoint/checkpoint\n",
      "x ssd_mobilenet_v2_fpnlite_320x320_coco17_tpu-8/checkpoint/ckpt-0.index\n",
      "x ssd_mobilenet_v2_fpnlite_320x320_coco17_tpu-8/pipeline.config\n",
      "x ssd_mobilenet_v2_fpnlite_320x320_coco17_tpu-8/saved_model/\n",
      "x ssd_mobilenet_v2_fpnlite_320x320_coco17_tpu-8/saved_model/saved_model.pb\n",
      "x ssd_mobilenet_v2_fpnlite_320x320_coco17_tpu-8/saved_model/variables/\n",
      "x ssd_mobilenet_v2_fpnlite_320x320_coco17_tpu-8/saved_model/variables/variables.data-00000-of-00001\n",
      "x ssd_mobilenet_v2_fpnlite_320x320_coco17_tpu-8/saved_model/variables/variables.index\n"
     ]
    }
   ],
   "source": [
    "if os.name =='posix':\n",
    "    !wget {PRETRAINED_MODEL_URL}\n",
    "    !mv {PRETRAINED_MODEL_NAME+'.tar.gz'} {paths['PRETRAINED_MODEL_PATH']}\n",
    "    !cd {paths['PRETRAINED_MODEL_PATH']} && tar -zxvf {PRETRAINED_MODEL_NAME+'.tar.gz'}\n",
    "if os.name == 'nt':\n",
    "    wget.download(PRETRAINED_MODEL_URL)\n",
    "    %move {PRETRAINED_MODEL_NAME+'.tar.gz'} {paths['PRETRAINED_MODEL_PATH']}\n",
    "    %cd {paths['PRETRAINED_MODEL_PATH']} && tar -zxvf {PRETRAINED_MODEL_NAME+'.tar.gz'}"
   ]
  },
  {
   "cell_type": "markdown",
   "metadata": {
    "id": "M5KJTnkfpfDC"
   },
   "source": [
    "# 2. Create Label Map"
   ]
  },
  {
   "cell_type": "code",
   "execution_count": 34,
   "metadata": {
    "id": "p1BVDWo7pfDC"
   },
   "outputs": [],
   "source": [
    "labels = [{'name':'bacon', 'id':1},\n",
    "          {'name':'broccoli', 'id':2},\n",
    "          {'name':'fish', 'id':3},\n",
    "          {'name':'french_fries', 'id':4},\n",
    "          {'name':'grilled_chicken', 'id':5},\n",
    "          {'name':'lettuce', 'id':6},\n",
    "          {'name':'pasta', 'id':7},\n",
    "          {'name':'sausage', 'id':8},\n",
    "          {'name':'scrambled_egg', 'id':9}]\n",
    "\n",
    "with open(files['LABELMAP'], 'w') as f:\n",
    "    for label in labels:\n",
    "        f.write('item { \\n')\n",
    "        f.write('\\tname:\\'{}\\'\\n'.format(label['name']))\n",
    "        f.write('\\tid:{}\\n'.format(label['id']))\n",
    "        f.write('}\\n')"
   ]
  },
  {
   "cell_type": "markdown",
   "metadata": {
    "id": "C88zyVELpfDC"
   },
   "source": [
    "# 3. Create TF records"
   ]
  },
  {
   "cell_type": "code",
   "execution_count": 35,
   "metadata": {
    "colab": {
     "base_uri": "https://localhost:8080/"
    },
    "id": "kvf5WccwrFGq",
    "outputId": "49902aeb-0bd7-4298-e1a0-5b4a64eb2064"
   },
   "outputs": [],
   "source": [
    "# OPTIONAL IF RUNNING ON COLAB\n",
    "ARCHIVE_FILES = os.path.join(paths['IMAGE_PATH'], 'archive.tar.gz')\n",
    "if os.path.exists(ARCHIVE_FILES):\n",
    "  %tar -zxvf {ARCHIVE_FILES}"
   ]
  },
  {
   "cell_type": "code",
   "execution_count": 36,
   "metadata": {
    "colab": {
     "base_uri": "https://localhost:8080/"
    },
    "id": "KWpb_BVUpfDD",
    "outputId": "56ce2a3f-3933-4ee6-8a9d-d5ec65f7d73c"
   },
   "outputs": [],
   "source": [
    "if not os.path.exists(files['TF_RECORD_SCRIPT']):\n",
    "    %git clone https://github.com/nicknochnack/GenerateTFRecord {paths['SCRIPTS_PATH']}"
   ]
  },
  {
   "cell_type": "code",
   "execution_count": 39,
   "metadata": {
    "colab": {
     "base_uri": "https://localhost:8080/"
    },
    "id": "UPFToGZqpfDD",
    "outputId": "0ebb456f-aadc-4a1f-96e6-fbfec1923e1c"
   },
   "outputs": [],
   "source": [
    "# !pip uninstall numpy -y\n",
    "# !pip install numpy==1.23.0\n",
    "# !pip install matplotlib --upgrade\n",
    "# !pip install panda --upgrade \n",
    "\n",
    "!python {files['TF_RECORD_SCRIPT']} -x {os.path.join(paths['IMAGE_PATH'], 'train')} -l {files['LABELMAP']} -o {os.path.join(paths['ANNOTATION_PATH'], 'train.record')} \n",
    "!python {files['TF_RECORD_SCRIPT']} -x {os.path.join(paths['IMAGE_PATH'], 'test')} -l {files['LABELMAP']} -o {os.path.join(paths['ANNOTATION_PATH'], 'test.record')} "
   ]
  },
  {
   "cell_type": "markdown",
   "metadata": {
    "id": "qT4QU7pLpfDE"
   },
   "source": [
    "# 4. Copy Model Config to Training Folder"
   ]
  },
  {
   "cell_type": "code",
   "execution_count": 40,
   "metadata": {
    "id": "cOjuTFbwpfDF"
   },
   "outputs": [],
   "source": [
    "if os.name =='posix':\n",
    "    %cp {os.path.join(paths['PRETRAINED_MODEL_PATH'], PRETRAINED_MODEL_NAME, 'pipeline.config')} {os.path.join(paths['CHECKPOINT_PATH'])}\n",
    "if os.name == 'nt':\n",
    "    %copy {os.path.join(paths['PRETRAINED_MODEL_PATH'], PRETRAINED_MODEL_NAME, 'pipeline.config')} {os.path.join(paths['CHECKPOINT_PATH'])}"
   ]
  },
  {
   "cell_type": "code",
   "execution_count": 42,
   "metadata": {},
   "outputs": [
    {
     "name": "stdout",
     "output_type": "stream",
     "text": [
      "Found existing installation: keras 3.0.2\n",
      "Uninstalling keras-3.0.2:\n",
      "  Successfully uninstalled keras-3.0.2\n",
      "Note: you may need to restart the kernel to use updated packages.\n",
      "Collecting keras==2.15.0\n",
      "  Using cached keras-2.15.0-py3-none-any.whl.metadata (2.4 kB)\n",
      "Using cached keras-2.15.0-py3-none-any.whl (1.7 MB)\n",
      "Installing collected packages: keras\n",
      "Successfully installed keras-2.15.0\n",
      "Note: you may need to restart the kernel to use updated packages.\n"
     ]
    }
   ],
   "source": [
    "%pip uninstall keras -y\n",
    "%pip install keras==2.15.0"
   ]
  },
  {
   "cell_type": "code",
   "execution_count": 43,
   "metadata": {},
   "outputs": [
    {
     "name": "stdout",
     "output_type": "stream",
     "text": [
      "Found existing installation: tensorflow 2.15.0\n",
      "Uninstalling tensorflow-2.15.0:\n",
      "  Successfully uninstalled tensorflow-2.15.0\n",
      "Note: you may need to restart the kernel to use updated packages.\n",
      "Collecting tensorflow\n",
      "  Using cached tensorflow-2.15.0-cp39-cp39-macosx_10_15_x86_64.whl.metadata (4.2 kB)\n",
      "Requirement already satisfied: absl-py>=1.0.0 in ./tfod3.9/lib/python3.9/site-packages (from tensorflow) (1.4.0)\n",
      "Requirement already satisfied: astunparse>=1.6.0 in ./tfod3.9/lib/python3.9/site-packages (from tensorflow) (1.6.3)\n",
      "Requirement already satisfied: flatbuffers>=23.5.26 in ./tfod3.9/lib/python3.9/site-packages (from tensorflow) (23.5.26)\n",
      "Requirement already satisfied: gast!=0.5.0,!=0.5.1,!=0.5.2,>=0.2.1 in ./tfod3.9/lib/python3.9/site-packages (from tensorflow) (0.5.4)\n",
      "Requirement already satisfied: google-pasta>=0.1.1 in ./tfod3.9/lib/python3.9/site-packages (from tensorflow) (0.2.0)\n",
      "Requirement already satisfied: h5py>=2.9.0 in ./tfod3.9/lib/python3.9/site-packages (from tensorflow) (3.10.0)\n",
      "Requirement already satisfied: libclang>=13.0.0 in ./tfod3.9/lib/python3.9/site-packages (from tensorflow) (16.0.6)\n",
      "Requirement already satisfied: ml-dtypes~=0.2.0 in ./tfod3.9/lib/python3.9/site-packages (from tensorflow) (0.2.0)\n",
      "Requirement already satisfied: numpy<2.0.0,>=1.23.5 in ./tfod3.9/lib/python3.9/site-packages (from tensorflow) (1.26.2)\n",
      "Requirement already satisfied: opt-einsum>=2.3.2 in ./tfod3.9/lib/python3.9/site-packages (from tensorflow) (3.3.0)\n",
      "Requirement already satisfied: packaging in ./tfod3.9/lib/python3.9/site-packages (from tensorflow) (23.2)\n",
      "Requirement already satisfied: protobuf!=4.21.0,!=4.21.1,!=4.21.2,!=4.21.3,!=4.21.4,!=4.21.5,<5.0.0dev,>=3.20.3 in ./tfod3.9/lib/python3.9/site-packages (from tensorflow) (4.23.4)\n",
      "Requirement already satisfied: setuptools in ./tfod3.9/lib/python3.9/site-packages (from tensorflow) (69.0.3)\n",
      "Requirement already satisfied: six>=1.12.0 in ./tfod3.9/lib/python3.9/site-packages (from tensorflow) (1.16.0)\n",
      "Requirement already satisfied: termcolor>=1.1.0 in ./tfod3.9/lib/python3.9/site-packages (from tensorflow) (2.4.0)\n",
      "Requirement already satisfied: typing-extensions>=3.6.6 in ./tfod3.9/lib/python3.9/site-packages (from tensorflow) (4.9.0)\n",
      "Requirement already satisfied: wrapt<1.15,>=1.11.0 in ./tfod3.9/lib/python3.9/site-packages (from tensorflow) (1.14.1)\n",
      "Requirement already satisfied: tensorflow-io-gcs-filesystem>=0.23.1 in ./tfod3.9/lib/python3.9/site-packages (from tensorflow) (0.35.0)\n",
      "Requirement already satisfied: grpcio<2.0,>=1.24.3 in ./tfod3.9/lib/python3.9/site-packages (from tensorflow) (1.60.0)\n",
      "Requirement already satisfied: tensorboard<2.16,>=2.15 in ./tfod3.9/lib/python3.9/site-packages (from tensorflow) (2.15.1)\n",
      "Requirement already satisfied: tensorflow-estimator<2.16,>=2.15.0 in ./tfod3.9/lib/python3.9/site-packages (from tensorflow) (2.15.0)\n",
      "Requirement already satisfied: keras<2.16,>=2.15.0 in ./tfod3.9/lib/python3.9/site-packages (from tensorflow) (2.15.0)\n",
      "Requirement already satisfied: wheel<1.0,>=0.23.0 in ./tfod3.9/lib/python3.9/site-packages (from astunparse>=1.6.0->tensorflow) (0.42.0)\n",
      "Requirement already satisfied: google-auth<3,>=1.6.3 in ./tfod3.9/lib/python3.9/site-packages (from tensorboard<2.16,>=2.15->tensorflow) (2.25.2)\n",
      "Requirement already satisfied: google-auth-oauthlib<2,>=0.5 in ./tfod3.9/lib/python3.9/site-packages (from tensorboard<2.16,>=2.15->tensorflow) (1.0.0)\n",
      "Requirement already satisfied: markdown>=2.6.8 in ./tfod3.9/lib/python3.9/site-packages (from tensorboard<2.16,>=2.15->tensorflow) (3.5.1)\n",
      "Requirement already satisfied: requests<3,>=2.21.0 in ./tfod3.9/lib/python3.9/site-packages (from tensorboard<2.16,>=2.15->tensorflow) (2.31.0)\n",
      "Requirement already satisfied: tensorboard-data-server<0.8.0,>=0.7.0 in ./tfod3.9/lib/python3.9/site-packages (from tensorboard<2.16,>=2.15->tensorflow) (0.7.2)\n",
      "Requirement already satisfied: werkzeug>=1.0.1 in ./tfod3.9/lib/python3.9/site-packages (from tensorboard<2.16,>=2.15->tensorflow) (3.0.1)\n",
      "Requirement already satisfied: cachetools<6.0,>=2.0.0 in ./tfod3.9/lib/python3.9/site-packages (from google-auth<3,>=1.6.3->tensorboard<2.16,>=2.15->tensorflow) (5.3.2)\n",
      "Requirement already satisfied: pyasn1-modules>=0.2.1 in ./tfod3.9/lib/python3.9/site-packages (from google-auth<3,>=1.6.3->tensorboard<2.16,>=2.15->tensorflow) (0.3.0)\n",
      "Requirement already satisfied: rsa<5,>=3.1.4 in ./tfod3.9/lib/python3.9/site-packages (from google-auth<3,>=1.6.3->tensorboard<2.16,>=2.15->tensorflow) (4.9)\n",
      "Requirement already satisfied: requests-oauthlib>=0.7.0 in ./tfod3.9/lib/python3.9/site-packages (from google-auth-oauthlib<2,>=0.5->tensorboard<2.16,>=2.15->tensorflow) (1.3.1)\n",
      "Requirement already satisfied: importlib-metadata>=4.4 in ./tfod3.9/lib/python3.9/site-packages (from markdown>=2.6.8->tensorboard<2.16,>=2.15->tensorflow) (7.0.1)\n",
      "Requirement already satisfied: charset-normalizer<4,>=2 in ./tfod3.9/lib/python3.9/site-packages (from requests<3,>=2.21.0->tensorboard<2.16,>=2.15->tensorflow) (3.3.2)\n",
      "Requirement already satisfied: idna<4,>=2.5 in ./tfod3.9/lib/python3.9/site-packages (from requests<3,>=2.21.0->tensorboard<2.16,>=2.15->tensorflow) (3.6)\n",
      "Requirement already satisfied: urllib3<3,>=1.21.1 in ./tfod3.9/lib/python3.9/site-packages (from requests<3,>=2.21.0->tensorboard<2.16,>=2.15->tensorflow) (2.1.0)\n",
      "Requirement already satisfied: certifi>=2017.4.17 in ./tfod3.9/lib/python3.9/site-packages (from requests<3,>=2.21.0->tensorboard<2.16,>=2.15->tensorflow) (2023.11.17)\n",
      "Requirement already satisfied: MarkupSafe>=2.1.1 in ./tfod3.9/lib/python3.9/site-packages (from werkzeug>=1.0.1->tensorboard<2.16,>=2.15->tensorflow) (2.1.3)\n",
      "Requirement already satisfied: zipp>=0.5 in ./tfod3.9/lib/python3.9/site-packages (from importlib-metadata>=4.4->markdown>=2.6.8->tensorboard<2.16,>=2.15->tensorflow) (3.17.0)\n",
      "Requirement already satisfied: pyasn1<0.6.0,>=0.4.6 in ./tfod3.9/lib/python3.9/site-packages (from pyasn1-modules>=0.2.1->google-auth<3,>=1.6.3->tensorboard<2.16,>=2.15->tensorflow) (0.5.1)\n",
      "Requirement already satisfied: oauthlib>=3.0.0 in ./tfod3.9/lib/python3.9/site-packages (from requests-oauthlib>=0.7.0->google-auth-oauthlib<2,>=0.5->tensorboard<2.16,>=2.15->tensorflow) (3.2.2)\n",
      "Using cached tensorflow-2.15.0-cp39-cp39-macosx_10_15_x86_64.whl (239.1 MB)\n",
      "Installing collected packages: tensorflow\n",
      "Successfully installed tensorflow-2.15.0\n",
      "Note: you may need to restart the kernel to use updated packages.\n"
     ]
    }
   ],
   "source": [
    "%pip uninstall tensorflow -y\n",
    "%pip install tensorflow --upgrade "
   ]
  },
  {
   "cell_type": "code",
   "execution_count": 44,
   "metadata": {},
   "outputs": [
    {
     "name": "stdout",
     "output_type": "stream",
     "text": [
      "Hello\n"
     ]
    }
   ],
   "source": [
    "print(\"Hello\")"
   ]
  },
  {
   "cell_type": "markdown",
   "metadata": {
    "id": "Ga8gpNslpfDF"
   },
   "source": [
    "# 5. Update Config For Transfer Learning"
   ]
  },
  {
   "cell_type": "code",
   "execution_count": 45,
   "metadata": {
    "id": "Z9hRrO_ppfDF"
   },
   "outputs": [
    {
     "ename": "",
     "evalue": "",
     "output_type": "error",
     "traceback": [
      "\u001b[1;31mThe Kernel crashed while executing code in the the current cell or a previous cell. Please review the code in the cell(s) to identify a possible cause of the failure. Click <a href='https://aka.ms/vscodeJupyterKernelCrash'>here</a> for more info. View Jupyter <a href='command:jupyter.viewOutput'>log</a> for further details."
     ]
    }
   ],
   "source": [
    "import tensorflow as tf\n",
    "from object_detection.utils import config_util\n",
    "from object_detection.protos import pipeline_pb2\n",
    "from google.protobuf import text_format"
   ]
  },
  {
   "cell_type": "code",
   "execution_count": 1,
   "metadata": {
    "id": "c2A0mn4ipfDF"
   },
   "outputs": [
    {
     "ename": "NameError",
     "evalue": "name 'config_util' is not defined",
     "output_type": "error",
     "traceback": [
      "\u001b[0;31m---------------------------------------------------------------------------\u001b[0m",
      "\u001b[0;31mNameError\u001b[0m                                 Traceback (most recent call last)",
      "\u001b[1;32m/Users/quangnguyen/Documents/gsc24-test/TFODCourse/2. Training and Detection.ipynb Cell 35\u001b[0m line \u001b[0;36m1\n\u001b[0;32m----> <a href='vscode-notebook-cell:/Users/quangnguyen/Documents/gsc24-test/TFODCourse/2.%20Training%20and%20Detection.ipynb#X41sZmlsZQ%3D%3D?line=0'>1</a>\u001b[0m config \u001b[39m=\u001b[39m config_util\u001b[39m.\u001b[39mget_configs_from_pipeline_file(files[\u001b[39m'\u001b[39m\u001b[39mPIPELINE_CONFIG\u001b[39m\u001b[39m'\u001b[39m])\n",
      "\u001b[0;31mNameError\u001b[0m: name 'config_util' is not defined"
     ]
    }
   ],
   "source": [
    "config = config_util.get_configs_from_pipeline_file(files['PIPELINE_CONFIG'])"
   ]
  },
  {
   "cell_type": "code",
   "execution_count": null,
   "metadata": {
    "colab": {
     "base_uri": "https://localhost:8080/"
    },
    "id": "uQA13-afpfDF",
    "outputId": "907496a4-a39d-4b13-8c2c-e5978ecb1f10"
   },
   "outputs": [],
   "source": [
    "config"
   ]
  },
  {
   "cell_type": "code",
   "execution_count": null,
   "metadata": {
    "id": "9vK5lotDpfDF"
   },
   "outputs": [],
   "source": [
    "pipeline_config = pipeline_pb2.TrainEvalPipelineConfig()\n",
    "with tf.io.gfile.GFile(files['PIPELINE_CONFIG'], \"r\") as f:                                                                                                                                                                                                                     \n",
    "    proto_str = f.read()                                                                                                                                                                                                                                          \n",
    "    text_format.Merge(proto_str, pipeline_config)  "
   ]
  },
  {
   "cell_type": "code",
   "execution_count": null,
   "metadata": {
    "id": "rP43Ph0JpfDG"
   },
   "outputs": [],
   "source": [
    "pipeline_config.model.ssd.num_classes = len(labels)\n",
    "pipeline_config.train_config.batch_size = 4\n",
    "pipeline_config.train_config.fine_tune_checkpoint = os.path.join(paths['PRETRAINED_MODEL_PATH'], PRETRAINED_MODEL_NAME, 'checkpoint', 'ckpt-0')\n",
    "pipeline_config.train_config.fine_tune_checkpoint_type = \"detection\"\n",
    "pipeline_config.train_input_reader.label_map_path= files['LABELMAP']\n",
    "pipeline_config.train_input_reader.tf_record_input_reader.input_path[:] = [os.path.join(paths['ANNOTATION_PATH'], 'train.record')]\n",
    "pipeline_config.eval_input_reader[0].label_map_path = files['LABELMAP']\n",
    "pipeline_config.eval_input_reader[0].tf_record_input_reader.input_path[:] = [os.path.join(paths['ANNOTATION_PATH'], 'test.record')]"
   ]
  },
  {
   "cell_type": "code",
   "execution_count": null,
   "metadata": {
    "id": "oJvfgwWqpfDG"
   },
   "outputs": [],
   "source": [
    "config_text = text_format.MessageToString(pipeline_config)                                                                                                                                                                                                        \n",
    "with tf.io.gfile.GFile(files['PIPELINE_CONFIG'], \"wb\") as f:                                                                                                                                                                                                                     \n",
    "    f.write(config_text)   "
   ]
  },
  {
   "cell_type": "markdown",
   "metadata": {
    "id": "Zr3ON7xMpfDG"
   },
   "source": [
    "# 6. Train the model"
   ]
  },
  {
   "cell_type": "code",
   "execution_count": null,
   "metadata": {
    "id": "B-Y2UQmQpfDG"
   },
   "outputs": [],
   "source": [
    "TRAINING_SCRIPT = os.path.join(paths['APIMODEL_PATH'], 'research', 'object_detection', 'model_main_tf2.py')"
   ]
  },
  {
   "cell_type": "code",
   "execution_count": null,
   "metadata": {
    "id": "jMP2XDfQpfDH"
   },
   "outputs": [],
   "source": [
    "command = \"python {} --model_dir={} --pipeline_config_path={} --num_train_steps=2000\".format(TRAINING_SCRIPT, paths['CHECKPOINT_PATH'],files['PIPELINE_CONFIG'])"
   ]
  },
  {
   "cell_type": "code",
   "execution_count": null,
   "metadata": {
    "colab": {
     "base_uri": "https://localhost:8080/"
    },
    "id": "A4OXXi-ApfDH",
    "outputId": "117a0e83-012b-466e-b7a6-ccaa349ac5ab"
   },
   "outputs": [],
   "source": [
    "print(command)"
   ]
  },
  {
   "cell_type": "code",
   "execution_count": null,
   "metadata": {
    "colab": {
     "base_uri": "https://localhost:8080/"
    },
    "id": "i3ZsJR-qpfDH",
    "outputId": "cabec5e1-45e6-4f2f-d9cf-297d9c1d0225"
   },
   "outputs": [],
   "source": [
    "!{command}"
   ]
  },
  {
   "cell_type": "markdown",
   "metadata": {
    "id": "4_YRZu7npfDH"
   },
   "source": [
    "# 7. Evaluate the Model"
   ]
  },
  {
   "cell_type": "code",
   "execution_count": null,
   "metadata": {
    "id": "80L7-fdPpfDH"
   },
   "outputs": [],
   "source": [
    "command = \"python {} --model_dir={} --pipeline_config_path={} --checkpoint_dir={}\".format(TRAINING_SCRIPT, paths['CHECKPOINT_PATH'],files['PIPELINE_CONFIG'], paths['CHECKPOINT_PATH'])"
   ]
  },
  {
   "cell_type": "code",
   "execution_count": null,
   "metadata": {
    "colab": {
     "base_uri": "https://localhost:8080/"
    },
    "id": "lYsgEPx9pfDH",
    "outputId": "8632d48b-91d2-45d9-bcb8-c1b172bf6eed"
   },
   "outputs": [],
   "source": [
    "print(command)"
   ]
  },
  {
   "cell_type": "code",
   "execution_count": null,
   "metadata": {
    "id": "lqTV2jGBpfDH"
   },
   "outputs": [],
   "source": [
    "!{command}"
   ]
  },
  {
   "cell_type": "markdown",
   "metadata": {
    "id": "orvRk02UpfDI"
   },
   "source": [
    "# 8. Load Train Model From Checkpoint"
   ]
  },
  {
   "cell_type": "code",
   "execution_count": null,
   "metadata": {
    "id": "8TYk4_oIpfDI"
   },
   "outputs": [],
   "source": [
    "import os\n",
    "import tensorflow as tf\n",
    "from object_detection.utils import label_map_util\n",
    "from object_detection.utils import visualization_utils as viz_utils\n",
    "from object_detection.builders import model_builder\n",
    "from object_detection.utils import config_util"
   ]
  },
  {
   "cell_type": "code",
   "execution_count": null,
   "metadata": {
    "id": "tDnQg-cYpfDI"
   },
   "outputs": [],
   "source": [
    "# Load pipeline config and build a detection model\n",
    "configs = config_util.get_configs_from_pipeline_file(files['PIPELINE_CONFIG'])\n",
    "detection_model = model_builder.build(model_config=configs['model'], is_training=False)\n",
    "\n",
    "# Restore checkpoint\n",
    "ckpt = tf.compat.v2.train.Checkpoint(model=detection_model)\n",
    "ckpt.restore(os.path.join(paths['CHECKPOINT_PATH'], 'ckpt-5')).expect_partial()\n",
    "\n",
    "@tf.function\n",
    "def detect_fn(image):\n",
    "    image, shapes = detection_model.preprocess(image)\n",
    "    prediction_dict = detection_model.predict(image, shapes)\n",
    "    detections = detection_model.postprocess(prediction_dict, shapes)\n",
    "    return detections"
   ]
  },
  {
   "cell_type": "markdown",
   "metadata": {
    "id": "0EmsmbBZpfDI"
   },
   "source": [
    "# 9. Detect from an Image"
   ]
  },
  {
   "cell_type": "code",
   "execution_count": null,
   "metadata": {
    "id": "Y_MKiuZ4pfDI"
   },
   "outputs": [],
   "source": [
    "import cv2 \n",
    "import numpy as np\n",
    "from matplotlib import pyplot as plt\n",
    "%matplotlib inline"
   ]
  },
  {
   "cell_type": "code",
   "execution_count": null,
   "metadata": {
    "id": "cBDbIhNapfDI"
   },
   "outputs": [],
   "source": [
    "category_index = label_map_util.create_category_index_from_labelmap(files['LABELMAP'])"
   ]
  },
  {
   "cell_type": "code",
   "execution_count": null,
   "metadata": {
    "id": "Lx3crOhOzITB"
   },
   "outputs": [],
   "source": [
    "IMAGE_PATH = os.path.join(paths['IMAGE_PATH'], 'test', 'livelong.02533422-940e-11eb-9dbd-5cf3709bbcc6.jpg')"
   ]
  },
  {
   "cell_type": "code",
   "execution_count": null,
   "metadata": {
    "colab": {
     "base_uri": "https://localhost:8080/",
     "height": 269
    },
    "id": "Tpzn1SMry1yK",
    "outputId": "c392a2c5-10fe-4fc4-9998-a1d4c7db2bd3"
   },
   "outputs": [],
   "source": [
    "img = cv2.imread(IMAGE_PATH)\n",
    "image_np = np.array(img)\n",
    "\n",
    "input_tensor = tf.convert_to_tensor(np.expand_dims(image_np, 0), dtype=tf.float32)\n",
    "detections = detect_fn(input_tensor)\n",
    "\n",
    "num_detections = int(detections.pop('num_detections'))\n",
    "detections = {key: value[0, :num_detections].numpy()\n",
    "              for key, value in detections.items()}\n",
    "detections['num_detections'] = num_detections\n",
    "\n",
    "# detection_classes should be ints.\n",
    "detections['detection_classes'] = detections['detection_classes'].astype(np.int64)\n",
    "\n",
    "label_id_offset = 1\n",
    "image_np_with_detections = image_np.copy()\n",
    "\n",
    "viz_utils.visualize_boxes_and_labels_on_image_array(\n",
    "            image_np_with_detections,\n",
    "            detections['detection_boxes'],\n",
    "            detections['detection_classes']+label_id_offset,\n",
    "            detections['detection_scores'],\n",
    "            category_index,\n",
    "            use_normalized_coordinates=True,\n",
    "            max_boxes_to_draw=5,\n",
    "            min_score_thresh=.8,\n",
    "            agnostic_mode=False)\n",
    "\n",
    "plt.imshow(cv2.cvtColor(image_np_with_detections, cv2.COLOR_BGR2RGB))\n",
    "plt.show()"
   ]
  },
  {
   "cell_type": "markdown",
   "metadata": {
    "id": "IsNAaYAo0WVL"
   },
   "source": [
    "# 10. Real Time Detections from your Webcam"
   ]
  },
  {
   "cell_type": "code",
   "execution_count": null,
   "metadata": {},
   "outputs": [],
   "source": [
    "!pip uninstall opencv-python-headless -y"
   ]
  },
  {
   "cell_type": "code",
   "execution_count": null,
   "metadata": {
    "id": "o_grs6OGpfDJ"
   },
   "outputs": [],
   "source": [
    "cap = cv2.VideoCapture(0)\n",
    "width = int(cap.get(cv2.CAP_PROP_FRAME_WIDTH))\n",
    "height = int(cap.get(cv2.CAP_PROP_FRAME_HEIGHT))\n",
    "\n",
    "while cap.isOpened(): \n",
    "    ret, frame = cap.read()\n",
    "    image_np = np.array(frame)\n",
    "    \n",
    "    input_tensor = tf.convert_to_tensor(np.expand_dims(image_np, 0), dtype=tf.float32)\n",
    "    detections = detect_fn(input_tensor)\n",
    "    \n",
    "    num_detections = int(detections.pop('num_detections'))\n",
    "    detections = {key: value[0, :num_detections].numpy()\n",
    "                  for key, value in detections.items()}\n",
    "    detections['num_detections'] = num_detections\n",
    "\n",
    "    # detection_classes should be ints.\n",
    "    detections['detection_classes'] = detections['detection_classes'].astype(np.int64)\n",
    "\n",
    "    label_id_offset = 1\n",
    "    image_np_with_detections = image_np.copy()\n",
    "\n",
    "    viz_utils.visualize_boxes_and_labels_on_image_array(\n",
    "                image_np_with_detections,\n",
    "                detections['detection_boxes'],\n",
    "                detections['detection_classes']+label_id_offset,\n",
    "                detections['detection_scores'],\n",
    "                category_index,\n",
    "                use_normalized_coordinates=True,\n",
    "                max_boxes_to_draw=5,\n",
    "                min_score_thresh=.8,\n",
    "                agnostic_mode=False)\n",
    "\n",
    "    cv2.imshow('object detection',  cv2.resize(image_np_with_detections, (800, 600)))\n",
    "    \n",
    "    if cv2.waitKey(10) & 0xFF == ord('q'):\n",
    "        cap.release()\n",
    "        cv2.destroyAllWindows()\n",
    "        break"
   ]
  },
  {
   "cell_type": "markdown",
   "metadata": {
    "id": "rzlM4jt0pfDJ"
   },
   "source": [
    "# 10. Freezing the Graph"
   ]
  },
  {
   "cell_type": "code",
   "execution_count": null,
   "metadata": {
    "id": "n4olHB2npfDJ"
   },
   "outputs": [],
   "source": [
    "FREEZE_SCRIPT = os.path.join(paths['APIMODEL_PATH'], 'research', 'object_detection', 'exporter_main_v2.py ')"
   ]
  },
  {
   "cell_type": "code",
   "execution_count": null,
   "metadata": {
    "id": "0AjO93QDpfDJ"
   },
   "outputs": [],
   "source": [
    "command = \"python {} --input_type=image_tensor --pipeline_config_path={} --trained_checkpoint_dir={} --output_directory={}\".format(FREEZE_SCRIPT ,files['PIPELINE_CONFIG'], paths['CHECKPOINT_PATH'], paths['OUTPUT_PATH'])"
   ]
  },
  {
   "cell_type": "code",
   "execution_count": null,
   "metadata": {
    "colab": {
     "base_uri": "https://localhost:8080/"
    },
    "id": "F6Lsp3tCpfDJ",
    "outputId": "c3828529-bf06-4df5-d7f3-145890ec3edd"
   },
   "outputs": [],
   "source": [
    "print(command)"
   ]
  },
  {
   "cell_type": "code",
   "execution_count": null,
   "metadata": {
    "colab": {
     "base_uri": "https://localhost:8080/"
    },
    "id": "1Sw1ULgHpfDJ",
    "outputId": "6fd441e1-9fc9-4889-d072-3395c21e40b6"
   },
   "outputs": [],
   "source": [
    "!{command}"
   ]
  },
  {
   "cell_type": "code",
   "execution_count": null,
   "metadata": {
    "colab": {
     "base_uri": "https://localhost:8080/"
    },
    "id": "gZ6UzY_fpfDK",
    "outputId": "0c84722e-1c2b-4002-d857-80827ade828a",
    "scrolled": true
   },
   "outputs": [],
   "source": [
    "!pip install tensorflowjs"
   ]
  },
  {
   "cell_type": "code",
   "execution_count": null,
   "metadata": {
    "id": "0oxbVynHpfDK"
   },
   "outputs": [],
   "source": [
    "command = \"tensorflowjs_converter --input_format=tf_saved_model --output_node_names='detection_boxes,detection_classes,detection_features,detection_multiclass_scores,detection_scores,num_detections,raw_detection_boxes,raw_detection_scores' --output_format=tfjs_graph_model --signature_name=serving_default {} {}\".format(os.path.join(paths['OUTPUT_PATH'], 'saved_model'), paths['TFJS_PATH'])"
   ]
  },
  {
   "cell_type": "code",
   "execution_count": null,
   "metadata": {
    "colab": {
     "base_uri": "https://localhost:8080/"
    },
    "id": "DB2AGNmJpfDK",
    "outputId": "fbc9f747-f511-47e8-df8f-5ea65cef0374"
   },
   "outputs": [
    {
     "name": "stdout",
     "output_type": "stream",
     "text": [
      "tensorflowjs_converter --input_format=tf_saved_model --output_node_names='detection_boxes,detection_classes,detection_features,detection_multiclass_scores,detection_scores,num_detections,raw_detection_boxes,raw_detection_scores' --output_format=tfjs_graph_model --signature_name=serving_default Tensorflow\\workspace\\models\\my_ssd_mobnet\\export\\saved_model Tensorflow\\workspace\\models\\my_ssd_mobnet\\tfjsexport\n"
     ]
    }
   ],
   "source": [
    "print(command)"
   ]
  },
  {
   "cell_type": "code",
   "execution_count": null,
   "metadata": {
    "colab": {
     "base_uri": "https://localhost:8080/"
    },
    "id": "K7rfT4-hpfDK",
    "outputId": "532707fd-6feb-4bc6-84a3-325b5d16303c"
   },
   "outputs": [],
   "source": [
    "!{command}"
   ]
  },
  {
   "cell_type": "code",
   "execution_count": null,
   "metadata": {
    "id": "o8_hm-itpfDK"
   },
   "outputs": [],
   "source": [
    "# Test Code: https://github.com/nicknochnack/RealTimeSignLanguageDetectionwithTFJS"
   ]
  },
  {
   "cell_type": "markdown",
   "metadata": {
    "id": "VtUw73FHpfDK"
   },
   "source": [
    "# 11. Conversion to TFLite"
   ]
  },
  {
   "cell_type": "code",
   "execution_count": null,
   "metadata": {
    "id": "XviMtewLpfDK"
   },
   "outputs": [],
   "source": [
    "TFLITE_SCRIPT = os.path.join(paths['APIMODEL_PATH'], 'research', 'object_detection', 'export_tflite_graph_tf2.py ')"
   ]
  },
  {
   "cell_type": "code",
   "execution_count": null,
   "metadata": {
    "id": "us86cjC4pfDL"
   },
   "outputs": [],
   "source": [
    "command = \"python {} --pipeline_config_path={} --trained_checkpoint_dir={} --output_directory={}\".format(TFLITE_SCRIPT ,files['PIPELINE_CONFIG'], paths['CHECKPOINT_PATH'], paths['TFLITE_PATH'])"
   ]
  },
  {
   "cell_type": "code",
   "execution_count": null,
   "metadata": {
    "colab": {
     "base_uri": "https://localhost:8080/"
    },
    "id": "n1r5YO3rpfDL",
    "outputId": "5fcdf7a4-eee2-4365-f1ca-1751968379ea"
   },
   "outputs": [],
   "source": [
    "print(command)"
   ]
  },
  {
   "cell_type": "code",
   "execution_count": null,
   "metadata": {
    "colab": {
     "base_uri": "https://localhost:8080/"
    },
    "id": "I-xWpHN8pfDL",
    "outputId": "7f6bacd8-d077-43b5-c131-5b081fba24a4"
   },
   "outputs": [],
   "source": [
    "!{command}"
   ]
  },
  {
   "cell_type": "code",
   "execution_count": null,
   "metadata": {
    "id": "iJfYMbN6pfDL"
   },
   "outputs": [],
   "source": [
    "FROZEN_TFLITE_PATH = os.path.join(paths['TFLITE_PATH'], 'saved_model')\n",
    "TFLITE_MODEL = os.path.join(paths['TFLITE_PATH'], 'saved_model', 'detect.tflite')"
   ]
  },
  {
   "cell_type": "code",
   "execution_count": null,
   "metadata": {},
   "outputs": [],
   "source": [
    "command = \"tflite_convert \\\n",
    "--saved_model_dir={} \\\n",
    "--output_file={} \\\n",
    "--input_shapes=1,300,300,3 \\\n",
    "--input_arrays=normalized_input_image_tensor \\\n",
    "--output_arrays='TFLite_Detection_PostProcess','TFLite_Detection_PostProcess:1','TFLite_Detection_PostProcess:2','TFLite_Detection_PostProcess:3' \\\n",
    "--inference_type=FLOAT \\\n",
    "--allow_custom_ops\".format(FROZEN_TFLITE_PATH, TFLITE_MODEL, )"
   ]
  },
  {
   "cell_type": "code",
   "execution_count": null,
   "metadata": {
    "colab": {
     "base_uri": "https://localhost:8080/"
    },
    "id": "E8GwUeoFpfDL",
    "outputId": "fac43ea4-cc85-471b-a362-e994b06fd583"
   },
   "outputs": [],
   "source": [
    "print(command)"
   ]
  },
  {
   "cell_type": "code",
   "execution_count": null,
   "metadata": {
    "colab": {
     "base_uri": "https://localhost:8080/"
    },
    "id": "Nbd7gqHMpfDL",
    "outputId": "7c8fe6d5-2415-4641-8548-39d425c202f7"
   },
   "outputs": [],
   "source": [
    "!{command}"
   ]
  },
  {
   "cell_type": "markdown",
   "metadata": {
    "id": "5NQqZRdA21Uc"
   },
   "source": [
    "# 13. Zip and Export Models "
   ]
  },
  {
   "cell_type": "code",
   "execution_count": null,
   "metadata": {
    "id": "tTVTGCQp2ZJJ"
   },
   "outputs": [],
   "source": [
    "!tar -czf models.tar.gz {paths['CHECKPOINT_PATH']}"
   ]
  },
  {
   "cell_type": "code",
   "execution_count": null,
   "metadata": {
    "colab": {
     "base_uri": "https://localhost:8080/"
    },
    "id": "whShhB0x3PYJ",
    "outputId": "b773201d-35c9-46a8-b893-4a76bd4d5d97"
   },
   "outputs": [],
   "source": [
    "from google.colab import drive\n",
    "drive.mount('/content/drive')"
   ]
  }
 ],
 "metadata": {
  "accelerator": "GPU",
  "colab": {
   "name": "3. Training and Detection.ipynb",
   "provenance": []
  },
  "kernelspec": {
   "display_name": "tfod3.9",
   "language": "python",
   "name": "python3"
  },
  "language_info": {
   "codemirror_mode": {
    "name": "ipython",
    "version": 3
   },
   "file_extension": ".py",
   "mimetype": "text/x-python",
   "name": "python",
   "nbconvert_exporter": "python",
   "pygments_lexer": "ipython3",
   "version": "3.9.0"
  }
 },
 "nbformat": 4,
 "nbformat_minor": 4
}
