{
 "cells": [
  {
   "cell_type": "markdown",
   "metadata": {
    "id": "QUANWN3rpfC9"
   },
   "source": [
    "# 0. Setup Paths"
   ]
  },
  {
   "cell_type": "code",
   "execution_count": 2,
   "metadata": {
    "id": "146BB11JpfDA"
   },
   "outputs": [],
   "source": [
    "import os"
   ]
  },
  {
   "cell_type": "code",
   "execution_count": 11,
   "metadata": {
    "id": "42hJEdo_pfDB"
   },
   "outputs": [],
   "source": [
    "CUSTOM_MODEL_NAME = 'my_ssd_mobnet' \n",
    "PRETRAINED_MODEL_NAME = 'ssd_mobilenet_v2_fpnlite_320x320_coco17_tpu-8'\n",
    "PRETRAINED_MODEL_URL = 'http://download.tensorflow.org/models/object_detection/tf2/20200711/ssd_mobilenet_v2_fpnlite_320x320_coco17_tpu-8.tar.gz'\n",
    "TF_RECORD_SCRIPT_NAME = 'generate_tfrecord.py'\n",
    "LABEL_MAP_NAME = 'label_map.pbtxt'"
   ]
  },
  {
   "cell_type": "code",
   "execution_count": 12,
   "metadata": {
    "id": "hbPhYVy_pfDB"
   },
   "outputs": [],
   "source": [
    "paths = {\n",
    "    'WORKSPACE_PATH': os.path.join('Tensorflow', 'workspace'),\n",
    "    'SCRIPTS_PATH': os.path.join('Tensorflow','scripts'),\n",
    "    'APIMODEL_PATH': os.path.join('Tensorflow','models'),\n",
    "    'ANNOTATION_PATH': os.path.join('Tensorflow', 'workspace','annotations'),\n",
    "    'IMAGE_PATH': os.path.join('Tensorflow', 'workspace','images'),\n",
    "    'MODEL_PATH': os.path.join('Tensorflow', 'workspace','models'),\n",
    "    'PRETRAINED_MODEL_PATH': os.path.join('Tensorflow', 'workspace','pre-trained-models'),\n",
    "    'CHECKPOINT_PATH': os.path.join('Tensorflow', 'workspace','models',CUSTOM_MODEL_NAME), \n",
    "    'OUTPUT_PATH': os.path.join('Tensorflow', 'workspace','models',CUSTOM_MODEL_NAME, 'export'), \n",
    "    'TFJS_PATH':os.path.join('Tensorflow', 'workspace','models',CUSTOM_MODEL_NAME, 'tfjsexport'), \n",
    "    'TFLITE_PATH':os.path.join('Tensorflow', 'workspace','models',CUSTOM_MODEL_NAME, 'tfliteexport'), \n",
    "    'PROTOC_PATH':os.path.join('Tensorflow','protoc')\n",
    " }"
   ]
  },
  {
   "cell_type": "code",
   "execution_count": 13,
   "metadata": {
    "id": "LwhWZMI0pfDC"
   },
   "outputs": [],
   "source": [
    "files = {\n",
    "    'PIPELINE_CONFIG':os.path.join('Tensorflow', 'workspace','models', CUSTOM_MODEL_NAME, 'pipeline.config'),\n",
    "    'TF_RECORD_SCRIPT': os.path.join(paths['SCRIPTS_PATH'], TF_RECORD_SCRIPT_NAME), \n",
    "    'LABELMAP': os.path.join(paths['ANNOTATION_PATH'], LABEL_MAP_NAME)\n",
    "}"
   ]
  },
  {
   "cell_type": "code",
   "execution_count": 14,
   "metadata": {
    "id": "HR-TfDGrpfDC"
   },
   "outputs": [],
   "source": [
    "for path in paths.values():\n",
    "    if not os.path.exists(path):\n",
    "        if os.name == 'posix':\n",
    "            !mkdir -p {path}\n",
    "        if os.name == 'nt':\n",
    "            !mkdir {path}"
   ]
  },
  {
   "cell_type": "markdown",
   "metadata": {
    "id": "OLU-rs_ipfDE"
   },
   "source": [
    "# 1. Download TF Models Pretrained Models from Tensorflow Model Zoo and Install TFOD"
   ]
  },
  {
   "cell_type": "code",
   "execution_count": 15,
   "metadata": {},
   "outputs": [],
   "source": [
    "# https://www.tensorflow.org/install/source_windows"
   ]
  },
  {
   "cell_type": "code",
   "execution_count": 16,
   "metadata": {
    "id": "K-Cmz2edpfDE",
    "scrolled": true
   },
   "outputs": [],
   "source": [
    "if os.name=='nt':\n",
    "    !pip install wget\n",
    "    # brew install wget (Run in command line)\n",
    "    import wget"
   ]
  },
  {
   "cell_type": "code",
   "execution_count": 17,
   "metadata": {
    "id": "iA1DIq5OpfDE"
   },
   "outputs": [],
   "source": [
    "if not os.path.exists(os.path.join(paths['APIMODEL_PATH'], 'research', 'object_detection')):\n",
    "    !git clone https://github.com/tensorflow/models {paths['APIMODEL_PATH']}"
   ]
  },
  {
   "cell_type": "code",
   "execution_count": 4,
   "metadata": {
    "id": "rJjMHbnDs3Tv"
   },
   "outputs": [
    {
     "name": "stdout",
     "output_type": "stream",
     "text": [
      "Requirement already satisfied: cython<3.0.0 in ./tfod/lib/python3.11/site-packages (0.29.37)\n",
      "Requirement already satisfied: wheel in ./tfod/lib/python3.11/site-packages (0.42.0)\n",
      "Requirement already satisfied: pyyaml==5.4.1 in ./tfod/lib/python3.11/site-packages (5.4.1)\n",
      "\u001b[31mERROR: Could not open requirements file: [Errno 2] No such file or directory: 'requirements.txt'\u001b[0m\u001b[31m\n",
      "\u001b[0m\u001b[34m==>\u001b[0m \u001b[1mDownloading https://formulae.brew.sh/api/formula.jws.json\u001b[0m\n",
      "######################################################################### 100.0%\n",
      "\u001b[34m==>\u001b[0m \u001b[1mDownloading https://formulae.brew.sh/api/cask.jws.json\u001b[0m\n",
      "######################################################################### 100.0%\n",
      "\u001b[33mWarning:\u001b[0m protobuf 25.1 is already installed and up-to-date.\n",
      "To reinstall 25.1, run:\n",
      "  brew reinstall protobuf\n",
      "\u001b[33mWarning:\u001b[0m Already linked: /opt/homebrew/Cellar/protobuf/25.1\n",
      "To relink, run:\n",
      "  brew unlink protobuf && brew link protobuf\n",
      "Requirement already satisfied: tf-models-official in ./tfod/lib/python3.11/site-packages (2.5.1)\n",
      "Requirement already satisfied: Cython in ./tfod/lib/python3.11/site-packages (from tf-models-official) (0.29.37)\n",
      "Requirement already satisfied: Pillow in ./tfod/lib/python3.11/site-packages (from tf-models-official) (10.1.0)\n",
      "Requirement already satisfied: gin-config in ./tfod/lib/python3.11/site-packages (from tf-models-official) (0.5.0)\n",
      "Requirement already satisfied: google-api-python-client>=1.6.7 in ./tfod/lib/python3.11/site-packages (from tf-models-official) (2.111.0)\n",
      "Requirement already satisfied: kaggle>=1.3.9 in ./tfod/lib/python3.11/site-packages (from tf-models-official) (1.5.16)\n",
      "Requirement already satisfied: matplotlib in ./tfod/lib/python3.11/site-packages (from tf-models-official) (3.8.2)\n",
      "Requirement already satisfied: numpy>=1.15.4 in ./tfod/lib/python3.11/site-packages (from tf-models-official) (1.24.4)\n",
      "Requirement already satisfied: oauth2client in ./tfod/lib/python3.11/site-packages (from tf-models-official) (4.1.3)\n",
      "Requirement already satisfied: opencv-python-headless in ./tfod/lib/python3.11/site-packages (from tf-models-official) (4.8.1.78)\n",
      "Requirement already satisfied: pandas>=0.22.0 in ./tfod/lib/python3.11/site-packages (from tf-models-official) (2.1.4)\n",
      "Requirement already satisfied: psutil>=5.4.3 in ./tfod/lib/python3.11/site-packages (from tf-models-official) (5.9.7)\n",
      "Requirement already satisfied: py-cpuinfo>=3.3.0 in ./tfod/lib/python3.11/site-packages (from tf-models-official) (9.0.0)\n",
      "Requirement already satisfied: pycocotools in ./tfod/lib/python3.11/site-packages (from tf-models-official) (2.0.7)\n",
      "Requirement already satisfied: pyyaml>=5.1 in ./tfod/lib/python3.11/site-packages (from tf-models-official) (5.4.1)\n",
      "Requirement already satisfied: sacrebleu in ./tfod/lib/python3.11/site-packages (from tf-models-official) (2.2.0)\n",
      "Requirement already satisfied: scipy>=0.19.1 in ./tfod/lib/python3.11/site-packages (from tf-models-official) (1.11.4)\n",
      "Requirement already satisfied: sentencepiece in ./tfod/lib/python3.11/site-packages (from tf-models-official) (0.1.99)\n",
      "Requirement already satisfied: seqeval in ./tfod/lib/python3.11/site-packages (from tf-models-official) (1.2.2)\n",
      "Requirement already satisfied: six in ./tfod/lib/python3.11/site-packages (from tf-models-official) (1.16.0)\n",
      "Requirement already satisfied: tensorflow-addons in ./tfod/lib/python3.11/site-packages (from tf-models-official) (0.23.0)\n",
      "Requirement already satisfied: tensorflow-datasets in ./tfod/lib/python3.11/site-packages (from tf-models-official) (4.9.4)\n",
      "Requirement already satisfied: tensorflow-hub>=0.6.0 in ./tfod/lib/python3.11/site-packages (from tf-models-official) (0.15.0)\n",
      "Requirement already satisfied: tensorflow-model-optimization>=0.4.1 in ./tfod/lib/python3.11/site-packages (from tf-models-official) (0.7.5)\n",
      "Requirement already satisfied: tensorflow>=2.5.0 in ./tfod/lib/python3.11/site-packages (from tf-models-official) (2.15.0)\n",
      "Requirement already satisfied: tf-slim>=1.1.0 in ./tfod/lib/python3.11/site-packages (from tf-models-official) (1.1.0)\n",
      "Requirement already satisfied: httplib2<1.dev0,>=0.15.0 in ./tfod/lib/python3.11/site-packages (from google-api-python-client>=1.6.7->tf-models-official) (0.22.0)\n",
      "Requirement already satisfied: google-auth<3.0.0.dev0,>=1.19.0 in ./tfod/lib/python3.11/site-packages (from google-api-python-client>=1.6.7->tf-models-official) (2.25.2)\n",
      "Requirement already satisfied: google-auth-httplib2>=0.1.0 in ./tfod/lib/python3.11/site-packages (from google-api-python-client>=1.6.7->tf-models-official) (0.2.0)\n",
      "Requirement already satisfied: google-api-core!=2.0.*,!=2.1.*,!=2.2.*,!=2.3.0,<3.0.0.dev0,>=1.31.5 in ./tfod/lib/python3.11/site-packages (from google-api-python-client>=1.6.7->tf-models-official) (2.15.0)\n",
      "Requirement already satisfied: uritemplate<5,>=3.0.1 in ./tfod/lib/python3.11/site-packages (from google-api-python-client>=1.6.7->tf-models-official) (4.1.1)\n",
      "Requirement already satisfied: certifi in ./tfod/lib/python3.11/site-packages (from kaggle>=1.3.9->tf-models-official) (2023.11.17)\n",
      "Requirement already satisfied: python-dateutil in ./tfod/lib/python3.11/site-packages (from kaggle>=1.3.9->tf-models-official) (2.8.2)\n",
      "Requirement already satisfied: requests in ./tfod/lib/python3.11/site-packages (from kaggle>=1.3.9->tf-models-official) (2.31.0)\n",
      "Requirement already satisfied: tqdm in ./tfod/lib/python3.11/site-packages (from kaggle>=1.3.9->tf-models-official) (4.66.1)\n",
      "Requirement already satisfied: python-slugify in ./tfod/lib/python3.11/site-packages (from kaggle>=1.3.9->tf-models-official) (8.0.1)\n",
      "Requirement already satisfied: urllib3 in ./tfod/lib/python3.11/site-packages (from kaggle>=1.3.9->tf-models-official) (2.1.0)\n",
      "Requirement already satisfied: bleach in ./tfod/lib/python3.11/site-packages (from kaggle>=1.3.9->tf-models-official) (6.1.0)\n",
      "Requirement already satisfied: pytz>=2020.1 in ./tfod/lib/python3.11/site-packages (from pandas>=0.22.0->tf-models-official) (2023.3.post1)\n",
      "Requirement already satisfied: tzdata>=2022.1 in ./tfod/lib/python3.11/site-packages (from pandas>=0.22.0->tf-models-official) (2023.3)\n",
      "Requirement already satisfied: tensorflow-macos==2.15.0 in ./tfod/lib/python3.11/site-packages (from tensorflow>=2.5.0->tf-models-official) (2.15.0)\n",
      "Requirement already satisfied: absl-py>=1.0.0 in ./tfod/lib/python3.11/site-packages (from tensorflow-macos==2.15.0->tensorflow>=2.5.0->tf-models-official) (1.4.0)\n",
      "Requirement already satisfied: astunparse>=1.6.0 in ./tfod/lib/python3.11/site-packages (from tensorflow-macos==2.15.0->tensorflow>=2.5.0->tf-models-official) (1.6.3)\n",
      "Requirement already satisfied: flatbuffers>=23.5.26 in ./tfod/lib/python3.11/site-packages (from tensorflow-macos==2.15.0->tensorflow>=2.5.0->tf-models-official) (23.5.26)\n",
      "Requirement already satisfied: gast!=0.5.0,!=0.5.1,!=0.5.2,>=0.2.1 in ./tfod/lib/python3.11/site-packages (from tensorflow-macos==2.15.0->tensorflow>=2.5.0->tf-models-official) (0.5.4)\n",
      "Requirement already satisfied: google-pasta>=0.1.1 in ./tfod/lib/python3.11/site-packages (from tensorflow-macos==2.15.0->tensorflow>=2.5.0->tf-models-official) (0.2.0)\n",
      "Requirement already satisfied: h5py>=2.9.0 in ./tfod/lib/python3.11/site-packages (from tensorflow-macos==2.15.0->tensorflow>=2.5.0->tf-models-official) (3.10.0)\n",
      "Requirement already satisfied: libclang>=13.0.0 in ./tfod/lib/python3.11/site-packages (from tensorflow-macos==2.15.0->tensorflow>=2.5.0->tf-models-official) (16.0.6)\n",
      "Requirement already satisfied: ml-dtypes~=0.2.0 in ./tfod/lib/python3.11/site-packages (from tensorflow-macos==2.15.0->tensorflow>=2.5.0->tf-models-official) (0.2.0)\n",
      "Requirement already satisfied: opt-einsum>=2.3.2 in ./tfod/lib/python3.11/site-packages (from tensorflow-macos==2.15.0->tensorflow>=2.5.0->tf-models-official) (3.3.0)\n",
      "Requirement already satisfied: packaging in ./tfod/lib/python3.11/site-packages (from tensorflow-macos==2.15.0->tensorflow>=2.5.0->tf-models-official) (23.2)\n",
      "Requirement already satisfied: protobuf!=4.21.0,!=4.21.1,!=4.21.2,!=4.21.3,!=4.21.4,!=4.21.5,<5.0.0dev,>=3.20.3 in ./tfod/lib/python3.11/site-packages (from tensorflow-macos==2.15.0->tensorflow>=2.5.0->tf-models-official) (3.20.3)\n",
      "Requirement already satisfied: setuptools in ./tfod/lib/python3.11/site-packages (from tensorflow-macos==2.15.0->tensorflow>=2.5.0->tf-models-official) (69.0.3)\n",
      "Requirement already satisfied: termcolor>=1.1.0 in ./tfod/lib/python3.11/site-packages (from tensorflow-macos==2.15.0->tensorflow>=2.5.0->tf-models-official) (2.4.0)\n",
      "Requirement already satisfied: typing-extensions>=3.6.6 in ./tfod/lib/python3.11/site-packages (from tensorflow-macos==2.15.0->tensorflow>=2.5.0->tf-models-official) (4.9.0)\n",
      "Requirement already satisfied: wrapt<1.15,>=1.11.0 in ./tfod/lib/python3.11/site-packages (from tensorflow-macos==2.15.0->tensorflow>=2.5.0->tf-models-official) (1.14.1)\n",
      "Requirement already satisfied: tensorflow-io-gcs-filesystem>=0.23.1 in ./tfod/lib/python3.11/site-packages (from tensorflow-macos==2.15.0->tensorflow>=2.5.0->tf-models-official) (0.34.0)\n",
      "Requirement already satisfied: grpcio<2.0,>=1.24.3 in ./tfod/lib/python3.11/site-packages (from tensorflow-macos==2.15.0->tensorflow>=2.5.0->tf-models-official) (1.60.0)\n",
      "Requirement already satisfied: tensorboard<2.16,>=2.15 in ./tfod/lib/python3.11/site-packages (from tensorflow-macos==2.15.0->tensorflow>=2.5.0->tf-models-official) (2.15.1)\n",
      "Requirement already satisfied: tensorflow-estimator<2.16,>=2.15.0 in ./tfod/lib/python3.11/site-packages (from tensorflow-macos==2.15.0->tensorflow>=2.5.0->tf-models-official) (2.15.0)\n",
      "Requirement already satisfied: keras<2.16,>=2.15.0 in ./tfod/lib/python3.11/site-packages (from tensorflow-macos==2.15.0->tensorflow>=2.5.0->tf-models-official) (2.15.0)\n",
      "Requirement already satisfied: dm-tree~=0.1.1 in ./tfod/lib/python3.11/site-packages (from tensorflow-model-optimization>=0.4.1->tf-models-official) (0.1.8)\n",
      "Requirement already satisfied: contourpy>=1.0.1 in ./tfod/lib/python3.11/site-packages (from matplotlib->tf-models-official) (1.2.0)\n",
      "Requirement already satisfied: cycler>=0.10 in ./tfod/lib/python3.11/site-packages (from matplotlib->tf-models-official) (0.12.1)\n",
      "Requirement already satisfied: fonttools>=4.22.0 in ./tfod/lib/python3.11/site-packages (from matplotlib->tf-models-official) (4.47.0)\n",
      "Requirement already satisfied: kiwisolver>=1.3.1 in ./tfod/lib/python3.11/site-packages (from matplotlib->tf-models-official) (1.4.5)\n",
      "Requirement already satisfied: pyparsing>=2.3.1 in ./tfod/lib/python3.11/site-packages (from matplotlib->tf-models-official) (2.4.7)\n",
      "Requirement already satisfied: pyasn1>=0.1.7 in ./tfod/lib/python3.11/site-packages (from oauth2client->tf-models-official) (0.5.1)\n",
      "Requirement already satisfied: pyasn1-modules>=0.0.5 in ./tfod/lib/python3.11/site-packages (from oauth2client->tf-models-official) (0.3.0)\n",
      "Requirement already satisfied: rsa>=3.1.4 in ./tfod/lib/python3.11/site-packages (from oauth2client->tf-models-official) (4.9)\n",
      "Requirement already satisfied: portalocker in ./tfod/lib/python3.11/site-packages (from sacrebleu->tf-models-official) (2.8.2)\n",
      "Requirement already satisfied: regex in ./tfod/lib/python3.11/site-packages (from sacrebleu->tf-models-official) (2023.12.25)\n",
      "Requirement already satisfied: tabulate>=0.8.9 in ./tfod/lib/python3.11/site-packages (from sacrebleu->tf-models-official) (0.9.0)\n",
      "Requirement already satisfied: colorama in ./tfod/lib/python3.11/site-packages (from sacrebleu->tf-models-official) (0.4.6)\n",
      "Requirement already satisfied: lxml in ./tfod/lib/python3.11/site-packages (from sacrebleu->tf-models-official) (4.9.4)\n",
      "Requirement already satisfied: scikit-learn>=0.21.3 in ./tfod/lib/python3.11/site-packages (from seqeval->tf-models-official) (1.3.2)\n",
      "Requirement already satisfied: typeguard<3.0.0,>=2.7 in ./tfod/lib/python3.11/site-packages (from tensorflow-addons->tf-models-official) (2.13.3)\n",
      "Requirement already satisfied: click in ./tfod/lib/python3.11/site-packages (from tensorflow-datasets->tf-models-official) (8.1.7)\n",
      "Requirement already satisfied: etils>=0.9.0 in ./tfod/lib/python3.11/site-packages (from etils[enp,epath,etree]>=0.9.0->tensorflow-datasets->tf-models-official) (1.6.0)\n",
      "Requirement already satisfied: promise in ./tfod/lib/python3.11/site-packages (from tensorflow-datasets->tf-models-official) (2.3)\n",
      "Requirement already satisfied: tensorflow-metadata in ./tfod/lib/python3.11/site-packages (from tensorflow-datasets->tf-models-official) (1.14.0)\n",
      "Requirement already satisfied: toml in ./tfod/lib/python3.11/site-packages (from tensorflow-datasets->tf-models-official) (0.10.2)\n",
      "Requirement already satisfied: fsspec in ./tfod/lib/python3.11/site-packages (from etils[enp,epath,etree]>=0.9.0->tensorflow-datasets->tf-models-official) (2023.12.2)\n",
      "Requirement already satisfied: importlib_resources in ./tfod/lib/python3.11/site-packages (from etils[enp,epath,etree]>=0.9.0->tensorflow-datasets->tf-models-official) (6.1.1)\n",
      "Requirement already satisfied: zipp in ./tfod/lib/python3.11/site-packages (from etils[enp,epath,etree]>=0.9.0->tensorflow-datasets->tf-models-official) (3.17.0)\n",
      "Requirement already satisfied: googleapis-common-protos<2.0.dev0,>=1.56.2 in ./tfod/lib/python3.11/site-packages (from google-api-core!=2.0.*,!=2.1.*,!=2.2.*,!=2.3.0,<3.0.0.dev0,>=1.31.5->google-api-python-client>=1.6.7->tf-models-official) (1.62.0)\n",
      "Requirement already satisfied: cachetools<6.0,>=2.0.0 in ./tfod/lib/python3.11/site-packages (from google-auth<3.0.0.dev0,>=1.19.0->google-api-python-client>=1.6.7->tf-models-official) (5.3.2)\n",
      "Requirement already satisfied: charset-normalizer<4,>=2 in ./tfod/lib/python3.11/site-packages (from requests->kaggle>=1.3.9->tf-models-official) (3.3.2)\n",
      "Requirement already satisfied: idna<4,>=2.5 in ./tfod/lib/python3.11/site-packages (from requests->kaggle>=1.3.9->tf-models-official) (3.6)\n",
      "Requirement already satisfied: joblib>=1.1.1 in ./tfod/lib/python3.11/site-packages (from scikit-learn>=0.21.3->seqeval->tf-models-official) (1.3.2)\n",
      "Requirement already satisfied: threadpoolctl>=2.0.0 in ./tfod/lib/python3.11/site-packages (from scikit-learn>=0.21.3->seqeval->tf-models-official) (3.2.0)\n",
      "Requirement already satisfied: webencodings in ./tfod/lib/python3.11/site-packages (from bleach->kaggle>=1.3.9->tf-models-official) (0.5.1)\n",
      "Requirement already satisfied: text-unidecode>=1.3 in ./tfod/lib/python3.11/site-packages (from python-slugify->kaggle>=1.3.9->tf-models-official) (1.3)\n",
      "Requirement already satisfied: wheel<1.0,>=0.23.0 in ./tfod/lib/python3.11/site-packages (from astunparse>=1.6.0->tensorflow-macos==2.15.0->tensorflow>=2.5.0->tf-models-official) (0.42.0)\n",
      "Requirement already satisfied: google-auth-oauthlib<2,>=0.5 in ./tfod/lib/python3.11/site-packages (from tensorboard<2.16,>=2.15->tensorflow-macos==2.15.0->tensorflow>=2.5.0->tf-models-official) (1.2.0)\n",
      "Requirement already satisfied: markdown>=2.6.8 in ./tfod/lib/python3.11/site-packages (from tensorboard<2.16,>=2.15->tensorflow-macos==2.15.0->tensorflow>=2.5.0->tf-models-official) (3.5.1)\n",
      "Requirement already satisfied: tensorboard-data-server<0.8.0,>=0.7.0 in ./tfod/lib/python3.11/site-packages (from tensorboard<2.16,>=2.15->tensorflow-macos==2.15.0->tensorflow>=2.5.0->tf-models-official) (0.7.2)\n",
      "Requirement already satisfied: werkzeug>=1.0.1 in ./tfod/lib/python3.11/site-packages (from tensorboard<2.16,>=2.15->tensorflow-macos==2.15.0->tensorflow>=2.5.0->tf-models-official) (3.0.1)\n",
      "Requirement already satisfied: requests-oauthlib>=0.7.0 in ./tfod/lib/python3.11/site-packages (from google-auth-oauthlib<2,>=0.5->tensorboard<2.16,>=2.15->tensorflow-macos==2.15.0->tensorflow>=2.5.0->tf-models-official) (1.3.1)\n",
      "Requirement already satisfied: MarkupSafe>=2.1.1 in ./tfod/lib/python3.11/site-packages (from werkzeug>=1.0.1->tensorboard<2.16,>=2.15->tensorflow-macos==2.15.0->tensorflow>=2.5.0->tf-models-official) (2.1.3)\n",
      "Requirement already satisfied: oauthlib>=3.0.0 in ./tfod/lib/python3.11/site-packages (from requests-oauthlib>=0.7.0->google-auth-oauthlib<2,>=0.5->tensorboard<2.16,>=2.15->tensorflow-macos==2.15.0->tensorflow>=2.5.0->tf-models-official) (3.2.2)\n",
      "Requirement already satisfied: wheel in ./tfod/lib/python3.11/site-packages (0.42.0)\n",
      "Requirement already satisfied: setuptools in ./tfod/lib/python3.11/site-packages (69.0.3)\n",
      "Requirement already satisfied: pip in ./tfod/lib/python3.11/site-packages (23.3.2)\n",
      "Processing /Users/quangnguyen/Documents/gsc24-test/TFODCourse/Tensorflow/models/research\n",
      "  Preparing metadata (setup.py) ... \u001b[?25ldone\n",
      "\u001b[?25hRequirement already satisfied: avro-python3 in /Users/quangnguyen/Documents/gsc24-test/TFODCourse/tfod/lib/python3.11/site-packages (from object_detection==0.1) (1.10.2)\n",
      "Requirement already satisfied: apache-beam in /Users/quangnguyen/Documents/gsc24-test/TFODCourse/tfod/lib/python3.11/site-packages (from object_detection==0.1) (2.52.0)\n",
      "Requirement already satisfied: pillow in /Users/quangnguyen/Documents/gsc24-test/TFODCourse/tfod/lib/python3.11/site-packages (from object_detection==0.1) (10.1.0)\n",
      "Requirement already satisfied: lxml in /Users/quangnguyen/Documents/gsc24-test/TFODCourse/tfod/lib/python3.11/site-packages (from object_detection==0.1) (4.9.4)\n",
      "Requirement already satisfied: matplotlib in /Users/quangnguyen/Documents/gsc24-test/TFODCourse/tfod/lib/python3.11/site-packages (from object_detection==0.1) (3.8.2)\n",
      "Requirement already satisfied: Cython in /Users/quangnguyen/Documents/gsc24-test/TFODCourse/tfod/lib/python3.11/site-packages (from object_detection==0.1) (0.29.37)\n",
      "Requirement already satisfied: contextlib2 in /Users/quangnguyen/Documents/gsc24-test/TFODCourse/tfod/lib/python3.11/site-packages (from object_detection==0.1) (21.6.0)\n",
      "Requirement already satisfied: tf-slim in /Users/quangnguyen/Documents/gsc24-test/TFODCourse/tfod/lib/python3.11/site-packages (from object_detection==0.1) (1.1.0)\n",
      "Requirement already satisfied: six in /Users/quangnguyen/Documents/gsc24-test/TFODCourse/tfod/lib/python3.11/site-packages (from object_detection==0.1) (1.16.0)\n",
      "Requirement already satisfied: pycocotools in /Users/quangnguyen/Documents/gsc24-test/TFODCourse/tfod/lib/python3.11/site-packages (from object_detection==0.1) (2.0.7)\n",
      "Requirement already satisfied: lvis in /Users/quangnguyen/Documents/gsc24-test/TFODCourse/tfod/lib/python3.11/site-packages (from object_detection==0.1) (0.5.3)\n",
      "Requirement already satisfied: scipy in /Users/quangnguyen/Documents/gsc24-test/TFODCourse/tfod/lib/python3.11/site-packages (from object_detection==0.1) (1.11.4)\n",
      "Requirement already satisfied: pandas in /Users/quangnguyen/Documents/gsc24-test/TFODCourse/tfod/lib/python3.11/site-packages (from object_detection==0.1) (2.1.4)\n",
      "Requirement already satisfied: tf-models-official>=2.5.1 in /Users/quangnguyen/Documents/gsc24-test/TFODCourse/tfod/lib/python3.11/site-packages (from object_detection==0.1) (2.5.1)\n",
      "Requirement already satisfied: tensorflow_io in /Users/quangnguyen/Documents/gsc24-test/TFODCourse/tfod/lib/python3.11/site-packages (from object_detection==0.1) (0.34.0)\n",
      "Requirement already satisfied: keras in /Users/quangnguyen/Documents/gsc24-test/TFODCourse/tfod/lib/python3.11/site-packages (from object_detection==0.1) (2.15.0)\n",
      "Requirement already satisfied: pyparsing==2.4.7 in /Users/quangnguyen/Documents/gsc24-test/TFODCourse/tfod/lib/python3.11/site-packages (from object_detection==0.1) (2.4.7)\n",
      "Requirement already satisfied: sacrebleu<=2.2.0 in /Users/quangnguyen/Documents/gsc24-test/TFODCourse/tfod/lib/python3.11/site-packages (from object_detection==0.1) (2.2.0)\n",
      "Requirement already satisfied: portalocker in /Users/quangnguyen/Documents/gsc24-test/TFODCourse/tfod/lib/python3.11/site-packages (from sacrebleu<=2.2.0->object_detection==0.1) (2.8.2)\n",
      "Requirement already satisfied: regex in /Users/quangnguyen/Documents/gsc24-test/TFODCourse/tfod/lib/python3.11/site-packages (from sacrebleu<=2.2.0->object_detection==0.1) (2023.12.25)\n",
      "Requirement already satisfied: tabulate>=0.8.9 in /Users/quangnguyen/Documents/gsc24-test/TFODCourse/tfod/lib/python3.11/site-packages (from sacrebleu<=2.2.0->object_detection==0.1) (0.9.0)\n",
      "Requirement already satisfied: numpy>=1.17 in /Users/quangnguyen/Documents/gsc24-test/TFODCourse/tfod/lib/python3.11/site-packages (from sacrebleu<=2.2.0->object_detection==0.1) (1.24.4)\n",
      "Requirement already satisfied: colorama in /Users/quangnguyen/Documents/gsc24-test/TFODCourse/tfod/lib/python3.11/site-packages (from sacrebleu<=2.2.0->object_detection==0.1) (0.4.6)\n",
      "Requirement already satisfied: gin-config in /Users/quangnguyen/Documents/gsc24-test/TFODCourse/tfod/lib/python3.11/site-packages (from tf-models-official>=2.5.1->object_detection==0.1) (0.5.0)\n",
      "Requirement already satisfied: google-api-python-client>=1.6.7 in /Users/quangnguyen/Documents/gsc24-test/TFODCourse/tfod/lib/python3.11/site-packages (from tf-models-official>=2.5.1->object_detection==0.1) (2.111.0)\n",
      "Requirement already satisfied: kaggle>=1.3.9 in /Users/quangnguyen/Documents/gsc24-test/TFODCourse/tfod/lib/python3.11/site-packages (from tf-models-official>=2.5.1->object_detection==0.1) (1.5.16)\n",
      "Requirement already satisfied: oauth2client in /Users/quangnguyen/Documents/gsc24-test/TFODCourse/tfod/lib/python3.11/site-packages (from tf-models-official>=2.5.1->object_detection==0.1) (4.1.3)\n",
      "Requirement already satisfied: opencv-python-headless in /Users/quangnguyen/Documents/gsc24-test/TFODCourse/tfod/lib/python3.11/site-packages (from tf-models-official>=2.5.1->object_detection==0.1) (4.8.1.78)\n",
      "Requirement already satisfied: psutil>=5.4.3 in /Users/quangnguyen/Documents/gsc24-test/TFODCourse/tfod/lib/python3.11/site-packages (from tf-models-official>=2.5.1->object_detection==0.1) (5.9.7)\n",
      "Requirement already satisfied: py-cpuinfo>=3.3.0 in /Users/quangnguyen/Documents/gsc24-test/TFODCourse/tfod/lib/python3.11/site-packages (from tf-models-official>=2.5.1->object_detection==0.1) (9.0.0)\n",
      "Requirement already satisfied: pyyaml>=5.1 in /Users/quangnguyen/Documents/gsc24-test/TFODCourse/tfod/lib/python3.11/site-packages (from tf-models-official>=2.5.1->object_detection==0.1) (5.4.1)\n",
      "Requirement already satisfied: sentencepiece in /Users/quangnguyen/Documents/gsc24-test/TFODCourse/tfod/lib/python3.11/site-packages (from tf-models-official>=2.5.1->object_detection==0.1) (0.1.99)\n",
      "Requirement already satisfied: seqeval in /Users/quangnguyen/Documents/gsc24-test/TFODCourse/tfod/lib/python3.11/site-packages (from tf-models-official>=2.5.1->object_detection==0.1) (1.2.2)\n",
      "Requirement already satisfied: tensorflow-addons in /Users/quangnguyen/Documents/gsc24-test/TFODCourse/tfod/lib/python3.11/site-packages (from tf-models-official>=2.5.1->object_detection==0.1) (0.23.0)\n",
      "Requirement already satisfied: tensorflow-datasets in /Users/quangnguyen/Documents/gsc24-test/TFODCourse/tfod/lib/python3.11/site-packages (from tf-models-official>=2.5.1->object_detection==0.1) (4.9.4)\n",
      "Requirement already satisfied: tensorflow-hub>=0.6.0 in /Users/quangnguyen/Documents/gsc24-test/TFODCourse/tfod/lib/python3.11/site-packages (from tf-models-official>=2.5.1->object_detection==0.1) (0.15.0)\n",
      "Requirement already satisfied: tensorflow-model-optimization>=0.4.1 in /Users/quangnguyen/Documents/gsc24-test/TFODCourse/tfod/lib/python3.11/site-packages (from tf-models-official>=2.5.1->object_detection==0.1) (0.7.5)\n",
      "Requirement already satisfied: tensorflow>=2.5.0 in /Users/quangnguyen/Documents/gsc24-test/TFODCourse/tfod/lib/python3.11/site-packages (from tf-models-official>=2.5.1->object_detection==0.1) (2.15.0)\n",
      "Requirement already satisfied: python-dateutil>=2.8.2 in /Users/quangnguyen/Documents/gsc24-test/TFODCourse/tfod/lib/python3.11/site-packages (from pandas->object_detection==0.1) (2.8.2)\n",
      "Requirement already satisfied: pytz>=2020.1 in /Users/quangnguyen/Documents/gsc24-test/TFODCourse/tfod/lib/python3.11/site-packages (from pandas->object_detection==0.1) (2023.3.post1)\n",
      "Requirement already satisfied: tzdata>=2022.1 in /Users/quangnguyen/Documents/gsc24-test/TFODCourse/tfod/lib/python3.11/site-packages (from pandas->object_detection==0.1) (2023.3)\n",
      "Requirement already satisfied: absl-py>=0.2.2 in /Users/quangnguyen/Documents/gsc24-test/TFODCourse/tfod/lib/python3.11/site-packages (from tf-slim->object_detection==0.1) (1.4.0)\n",
      "Requirement already satisfied: crcmod<2.0,>=1.7 in /Users/quangnguyen/Documents/gsc24-test/TFODCourse/tfod/lib/python3.11/site-packages (from apache-beam->object_detection==0.1) (1.7)\n",
      "Requirement already satisfied: orjson<4,>=3.9.7 in /Users/quangnguyen/Documents/gsc24-test/TFODCourse/tfod/lib/python3.11/site-packages (from apache-beam->object_detection==0.1) (3.9.10)\n",
      "Requirement already satisfied: dill<0.3.2,>=0.3.1.1 in /Users/quangnguyen/Documents/gsc24-test/TFODCourse/tfod/lib/python3.11/site-packages (from apache-beam->object_detection==0.1) (0.3.1.1)\n",
      "Requirement already satisfied: cloudpickle~=2.2.1 in /Users/quangnguyen/Documents/gsc24-test/TFODCourse/tfod/lib/python3.11/site-packages (from apache-beam->object_detection==0.1) (2.2.1)\n",
      "Requirement already satisfied: fastavro<2,>=0.23.6 in /Users/quangnguyen/Documents/gsc24-test/TFODCourse/tfod/lib/python3.11/site-packages (from apache-beam->object_detection==0.1) (1.9.2)\n",
      "Requirement already satisfied: fasteners<1.0,>=0.3 in /Users/quangnguyen/Documents/gsc24-test/TFODCourse/tfod/lib/python3.11/site-packages (from apache-beam->object_detection==0.1) (0.19)\n",
      "Requirement already satisfied: grpcio!=1.48.0,<2,>=1.33.1 in /Users/quangnguyen/Documents/gsc24-test/TFODCourse/tfod/lib/python3.11/site-packages (from apache-beam->object_detection==0.1) (1.60.0)\n",
      "Requirement already satisfied: hdfs<3.0.0,>=2.1.0 in /Users/quangnguyen/Documents/gsc24-test/TFODCourse/tfod/lib/python3.11/site-packages (from apache-beam->object_detection==0.1) (2.7.3)\n",
      "Requirement already satisfied: httplib2<0.23.0,>=0.8 in /Users/quangnguyen/Documents/gsc24-test/TFODCourse/tfod/lib/python3.11/site-packages (from apache-beam->object_detection==0.1) (0.22.0)\n",
      "Requirement already satisfied: js2py<1,>=0.74 in /Users/quangnguyen/Documents/gsc24-test/TFODCourse/tfod/lib/python3.11/site-packages (from apache-beam->object_detection==0.1) (0.74)\n",
      "Requirement already satisfied: jsonschema<5.0.0,>=4.0.0 in /Users/quangnguyen/Documents/gsc24-test/TFODCourse/tfod/lib/python3.11/site-packages (from apache-beam->object_detection==0.1) (4.20.0)\n",
      "Requirement already satisfied: objsize<0.7.0,>=0.6.1 in /Users/quangnguyen/Documents/gsc24-test/TFODCourse/tfod/lib/python3.11/site-packages (from apache-beam->object_detection==0.1) (0.6.1)\n",
      "Requirement already satisfied: packaging>=22.0 in /Users/quangnguyen/Documents/gsc24-test/TFODCourse/tfod/lib/python3.11/site-packages (from apache-beam->object_detection==0.1) (23.2)\n",
      "Requirement already satisfied: pymongo<5.0.0,>=3.8.0 in /Users/quangnguyen/Documents/gsc24-test/TFODCourse/tfod/lib/python3.11/site-packages (from apache-beam->object_detection==0.1) (4.6.1)\n",
      "Requirement already satisfied: proto-plus<2,>=1.7.1 in /Users/quangnguyen/Documents/gsc24-test/TFODCourse/tfod/lib/python3.11/site-packages (from apache-beam->object_detection==0.1) (1.23.0)\n",
      "Requirement already satisfied: protobuf!=4.0.*,!=4.21.*,!=4.22.0,!=4.23.*,!=4.24.*,<4.26.0,>=3.20.3 in /Users/quangnguyen/Documents/gsc24-test/TFODCourse/tfod/lib/python3.11/site-packages (from apache-beam->object_detection==0.1) (3.20.3)\n",
      "Requirement already satisfied: pydot<2,>=1.2.0 in /Users/quangnguyen/Documents/gsc24-test/TFODCourse/tfod/lib/python3.11/site-packages (from apache-beam->object_detection==0.1) (1.4.2)\n",
      "Requirement already satisfied: requests<3.0.0,>=2.24.0 in /Users/quangnguyen/Documents/gsc24-test/TFODCourse/tfod/lib/python3.11/site-packages (from apache-beam->object_detection==0.1) (2.31.0)\n",
      "Requirement already satisfied: typing-extensions>=3.7.0 in /Users/quangnguyen/Documents/gsc24-test/TFODCourse/tfod/lib/python3.11/site-packages (from apache-beam->object_detection==0.1) (4.9.0)\n",
      "Requirement already satisfied: zstandard<1,>=0.18.0 in /Users/quangnguyen/Documents/gsc24-test/TFODCourse/tfod/lib/python3.11/site-packages (from apache-beam->object_detection==0.1) (0.22.0)\n",
      "Requirement already satisfied: pyarrow<12.0.0,>=3.0.0 in /Users/quangnguyen/Documents/gsc24-test/TFODCourse/tfod/lib/python3.11/site-packages (from apache-beam->object_detection==0.1) (11.0.0)\n",
      "Requirement already satisfied: pyarrow-hotfix<1 in /Users/quangnguyen/Documents/gsc24-test/TFODCourse/tfod/lib/python3.11/site-packages (from apache-beam->object_detection==0.1) (0.6)\n",
      "Requirement already satisfied: cycler>=0.10.0 in /Users/quangnguyen/Documents/gsc24-test/TFODCourse/tfod/lib/python3.11/site-packages (from lvis->object_detection==0.1) (0.12.1)\n",
      "Requirement already satisfied: kiwisolver>=1.1.0 in /Users/quangnguyen/Documents/gsc24-test/TFODCourse/tfod/lib/python3.11/site-packages (from lvis->object_detection==0.1) (1.4.5)\n",
      "Requirement already satisfied: opencv-python>=4.1.0.25 in /Users/quangnguyen/Documents/gsc24-test/TFODCourse/tfod/lib/python3.11/site-packages (from lvis->object_detection==0.1) (4.8.1.78)\n",
      "Requirement already satisfied: contourpy>=1.0.1 in /Users/quangnguyen/Documents/gsc24-test/TFODCourse/tfod/lib/python3.11/site-packages (from matplotlib->object_detection==0.1) (1.2.0)\n",
      "Requirement already satisfied: fonttools>=4.22.0 in /Users/quangnguyen/Documents/gsc24-test/TFODCourse/tfod/lib/python3.11/site-packages (from matplotlib->object_detection==0.1) (4.47.0)\n",
      "Requirement already satisfied: tensorflow-io-gcs-filesystem==0.34.0 in /Users/quangnguyen/Documents/gsc24-test/TFODCourse/tfod/lib/python3.11/site-packages (from tensorflow_io->object_detection==0.1) (0.34.0)\n",
      "Requirement already satisfied: google-auth<3.0.0.dev0,>=1.19.0 in /Users/quangnguyen/Documents/gsc24-test/TFODCourse/tfod/lib/python3.11/site-packages (from google-api-python-client>=1.6.7->tf-models-official>=2.5.1->object_detection==0.1) (2.25.2)\n",
      "Requirement already satisfied: google-auth-httplib2>=0.1.0 in /Users/quangnguyen/Documents/gsc24-test/TFODCourse/tfod/lib/python3.11/site-packages (from google-api-python-client>=1.6.7->tf-models-official>=2.5.1->object_detection==0.1) (0.2.0)\n",
      "Requirement already satisfied: google-api-core!=2.0.*,!=2.1.*,!=2.2.*,!=2.3.0,<3.0.0.dev0,>=1.31.5 in /Users/quangnguyen/Documents/gsc24-test/TFODCourse/tfod/lib/python3.11/site-packages (from google-api-python-client>=1.6.7->tf-models-official>=2.5.1->object_detection==0.1) (2.15.0)\n",
      "Requirement already satisfied: uritemplate<5,>=3.0.1 in /Users/quangnguyen/Documents/gsc24-test/TFODCourse/tfod/lib/python3.11/site-packages (from google-api-python-client>=1.6.7->tf-models-official>=2.5.1->object_detection==0.1) (4.1.1)\n",
      "Requirement already satisfied: docopt in /Users/quangnguyen/Documents/gsc24-test/TFODCourse/tfod/lib/python3.11/site-packages (from hdfs<3.0.0,>=2.1.0->apache-beam->object_detection==0.1) (0.6.2)\n",
      "Requirement already satisfied: tzlocal>=1.2 in /Users/quangnguyen/Documents/gsc24-test/TFODCourse/tfod/lib/python3.11/site-packages (from js2py<1,>=0.74->apache-beam->object_detection==0.1) (5.2)\n",
      "Requirement already satisfied: pyjsparser>=2.5.1 in /Users/quangnguyen/Documents/gsc24-test/TFODCourse/tfod/lib/python3.11/site-packages (from js2py<1,>=0.74->apache-beam->object_detection==0.1) (2.7.1)\n",
      "Requirement already satisfied: attrs>=22.2.0 in /Users/quangnguyen/Documents/gsc24-test/TFODCourse/tfod/lib/python3.11/site-packages (from jsonschema<5.0.0,>=4.0.0->apache-beam->object_detection==0.1) (23.1.0)\n",
      "Requirement already satisfied: jsonschema-specifications>=2023.03.6 in /Users/quangnguyen/Documents/gsc24-test/TFODCourse/tfod/lib/python3.11/site-packages (from jsonschema<5.0.0,>=4.0.0->apache-beam->object_detection==0.1) (2023.11.2)\n",
      "Requirement already satisfied: referencing>=0.28.4 in /Users/quangnguyen/Documents/gsc24-test/TFODCourse/tfod/lib/python3.11/site-packages (from jsonschema<5.0.0,>=4.0.0->apache-beam->object_detection==0.1) (0.32.0)\n",
      "Requirement already satisfied: rpds-py>=0.7.1 in /Users/quangnguyen/Documents/gsc24-test/TFODCourse/tfod/lib/python3.11/site-packages (from jsonschema<5.0.0,>=4.0.0->apache-beam->object_detection==0.1) (0.15.2)\n",
      "Requirement already satisfied: certifi in /Users/quangnguyen/Documents/gsc24-test/TFODCourse/tfod/lib/python3.11/site-packages (from kaggle>=1.3.9->tf-models-official>=2.5.1->object_detection==0.1) (2023.11.17)\n",
      "Requirement already satisfied: tqdm in /Users/quangnguyen/Documents/gsc24-test/TFODCourse/tfod/lib/python3.11/site-packages (from kaggle>=1.3.9->tf-models-official>=2.5.1->object_detection==0.1) (4.66.1)\n",
      "Requirement already satisfied: python-slugify in /Users/quangnguyen/Documents/gsc24-test/TFODCourse/tfod/lib/python3.11/site-packages (from kaggle>=1.3.9->tf-models-official>=2.5.1->object_detection==0.1) (8.0.1)\n",
      "Requirement already satisfied: urllib3 in /Users/quangnguyen/Documents/gsc24-test/TFODCourse/tfod/lib/python3.11/site-packages (from kaggle>=1.3.9->tf-models-official>=2.5.1->object_detection==0.1) (2.1.0)\n",
      "Requirement already satisfied: bleach in /Users/quangnguyen/Documents/gsc24-test/TFODCourse/tfod/lib/python3.11/site-packages (from kaggle>=1.3.9->tf-models-official>=2.5.1->object_detection==0.1) (6.1.0)\n",
      "Requirement already satisfied: dnspython<3.0.0,>=1.16.0 in /Users/quangnguyen/Documents/gsc24-test/TFODCourse/tfod/lib/python3.11/site-packages (from pymongo<5.0.0,>=3.8.0->apache-beam->object_detection==0.1) (2.4.2)\n",
      "Requirement already satisfied: charset-normalizer<4,>=2 in /Users/quangnguyen/Documents/gsc24-test/TFODCourse/tfod/lib/python3.11/site-packages (from requests<3.0.0,>=2.24.0->apache-beam->object_detection==0.1) (3.3.2)\n",
      "Requirement already satisfied: idna<4,>=2.5 in /Users/quangnguyen/Documents/gsc24-test/TFODCourse/tfod/lib/python3.11/site-packages (from requests<3.0.0,>=2.24.0->apache-beam->object_detection==0.1) (3.6)\n",
      "Requirement already satisfied: tensorflow-macos==2.15.0 in /Users/quangnguyen/Documents/gsc24-test/TFODCourse/tfod/lib/python3.11/site-packages (from tensorflow>=2.5.0->tf-models-official>=2.5.1->object_detection==0.1) (2.15.0)\n",
      "Requirement already satisfied: astunparse>=1.6.0 in /Users/quangnguyen/Documents/gsc24-test/TFODCourse/tfod/lib/python3.11/site-packages (from tensorflow-macos==2.15.0->tensorflow>=2.5.0->tf-models-official>=2.5.1->object_detection==0.1) (1.6.3)\n",
      "Requirement already satisfied: flatbuffers>=23.5.26 in /Users/quangnguyen/Documents/gsc24-test/TFODCourse/tfod/lib/python3.11/site-packages (from tensorflow-macos==2.15.0->tensorflow>=2.5.0->tf-models-official>=2.5.1->object_detection==0.1) (23.5.26)\n",
      "Requirement already satisfied: gast!=0.5.0,!=0.5.1,!=0.5.2,>=0.2.1 in /Users/quangnguyen/Documents/gsc24-test/TFODCourse/tfod/lib/python3.11/site-packages (from tensorflow-macos==2.15.0->tensorflow>=2.5.0->tf-models-official>=2.5.1->object_detection==0.1) (0.5.4)\n",
      "Requirement already satisfied: google-pasta>=0.1.1 in /Users/quangnguyen/Documents/gsc24-test/TFODCourse/tfod/lib/python3.11/site-packages (from tensorflow-macos==2.15.0->tensorflow>=2.5.0->tf-models-official>=2.5.1->object_detection==0.1) (0.2.0)\n",
      "Requirement already satisfied: h5py>=2.9.0 in /Users/quangnguyen/Documents/gsc24-test/TFODCourse/tfod/lib/python3.11/site-packages (from tensorflow-macos==2.15.0->tensorflow>=2.5.0->tf-models-official>=2.5.1->object_detection==0.1) (3.10.0)\n",
      "Requirement already satisfied: libclang>=13.0.0 in /Users/quangnguyen/Documents/gsc24-test/TFODCourse/tfod/lib/python3.11/site-packages (from tensorflow-macos==2.15.0->tensorflow>=2.5.0->tf-models-official>=2.5.1->object_detection==0.1) (16.0.6)\n",
      "Requirement already satisfied: ml-dtypes~=0.2.0 in /Users/quangnguyen/Documents/gsc24-test/TFODCourse/tfod/lib/python3.11/site-packages (from tensorflow-macos==2.15.0->tensorflow>=2.5.0->tf-models-official>=2.5.1->object_detection==0.1) (0.2.0)\n",
      "Requirement already satisfied: opt-einsum>=2.3.2 in /Users/quangnguyen/Documents/gsc24-test/TFODCourse/tfod/lib/python3.11/site-packages (from tensorflow-macos==2.15.0->tensorflow>=2.5.0->tf-models-official>=2.5.1->object_detection==0.1) (3.3.0)\n",
      "Requirement already satisfied: setuptools in /Users/quangnguyen/Documents/gsc24-test/TFODCourse/tfod/lib/python3.11/site-packages (from tensorflow-macos==2.15.0->tensorflow>=2.5.0->tf-models-official>=2.5.1->object_detection==0.1) (69.0.3)\n",
      "Requirement already satisfied: termcolor>=1.1.0 in /Users/quangnguyen/Documents/gsc24-test/TFODCourse/tfod/lib/python3.11/site-packages (from tensorflow-macos==2.15.0->tensorflow>=2.5.0->tf-models-official>=2.5.1->object_detection==0.1) (2.4.0)\n",
      "Requirement already satisfied: wrapt<1.15,>=1.11.0 in /Users/quangnguyen/Documents/gsc24-test/TFODCourse/tfod/lib/python3.11/site-packages (from tensorflow-macos==2.15.0->tensorflow>=2.5.0->tf-models-official>=2.5.1->object_detection==0.1) (1.14.1)\n",
      "Requirement already satisfied: tensorboard<2.16,>=2.15 in /Users/quangnguyen/Documents/gsc24-test/TFODCourse/tfod/lib/python3.11/site-packages (from tensorflow-macos==2.15.0->tensorflow>=2.5.0->tf-models-official>=2.5.1->object_detection==0.1) (2.15.1)\n",
      "Requirement already satisfied: tensorflow-estimator<2.16,>=2.15.0 in /Users/quangnguyen/Documents/gsc24-test/TFODCourse/tfod/lib/python3.11/site-packages (from tensorflow-macos==2.15.0->tensorflow>=2.5.0->tf-models-official>=2.5.1->object_detection==0.1) (2.15.0)\n",
      "Requirement already satisfied: dm-tree~=0.1.1 in /Users/quangnguyen/Documents/gsc24-test/TFODCourse/tfod/lib/python3.11/site-packages (from tensorflow-model-optimization>=0.4.1->tf-models-official>=2.5.1->object_detection==0.1) (0.1.8)\n",
      "Requirement already satisfied: pyasn1>=0.1.7 in /Users/quangnguyen/Documents/gsc24-test/TFODCourse/tfod/lib/python3.11/site-packages (from oauth2client->tf-models-official>=2.5.1->object_detection==0.1) (0.5.1)\n",
      "Requirement already satisfied: pyasn1-modules>=0.0.5 in /Users/quangnguyen/Documents/gsc24-test/TFODCourse/tfod/lib/python3.11/site-packages (from oauth2client->tf-models-official>=2.5.1->object_detection==0.1) (0.3.0)\n",
      "Requirement already satisfied: rsa>=3.1.4 in /Users/quangnguyen/Documents/gsc24-test/TFODCourse/tfod/lib/python3.11/site-packages (from oauth2client->tf-models-official>=2.5.1->object_detection==0.1) (4.9)\n",
      "Requirement already satisfied: scikit-learn>=0.21.3 in /Users/quangnguyen/Documents/gsc24-test/TFODCourse/tfod/lib/python3.11/site-packages (from seqeval->tf-models-official>=2.5.1->object_detection==0.1) (1.3.2)\n",
      "Requirement already satisfied: typeguard<3.0.0,>=2.7 in /Users/quangnguyen/Documents/gsc24-test/TFODCourse/tfod/lib/python3.11/site-packages (from tensorflow-addons->tf-models-official>=2.5.1->object_detection==0.1) (2.13.3)\n",
      "Requirement already satisfied: click in /Users/quangnguyen/Documents/gsc24-test/TFODCourse/tfod/lib/python3.11/site-packages (from tensorflow-datasets->tf-models-official>=2.5.1->object_detection==0.1) (8.1.7)\n",
      "Requirement already satisfied: etils>=0.9.0 in /Users/quangnguyen/Documents/gsc24-test/TFODCourse/tfod/lib/python3.11/site-packages (from etils[enp,epath,etree]>=0.9.0->tensorflow-datasets->tf-models-official>=2.5.1->object_detection==0.1) (1.6.0)\n",
      "Requirement already satisfied: promise in /Users/quangnguyen/Documents/gsc24-test/TFODCourse/tfod/lib/python3.11/site-packages (from tensorflow-datasets->tf-models-official>=2.5.1->object_detection==0.1) (2.3)\n",
      "Requirement already satisfied: tensorflow-metadata in /Users/quangnguyen/Documents/gsc24-test/TFODCourse/tfod/lib/python3.11/site-packages (from tensorflow-datasets->tf-models-official>=2.5.1->object_detection==0.1) (1.14.0)\n",
      "Requirement already satisfied: toml in /Users/quangnguyen/Documents/gsc24-test/TFODCourse/tfod/lib/python3.11/site-packages (from tensorflow-datasets->tf-models-official>=2.5.1->object_detection==0.1) (0.10.2)\n",
      "Requirement already satisfied: fsspec in /Users/quangnguyen/Documents/gsc24-test/TFODCourse/tfod/lib/python3.11/site-packages (from etils[enp,epath,etree]>=0.9.0->tensorflow-datasets->tf-models-official>=2.5.1->object_detection==0.1) (2023.12.2)\n",
      "Requirement already satisfied: importlib_resources in /Users/quangnguyen/Documents/gsc24-test/TFODCourse/tfod/lib/python3.11/site-packages (from etils[enp,epath,etree]>=0.9.0->tensorflow-datasets->tf-models-official>=2.5.1->object_detection==0.1) (6.1.1)\n",
      "Requirement already satisfied: zipp in /Users/quangnguyen/Documents/gsc24-test/TFODCourse/tfod/lib/python3.11/site-packages (from etils[enp,epath,etree]>=0.9.0->tensorflow-datasets->tf-models-official>=2.5.1->object_detection==0.1) (3.17.0)\n",
      "Requirement already satisfied: googleapis-common-protos<2.0.dev0,>=1.56.2 in /Users/quangnguyen/Documents/gsc24-test/TFODCourse/tfod/lib/python3.11/site-packages (from google-api-core!=2.0.*,!=2.1.*,!=2.2.*,!=2.3.0,<3.0.0.dev0,>=1.31.5->google-api-python-client>=1.6.7->tf-models-official>=2.5.1->object_detection==0.1) (1.62.0)\n",
      "Requirement already satisfied: cachetools<6.0,>=2.0.0 in /Users/quangnguyen/Documents/gsc24-test/TFODCourse/tfod/lib/python3.11/site-packages (from google-auth<3.0.0.dev0,>=1.19.0->google-api-python-client>=1.6.7->tf-models-official>=2.5.1->object_detection==0.1) (5.3.2)\n",
      "Requirement already satisfied: joblib>=1.1.1 in /Users/quangnguyen/Documents/gsc24-test/TFODCourse/tfod/lib/python3.11/site-packages (from scikit-learn>=0.21.3->seqeval->tf-models-official>=2.5.1->object_detection==0.1) (1.3.2)\n",
      "Requirement already satisfied: threadpoolctl>=2.0.0 in /Users/quangnguyen/Documents/gsc24-test/TFODCourse/tfod/lib/python3.11/site-packages (from scikit-learn>=0.21.3->seqeval->tf-models-official>=2.5.1->object_detection==0.1) (3.2.0)\n",
      "Requirement already satisfied: webencodings in /Users/quangnguyen/Documents/gsc24-test/TFODCourse/tfod/lib/python3.11/site-packages (from bleach->kaggle>=1.3.9->tf-models-official>=2.5.1->object_detection==0.1) (0.5.1)\n",
      "Requirement already satisfied: text-unidecode>=1.3 in /Users/quangnguyen/Documents/gsc24-test/TFODCourse/tfod/lib/python3.11/site-packages (from python-slugify->kaggle>=1.3.9->tf-models-official>=2.5.1->object_detection==0.1) (1.3)\n",
      "Requirement already satisfied: wheel<1.0,>=0.23.0 in /Users/quangnguyen/Documents/gsc24-test/TFODCourse/tfod/lib/python3.11/site-packages (from astunparse>=1.6.0->tensorflow-macos==2.15.0->tensorflow>=2.5.0->tf-models-official>=2.5.1->object_detection==0.1) (0.42.0)\n",
      "Requirement already satisfied: google-auth-oauthlib<2,>=0.5 in /Users/quangnguyen/Documents/gsc24-test/TFODCourse/tfod/lib/python3.11/site-packages (from tensorboard<2.16,>=2.15->tensorflow-macos==2.15.0->tensorflow>=2.5.0->tf-models-official>=2.5.1->object_detection==0.1) (1.2.0)\n",
      "Requirement already satisfied: markdown>=2.6.8 in /Users/quangnguyen/Documents/gsc24-test/TFODCourse/tfod/lib/python3.11/site-packages (from tensorboard<2.16,>=2.15->tensorflow-macos==2.15.0->tensorflow>=2.5.0->tf-models-official>=2.5.1->object_detection==0.1) (3.5.1)\n",
      "Requirement already satisfied: tensorboard-data-server<0.8.0,>=0.7.0 in /Users/quangnguyen/Documents/gsc24-test/TFODCourse/tfod/lib/python3.11/site-packages (from tensorboard<2.16,>=2.15->tensorflow-macos==2.15.0->tensorflow>=2.5.0->tf-models-official>=2.5.1->object_detection==0.1) (0.7.2)\n",
      "Requirement already satisfied: werkzeug>=1.0.1 in /Users/quangnguyen/Documents/gsc24-test/TFODCourse/tfod/lib/python3.11/site-packages (from tensorboard<2.16,>=2.15->tensorflow-macos==2.15.0->tensorflow>=2.5.0->tf-models-official>=2.5.1->object_detection==0.1) (3.0.1)\n",
      "Requirement already satisfied: requests-oauthlib>=0.7.0 in /Users/quangnguyen/Documents/gsc24-test/TFODCourse/tfod/lib/python3.11/site-packages (from google-auth-oauthlib<2,>=0.5->tensorboard<2.16,>=2.15->tensorflow-macos==2.15.0->tensorflow>=2.5.0->tf-models-official>=2.5.1->object_detection==0.1) (1.3.1)\n",
      "Requirement already satisfied: MarkupSafe>=2.1.1 in /Users/quangnguyen/Documents/gsc24-test/TFODCourse/tfod/lib/python3.11/site-packages (from werkzeug>=1.0.1->tensorboard<2.16,>=2.15->tensorflow-macos==2.15.0->tensorflow>=2.5.0->tf-models-official>=2.5.1->object_detection==0.1) (2.1.3)\n",
      "Requirement already satisfied: oauthlib>=3.0.0 in /Users/quangnguyen/Documents/gsc24-test/TFODCourse/tfod/lib/python3.11/site-packages (from requests-oauthlib>=0.7.0->google-auth-oauthlib<2,>=0.5->tensorboard<2.16,>=2.15->tensorflow-macos==2.15.0->tensorflow>=2.5.0->tf-models-official>=2.5.1->object_detection==0.1) (3.2.2)\n",
      "Building wheels for collected packages: object_detection\n",
      "  Building wheel for object_detection (setup.py) ... \u001b[?25ldone\n",
      "\u001b[?25h  Created wheel for object_detection: filename=object_detection-0.1-py3-none-any.whl size=1656805 sha256=921b340e308c76bd393dad158c5e2c69886d23c54e0555c85fca64d2baa8d7cc\n",
      "  Stored in directory: /private/var/folders/n4/7j7k85wj3cj51xb2m6wn13b40000gn/T/pip-ephem-wheel-cache-m2l9jm2u/wheels/72/54/7b/d54a82fcb6400127bcec221d8c802d4346b6db68f440495a66\n",
      "Successfully built object_detection\n",
      "Installing collected packages: object_detection\n",
      "  Attempting uninstall: object_detection\n",
      "    Found existing installation: object_detection 0.1\n",
      "    Uninstalling object_detection-0.1:\n",
      "      Successfully uninstalled object_detection-0.1\n",
      "Successfully installed object_detection-0.1\n"
     ]
    }
   ],
   "source": [
    "# Install Tensorflow Object Detection \n",
    "if os.name=='posix':  \n",
    "    #!apt-get install protobuf-compiler\n",
    "    \n",
    "    # Work-around to solve the bug with version confliction of PyYaml and Cython \n",
    "    !pip install \"cython<3.0.0\" wheel\n",
    "    !pip install \"pyyaml==5.4.1\" --no-build-isolation\n",
    "    !pip install -r requirements.txt\n",
    "\n",
    "    # Install protobuf via brew as package installer\n",
    "    !brew install protobuf\n",
    "    !brew link --overwrite protobuf\n",
    "    !pip install tf-models-official\n",
    "    !pip install wheel setuptools pip --upgrade\n",
    "    !cd Tensorflow/models/research && protoc object_detection/protos/*.proto --python_out=. && cp object_detection/packages/tf2/setup.py . && python -m pip install . \n",
    "    \n",
    "if os.name=='nt':\n",
    "    url=\"https://github.com/protocolbuffers/protobuf/releases/download/v3.15.6/protoc-3.15.6-win64.zip\"\n",
    "    wget.download(url)\n",
    "    !move protoc-3.15.6-win64.zip {paths['PROTOC_PATH']}\n",
    "    !cd {paths['PROTOC_PATH']} && tar -xf protoc-3.15.6-win64.zip\n",
    "    os.environ['PATH'] += os.pathsep + os.path.abspath(os.path.join(paths['PROTOC_PATH'], 'bin'))   \n",
    "    !cd Tensorflow/models/research && protoc object_detection/protos/*.proto --python_out=. && copy object_detection\\\\packages\\\\tf2\\\\setup.py setup.py && python setup.py build && python setup.py install\n",
    "    !cd Tensorflow/models/research/slim && pip install -e . "
   ]
  },
  {
   "cell_type": "code",
   "execution_count": 1,
   "metadata": {},
   "outputs": [
    {
     "ename": "NameError",
     "evalue": "name 'os' is not defined",
     "output_type": "error",
     "traceback": [
      "\u001b[0;31m---------------------------------------------------------------------------\u001b[0m",
      "\u001b[0;31mNameError\u001b[0m                                 Traceback (most recent call last)",
      "Cell \u001b[0;32mIn[1], line 1\u001b[0m\n\u001b[0;32m----> 1\u001b[0m VERIFICATION_SCRIPT \u001b[38;5;241m=\u001b[39m \u001b[43mos\u001b[49m\u001b[38;5;241m.\u001b[39mpath\u001b[38;5;241m.\u001b[39mjoin(paths[\u001b[38;5;124m'\u001b[39m\u001b[38;5;124mAPIMODEL_PATH\u001b[39m\u001b[38;5;124m'\u001b[39m], \u001b[38;5;124m'\u001b[39m\u001b[38;5;124mresearch\u001b[39m\u001b[38;5;124m'\u001b[39m, \u001b[38;5;124m'\u001b[39m\u001b[38;5;124mobject_detection\u001b[39m\u001b[38;5;124m'\u001b[39m, \u001b[38;5;124m'\u001b[39m\u001b[38;5;124mbuilders\u001b[39m\u001b[38;5;124m'\u001b[39m, \u001b[38;5;124m'\u001b[39m\u001b[38;5;124mmodel_builder_tf2_test.py\u001b[39m\u001b[38;5;124m'\u001b[39m)\n\u001b[1;32m      2\u001b[0m \u001b[38;5;66;03m# Verify Installation\u001b[39;00m\n\u001b[1;32m      3\u001b[0m get_ipython()\u001b[38;5;241m.\u001b[39msystem(\u001b[38;5;124m'\u001b[39m\u001b[38;5;124mpython \u001b[39m\u001b[38;5;132;01m{VERIFICATION_SCRIPT}\u001b[39;00m\u001b[38;5;124m'\u001b[39m)\n",
      "\u001b[0;31mNameError\u001b[0m: name 'os' is not defined"
     ]
    }
   ],
   "source": [
    "VERIFICATION_SCRIPT = os.path.join(paths['APIMODEL_PATH'], 'research', 'object_detection', 'builders', 'model_builder_tf2_test.py')\n",
    "# Verify Installation\n",
    "!python {VERIFICATION_SCRIPT}"
   ]
  },
  {
   "cell_type": "code",
   "execution_count": 3,
   "metadata": {},
   "outputs": [
    {
     "name": "stdout",
     "output_type": "stream",
     "text": [
      "\u001b[33mWARNING: Skipping tensorflow as it is not installed.\u001b[0m\u001b[33m\n",
      "\u001b[0m\u001b[31mERROR: Could not find a version that satisfies the requirement tensorflow==2.4.1 (from versions: 2.13.0rc0, 2.13.0rc1, 2.13.0rc2, 2.13.0, 2.13.1, 2.14.0rc0, 2.14.0rc1, 2.14.0, 2.14.1, 2.15.0rc0, 2.15.0rc1, 2.15.0)\u001b[0m\u001b[31m\n",
      "\u001b[0m\u001b[31mERROR: No matching distribution found for tensorflow==2.4.1\u001b[0m\u001b[31m\n",
      "\u001b[0m"
     ]
    }
   ],
   "source": [
    "!pip uninstall tensorflow -y\n",
    "!pip install tensorflow==2.4.1\n",
    "# brew install tensorflow"
   ]
  },
  {
   "cell_type": "code",
   "execution_count": null,
   "metadata": {
    "collapsed": true,
    "jupyter": {
     "outputs_hidden": true
    }
   },
   "outputs": [],
   "source": [
    "!pip uninstall protobuf matplotlib -y\n",
    "!pip install protobuf matplotlib==3.2"
   ]
  },
  {
   "cell_type": "code",
   "execution_count": 17,
   "metadata": {},
   "outputs": [],
   "source": [
    "import object_detection"
   ]
  },
  {
   "cell_type": "code",
   "execution_count": null,
   "metadata": {
    "scrolled": true
   },
   "outputs": [],
   "source": [
    "!pip list"
   ]
  },
  {
   "cell_type": "code",
   "execution_count": null,
   "metadata": {
    "colab": {
     "base_uri": "https://localhost:8080/"
    },
    "id": "csofht2npfDE",
    "outputId": "ff5471b2-bed2-43f2-959c-327a706527b6"
   },
   "outputs": [],
   "source": [
    "if os.name =='posix':\n",
    "    !wget {PRETRAINED_MODEL_URL}\n",
    "    !mv {PRETRAINED_MODEL_NAME+'.tar.gz'} {paths['PRETRAINED_MODEL_PATH']}\n",
    "    !cd {paths['PRETRAINED_MODEL_PATH']} && tar -zxvf {PRETRAINED_MODEL_NAME+'.tar.gz'}\n",
    "if os.name == 'nt':\n",
    "    wget.download(PRETRAINED_MODEL_URL)\n",
    "    !move {PRETRAINED_MODEL_NAME+'.tar.gz'} {paths['PRETRAINED_MODEL_PATH']}\n",
    "    !cd {paths['PRETRAINED_MODEL_PATH']} && tar -zxvf {PRETRAINED_MODEL_NAME+'.tar.gz'}"
   ]
  },
  {
   "cell_type": "markdown",
   "metadata": {
    "id": "M5KJTnkfpfDC"
   },
   "source": [
    "# 2. Create Label Map"
   ]
  },
  {
   "cell_type": "code",
   "execution_count": 12,
   "metadata": {
    "id": "p1BVDWo7pfDC"
   },
   "outputs": [],
   "source": [
    "labels = [{'name':'bacon', 'id':1},\n",
    "          {'name':'broccoli', 'id':2},\n",
    "          {'name':'fish', 'id':3},\n",
    "          {'name':'french_fries', 'id':4},\n",
    "          {'name':'grilled_chicken', 'id':5},\n",
    "          {'name':'lettuce', 'id':6},\n",
    "          {'name':'pasta', 'id':7},\n",
    "          {'name':'sausage', 'id':8},\n",
    "          {'name':'scrambled_egg', 'id':9}]\n",
    "\n",
    "with open(files['LABELMAP'], 'w') as f:\n",
    "    for label in labels:\n",
    "        f.write('item { \\n')\n",
    "        f.write('\\tname:\\'{}\\'\\n'.format(label['name']))\n",
    "        f.write('\\tid:{}\\n'.format(label['id']))\n",
    "        f.write('}\\n')"
   ]
  },
  {
   "cell_type": "markdown",
   "metadata": {
    "id": "C88zyVELpfDC"
   },
   "source": [
    "# 3. Create TF records"
   ]
  },
  {
   "cell_type": "code",
   "execution_count": null,
   "metadata": {
    "colab": {
     "base_uri": "https://localhost:8080/"
    },
    "id": "kvf5WccwrFGq",
    "outputId": "49902aeb-0bd7-4298-e1a0-5b4a64eb2064"
   },
   "outputs": [],
   "source": [
    "# OPTIONAL IF RUNNING ON COLAB\n",
    "ARCHIVE_FILES = os.path.join(paths['IMAGE_PATH'], 'archive.tar.gz')\n",
    "if os.path.exists(ARCHIVE_FILES):\n",
    "  !tar -zxvf {ARCHIVE_FILES}"
   ]
  },
  {
   "cell_type": "code",
   "execution_count": 25,
   "metadata": {
    "colab": {
     "base_uri": "https://localhost:8080/"
    },
    "id": "KWpb_BVUpfDD",
    "outputId": "56ce2a3f-3933-4ee6-8a9d-d5ec65f7d73c"
   },
   "outputs": [],
   "source": [
    "if not os.path.exists(files['TF_RECORD_SCRIPT']):\n",
    "    !git clone https://github.com/nicknochnack/GenerateTFRecord {paths['SCRIPTS_PATH']}"
   ]
  },
  {
   "cell_type": "code",
   "execution_count": null,
   "metadata": {
    "colab": {
     "base_uri": "https://localhost:8080/"
    },
    "id": "UPFToGZqpfDD",
    "outputId": "0ebb456f-aadc-4a1f-96e6-fbfec1923e1c"
   },
   "outputs": [],
   "source": [
    "!python {files['TF_RECORD_SCRIPT']} -x {os.path.join(paths['IMAGE_PATH'], 'train')} -l {files['LABELMAP']} -o {os.path.join(paths['ANNOTATION_PATH'], 'train.record')} \n",
    "!python {files['TF_RECORD_SCRIPT']} -x {os.path.join(paths['IMAGE_PATH'], 'test')} -l {files['LABELMAP']} -o {os.path.join(paths['ANNOTATION_PATH'], 'test.record')} "
   ]
  },
  {
   "cell_type": "markdown",
   "metadata": {
    "id": "qT4QU7pLpfDE"
   },
   "source": [
    "# 4. Copy Model Config to Training Folder"
   ]
  },
  {
   "cell_type": "code",
   "execution_count": null,
   "metadata": {
    "id": "cOjuTFbwpfDF"
   },
   "outputs": [],
   "source": [
    "if os.name =='posix':\n",
    "    !cp {os.path.join(paths['PRETRAINED_MODEL_PATH'], PRETRAINED_MODEL_NAME, 'pipeline.config')} {os.path.join(paths['CHECKPOINT_PATH'])}\n",
    "if os.name == 'nt':\n",
    "    !copy {os.path.join(paths['PRETRAINED_MODEL_PATH'], PRETRAINED_MODEL_NAME, 'pipeline.config')} {os.path.join(paths['CHECKPOINT_PATH'])}"
   ]
  },
  {
   "cell_type": "markdown",
   "metadata": {
    "id": "Ga8gpNslpfDF"
   },
   "source": [
    "# 5. Update Config For Transfer Learning"
   ]
  },
  {
   "cell_type": "code",
   "execution_count": 7,
   "metadata": {
    "id": "Z9hRrO_ppfDF"
   },
   "outputs": [],
   "source": [
    "import tensorflow as tf\n",
    "from object_detection.utils import config_util\n",
    "from object_detection.protos import pipeline_pb2\n",
    "from google.protobuf import text_format"
   ]
  },
  {
   "cell_type": "code",
   "execution_count": 15,
   "metadata": {
    "id": "c2A0mn4ipfDF"
   },
   "outputs": [],
   "source": [
    "config = config_util.get_configs_from_pipeline_file(files['PIPELINE_CONFIG'])"
   ]
  },
  {
   "cell_type": "code",
   "execution_count": null,
   "metadata": {
    "colab": {
     "base_uri": "https://localhost:8080/"
    },
    "id": "uQA13-afpfDF",
    "outputId": "907496a4-a39d-4b13-8c2c-e5978ecb1f10"
   },
   "outputs": [],
   "source": [
    "config"
   ]
  },
  {
   "cell_type": "code",
   "execution_count": 10,
   "metadata": {
    "id": "9vK5lotDpfDF"
   },
   "outputs": [],
   "source": [
    "pipeline_config = pipeline_pb2.TrainEvalPipelineConfig()\n",
    "with tf.io.gfile.GFile(files['PIPELINE_CONFIG'], \"r\") as f:                                                                                                                                                                                                                     \n",
    "    proto_str = f.read()                                                                                                                                                                                                                                          \n",
    "    text_format.Merge(proto_str, pipeline_config)  "
   ]
  },
  {
   "cell_type": "code",
   "execution_count": 13,
   "metadata": {
    "id": "rP43Ph0JpfDG"
   },
   "outputs": [],
   "source": [
    "pipeline_config.model.ssd.num_classes = len(labels)\n",
    "pipeline_config.train_config.batch_size = 4\n",
    "pipeline_config.train_config.fine_tune_checkpoint = os.path.join(paths['PRETRAINED_MODEL_PATH'], PRETRAINED_MODEL_NAME, 'checkpoint', 'ckpt-0')\n",
    "pipeline_config.train_config.fine_tune_checkpoint_type = \"detection\"\n",
    "pipeline_config.train_input_reader.label_map_path= files['LABELMAP']\n",
    "pipeline_config.train_input_reader.tf_record_input_reader.input_path[:] = [os.path.join(paths['ANNOTATION_PATH'], 'train.record')]\n",
    "pipeline_config.eval_input_reader[0].label_map_path = files['LABELMAP']\n",
    "pipeline_config.eval_input_reader[0].tf_record_input_reader.input_path[:] = [os.path.join(paths['ANNOTATION_PATH'], 'test.record')]"
   ]
  },
  {
   "cell_type": "code",
   "execution_count": 14,
   "metadata": {
    "id": "oJvfgwWqpfDG"
   },
   "outputs": [],
   "source": [
    "config_text = text_format.MessageToString(pipeline_config)                                                                                                                                                                                                        \n",
    "with tf.io.gfile.GFile(files['PIPELINE_CONFIG'], \"wb\") as f:                                                                                                                                                                                                                     \n",
    "    f.write(config_text)   "
   ]
  },
  {
   "cell_type": "markdown",
   "metadata": {
    "id": "Zr3ON7xMpfDG"
   },
   "source": [
    "# 6. Train the model"
   ]
  },
  {
   "cell_type": "code",
   "execution_count": 17,
   "metadata": {
    "id": "B-Y2UQmQpfDG"
   },
   "outputs": [],
   "source": [
    "TRAINING_SCRIPT = os.path.join(paths['APIMODEL_PATH'], 'research', 'object_detection', 'model_main_tf2.py')"
   ]
  },
  {
   "cell_type": "code",
   "execution_count": 18,
   "metadata": {
    "id": "jMP2XDfQpfDH"
   },
   "outputs": [],
   "source": [
    "command = \"python {} --model_dir={} --pipeline_config_path={} --num_train_steps=2000\".format(TRAINING_SCRIPT, paths['CHECKPOINT_PATH'],files['PIPELINE_CONFIG'])"
   ]
  },
  {
   "cell_type": "code",
   "execution_count": null,
   "metadata": {
    "colab": {
     "base_uri": "https://localhost:8080/"
    },
    "id": "A4OXXi-ApfDH",
    "outputId": "117a0e83-012b-466e-b7a6-ccaa349ac5ab"
   },
   "outputs": [],
   "source": [
    "print(command)"
   ]
  },
  {
   "cell_type": "code",
   "execution_count": null,
   "metadata": {
    "colab": {
     "base_uri": "https://localhost:8080/"
    },
    "id": "i3ZsJR-qpfDH",
    "outputId": "cabec5e1-45e6-4f2f-d9cf-297d9c1d0225"
   },
   "outputs": [],
   "source": [
    "!{command}"
   ]
  },
  {
   "cell_type": "markdown",
   "metadata": {
    "id": "4_YRZu7npfDH"
   },
   "source": [
    "# 7. Evaluate the Model"
   ]
  },
  {
   "cell_type": "code",
   "execution_count": 20,
   "metadata": {
    "id": "80L7-fdPpfDH"
   },
   "outputs": [],
   "source": [
    "command = \"python {} --model_dir={} --pipeline_config_path={} --checkpoint_dir={}\".format(TRAINING_SCRIPT, paths['CHECKPOINT_PATH'],files['PIPELINE_CONFIG'], paths['CHECKPOINT_PATH'])"
   ]
  },
  {
   "cell_type": "code",
   "execution_count": null,
   "metadata": {
    "colab": {
     "base_uri": "https://localhost:8080/"
    },
    "id": "lYsgEPx9pfDH",
    "outputId": "8632d48b-91d2-45d9-bcb8-c1b172bf6eed"
   },
   "outputs": [],
   "source": [
    "print(command)"
   ]
  },
  {
   "cell_type": "code",
   "execution_count": null,
   "metadata": {
    "id": "lqTV2jGBpfDH"
   },
   "outputs": [],
   "source": [
    "!{command}"
   ]
  },
  {
   "cell_type": "markdown",
   "metadata": {
    "id": "orvRk02UpfDI"
   },
   "source": [
    "# 8. Load Train Model From Checkpoint"
   ]
  },
  {
   "cell_type": "code",
   "execution_count": 7,
   "metadata": {
    "id": "8TYk4_oIpfDI"
   },
   "outputs": [],
   "source": [
    "import os\n",
    "import tensorflow as tf\n",
    "from object_detection.utils import label_map_util\n",
    "from object_detection.utils import visualization_utils as viz_utils\n",
    "from object_detection.builders import model_builder\n",
    "from object_detection.utils import config_util"
   ]
  },
  {
   "cell_type": "code",
   "execution_count": 11,
   "metadata": {
    "id": "tDnQg-cYpfDI"
   },
   "outputs": [],
   "source": [
    "# Load pipeline config and build a detection model\n",
    "configs = config_util.get_configs_from_pipeline_file(files['PIPELINE_CONFIG'])\n",
    "detection_model = model_builder.build(model_config=configs['model'], is_training=False)\n",
    "\n",
    "# Restore checkpoint\n",
    "ckpt = tf.compat.v2.train.Checkpoint(model=detection_model)\n",
    "ckpt.restore(os.path.join(paths['CHECKPOINT_PATH'], 'ckpt-5')).expect_partial()\n",
    "\n",
    "@tf.function\n",
    "def detect_fn(image):\n",
    "    image, shapes = detection_model.preprocess(image)\n",
    "    prediction_dict = detection_model.predict(image, shapes)\n",
    "    detections = detection_model.postprocess(prediction_dict, shapes)\n",
    "    return detections"
   ]
  },
  {
   "cell_type": "markdown",
   "metadata": {
    "id": "0EmsmbBZpfDI"
   },
   "source": [
    "# 9. Detect from an Image"
   ]
  },
  {
   "cell_type": "code",
   "execution_count": 9,
   "metadata": {
    "id": "Y_MKiuZ4pfDI"
   },
   "outputs": [],
   "source": [
    "import cv2 \n",
    "import numpy as np\n",
    "from matplotlib import pyplot as plt\n",
    "%matplotlib inline"
   ]
  },
  {
   "cell_type": "code",
   "execution_count": 10,
   "metadata": {
    "id": "cBDbIhNapfDI"
   },
   "outputs": [],
   "source": [
    "category_index = label_map_util.create_category_index_from_labelmap(files['LABELMAP'])"
   ]
  },
  {
   "cell_type": "code",
   "execution_count": 12,
   "metadata": {
    "id": "Lx3crOhOzITB"
   },
   "outputs": [],
   "source": [
    "IMAGE_PATH = os.path.join(paths['IMAGE_PATH'], 'test', 'livelong.02533422-940e-11eb-9dbd-5cf3709bbcc6.jpg')"
   ]
  },
  {
   "cell_type": "code",
   "execution_count": null,
   "metadata": {
    "colab": {
     "base_uri": "https://localhost:8080/",
     "height": 269
    },
    "id": "Tpzn1SMry1yK",
    "outputId": "c392a2c5-10fe-4fc4-9998-a1d4c7db2bd3"
   },
   "outputs": [],
   "source": [
    "img = cv2.imread(IMAGE_PATH)\n",
    "image_np = np.array(img)\n",
    "\n",
    "input_tensor = tf.convert_to_tensor(np.expand_dims(image_np, 0), dtype=tf.float32)\n",
    "detections = detect_fn(input_tensor)\n",
    "\n",
    "num_detections = int(detections.pop('num_detections'))\n",
    "detections = {key: value[0, :num_detections].numpy()\n",
    "              for key, value in detections.items()}\n",
    "detections['num_detections'] = num_detections\n",
    "\n",
    "# detection_classes should be ints.\n",
    "detections['detection_classes'] = detections['detection_classes'].astype(np.int64)\n",
    "\n",
    "label_id_offset = 1\n",
    "image_np_with_detections = image_np.copy()\n",
    "\n",
    "viz_utils.visualize_boxes_and_labels_on_image_array(\n",
    "            image_np_with_detections,\n",
    "            detections['detection_boxes'],\n",
    "            detections['detection_classes']+label_id_offset,\n",
    "            detections['detection_scores'],\n",
    "            category_index,\n",
    "            use_normalized_coordinates=True,\n",
    "            max_boxes_to_draw=5,\n",
    "            min_score_thresh=.8,\n",
    "            agnostic_mode=False)\n",
    "\n",
    "plt.imshow(cv2.cvtColor(image_np_with_detections, cv2.COLOR_BGR2RGB))\n",
    "plt.show()"
   ]
  },
  {
   "cell_type": "markdown",
   "metadata": {
    "id": "IsNAaYAo0WVL"
   },
   "source": [
    "# 10. Real Time Detections from your Webcam"
   ]
  },
  {
   "cell_type": "code",
   "execution_count": null,
   "metadata": {},
   "outputs": [],
   "source": [
    "!pip uninstall opencv-python-headless -y"
   ]
  },
  {
   "cell_type": "code",
   "execution_count": 14,
   "metadata": {
    "id": "o_grs6OGpfDJ"
   },
   "outputs": [],
   "source": [
    "cap = cv2.VideoCapture(0)\n",
    "width = int(cap.get(cv2.CAP_PROP_FRAME_WIDTH))\n",
    "height = int(cap.get(cv2.CAP_PROP_FRAME_HEIGHT))\n",
    "\n",
    "while cap.isOpened(): \n",
    "    ret, frame = cap.read()\n",
    "    image_np = np.array(frame)\n",
    "    \n",
    "    input_tensor = tf.convert_to_tensor(np.expand_dims(image_np, 0), dtype=tf.float32)\n",
    "    detections = detect_fn(input_tensor)\n",
    "    \n",
    "    num_detections = int(detections.pop('num_detections'))\n",
    "    detections = {key: value[0, :num_detections].numpy()\n",
    "                  for key, value in detections.items()}\n",
    "    detections['num_detections'] = num_detections\n",
    "\n",
    "    # detection_classes should be ints.\n",
    "    detections['detection_classes'] = detections['detection_classes'].astype(np.int64)\n",
    "\n",
    "    label_id_offset = 1\n",
    "    image_np_with_detections = image_np.copy()\n",
    "\n",
    "    viz_utils.visualize_boxes_and_labels_on_image_array(\n",
    "                image_np_with_detections,\n",
    "                detections['detection_boxes'],\n",
    "                detections['detection_classes']+label_id_offset,\n",
    "                detections['detection_scores'],\n",
    "                category_index,\n",
    "                use_normalized_coordinates=True,\n",
    "                max_boxes_to_draw=5,\n",
    "                min_score_thresh=.8,\n",
    "                agnostic_mode=False)\n",
    "\n",
    "    cv2.imshow('object detection',  cv2.resize(image_np_with_detections, (800, 600)))\n",
    "    \n",
    "    if cv2.waitKey(10) & 0xFF == ord('q'):\n",
    "        cap.release()\n",
    "        cv2.destroyAllWindows()\n",
    "        break"
   ]
  },
  {
   "cell_type": "markdown",
   "metadata": {
    "id": "rzlM4jt0pfDJ"
   },
   "source": [
    "# 10. Freezing the Graph"
   ]
  },
  {
   "cell_type": "code",
   "execution_count": 15,
   "metadata": {
    "id": "n4olHB2npfDJ"
   },
   "outputs": [],
   "source": [
    "FREEZE_SCRIPT = os.path.join(paths['APIMODEL_PATH'], 'research', 'object_detection', 'exporter_main_v2.py ')"
   ]
  },
  {
   "cell_type": "code",
   "execution_count": 16,
   "metadata": {
    "id": "0AjO93QDpfDJ"
   },
   "outputs": [],
   "source": [
    "command = \"python {} --input_type=image_tensor --pipeline_config_path={} --trained_checkpoint_dir={} --output_directory={}\".format(FREEZE_SCRIPT ,files['PIPELINE_CONFIG'], paths['CHECKPOINT_PATH'], paths['OUTPUT_PATH'])"
   ]
  },
  {
   "cell_type": "code",
   "execution_count": null,
   "metadata": {
    "colab": {
     "base_uri": "https://localhost:8080/"
    },
    "id": "F6Lsp3tCpfDJ",
    "outputId": "c3828529-bf06-4df5-d7f3-145890ec3edd"
   },
   "outputs": [],
   "source": [
    "print(command)"
   ]
  },
  {
   "cell_type": "code",
   "execution_count": null,
   "metadata": {
    "colab": {
     "base_uri": "https://localhost:8080/"
    },
    "id": "1Sw1ULgHpfDJ",
    "outputId": "6fd441e1-9fc9-4889-d072-3395c21e40b6"
   },
   "outputs": [],
   "source": [
    "!{command}"
   ]
  },
  {
   "cell_type": "code",
   "execution_count": null,
   "metadata": {
    "colab": {
     "base_uri": "https://localhost:8080/"
    },
    "id": "gZ6UzY_fpfDK",
    "outputId": "0c84722e-1c2b-4002-d857-80827ade828a",
    "scrolled": true
   },
   "outputs": [],
   "source": [
    "!pip install tensorflowjs"
   ]
  },
  {
   "cell_type": "code",
   "execution_count": 20,
   "metadata": {
    "id": "0oxbVynHpfDK"
   },
   "outputs": [],
   "source": [
    "command = \"tensorflowjs_converter --input_format=tf_saved_model --output_node_names='detection_boxes,detection_classes,detection_features,detection_multiclass_scores,detection_scores,num_detections,raw_detection_boxes,raw_detection_scores' --output_format=tfjs_graph_model --signature_name=serving_default {} {}\".format(os.path.join(paths['OUTPUT_PATH'], 'saved_model'), paths['TFJS_PATH'])"
   ]
  },
  {
   "cell_type": "code",
   "execution_count": 21,
   "metadata": {
    "colab": {
     "base_uri": "https://localhost:8080/"
    },
    "id": "DB2AGNmJpfDK",
    "outputId": "fbc9f747-f511-47e8-df8f-5ea65cef0374"
   },
   "outputs": [
    {
     "name": "stdout",
     "output_type": "stream",
     "text": [
      "tensorflowjs_converter --input_format=tf_saved_model --output_node_names='detection_boxes,detection_classes,detection_features,detection_multiclass_scores,detection_scores,num_detections,raw_detection_boxes,raw_detection_scores' --output_format=tfjs_graph_model --signature_name=serving_default Tensorflow\\workspace\\models\\my_ssd_mobnet\\export\\saved_model Tensorflow\\workspace\\models\\my_ssd_mobnet\\tfjsexport\n"
     ]
    }
   ],
   "source": [
    "print(command)"
   ]
  },
  {
   "cell_type": "code",
   "execution_count": null,
   "metadata": {
    "colab": {
     "base_uri": "https://localhost:8080/"
    },
    "id": "K7rfT4-hpfDK",
    "outputId": "532707fd-6feb-4bc6-84a3-325b5d16303c"
   },
   "outputs": [],
   "source": [
    "!{command}"
   ]
  },
  {
   "cell_type": "code",
   "execution_count": null,
   "metadata": {
    "id": "o8_hm-itpfDK"
   },
   "outputs": [],
   "source": [
    "# Test Code: https://github.com/nicknochnack/RealTimeSignLanguageDetectionwithTFJS"
   ]
  },
  {
   "cell_type": "markdown",
   "metadata": {
    "id": "VtUw73FHpfDK"
   },
   "source": [
    "# 11. Conversion to TFLite"
   ]
  },
  {
   "cell_type": "code",
   "execution_count": 23,
   "metadata": {
    "id": "XviMtewLpfDK"
   },
   "outputs": [],
   "source": [
    "TFLITE_SCRIPT = os.path.join(paths['APIMODEL_PATH'], 'research', 'object_detection', 'export_tflite_graph_tf2.py ')"
   ]
  },
  {
   "cell_type": "code",
   "execution_count": 24,
   "metadata": {
    "id": "us86cjC4pfDL"
   },
   "outputs": [],
   "source": [
    "command = \"python {} --pipeline_config_path={} --trained_checkpoint_dir={} --output_directory={}\".format(TFLITE_SCRIPT ,files['PIPELINE_CONFIG'], paths['CHECKPOINT_PATH'], paths['TFLITE_PATH'])"
   ]
  },
  {
   "cell_type": "code",
   "execution_count": null,
   "metadata": {
    "colab": {
     "base_uri": "https://localhost:8080/"
    },
    "id": "n1r5YO3rpfDL",
    "outputId": "5fcdf7a4-eee2-4365-f1ca-1751968379ea"
   },
   "outputs": [],
   "source": [
    "print(command)"
   ]
  },
  {
   "cell_type": "code",
   "execution_count": null,
   "metadata": {
    "colab": {
     "base_uri": "https://localhost:8080/"
    },
    "id": "I-xWpHN8pfDL",
    "outputId": "7f6bacd8-d077-43b5-c131-5b081fba24a4"
   },
   "outputs": [],
   "source": [
    "!{command}"
   ]
  },
  {
   "cell_type": "code",
   "execution_count": 27,
   "metadata": {
    "id": "iJfYMbN6pfDL"
   },
   "outputs": [],
   "source": [
    "FROZEN_TFLITE_PATH = os.path.join(paths['TFLITE_PATH'], 'saved_model')\n",
    "TFLITE_MODEL = os.path.join(paths['TFLITE_PATH'], 'saved_model', 'detect.tflite')"
   ]
  },
  {
   "cell_type": "code",
   "execution_count": 28,
   "metadata": {},
   "outputs": [],
   "source": [
    "command = \"tflite_convert \\\n",
    "--saved_model_dir={} \\\n",
    "--output_file={} \\\n",
    "--input_shapes=1,300,300,3 \\\n",
    "--input_arrays=normalized_input_image_tensor \\\n",
    "--output_arrays='TFLite_Detection_PostProcess','TFLite_Detection_PostProcess:1','TFLite_Detection_PostProcess:2','TFLite_Detection_PostProcess:3' \\\n",
    "--inference_type=FLOAT \\\n",
    "--allow_custom_ops\".format(FROZEN_TFLITE_PATH, TFLITE_MODEL, )"
   ]
  },
  {
   "cell_type": "code",
   "execution_count": null,
   "metadata": {
    "colab": {
     "base_uri": "https://localhost:8080/"
    },
    "id": "E8GwUeoFpfDL",
    "outputId": "fac43ea4-cc85-471b-a362-e994b06fd583"
   },
   "outputs": [],
   "source": [
    "print(command)"
   ]
  },
  {
   "cell_type": "code",
   "execution_count": null,
   "metadata": {
    "colab": {
     "base_uri": "https://localhost:8080/"
    },
    "id": "Nbd7gqHMpfDL",
    "outputId": "7c8fe6d5-2415-4641-8548-39d425c202f7"
   },
   "outputs": [],
   "source": [
    "!{command}"
   ]
  },
  {
   "cell_type": "markdown",
   "metadata": {
    "id": "5NQqZRdA21Uc"
   },
   "source": [
    "# 13. Zip and Export Models "
   ]
  },
  {
   "cell_type": "code",
   "execution_count": null,
   "metadata": {
    "id": "tTVTGCQp2ZJJ"
   },
   "outputs": [],
   "source": [
    "!tar -czf models.tar.gz {paths['CHECKPOINT_PATH']}"
   ]
  },
  {
   "cell_type": "code",
   "execution_count": null,
   "metadata": {
    "colab": {
     "base_uri": "https://localhost:8080/"
    },
    "id": "whShhB0x3PYJ",
    "outputId": "b773201d-35c9-46a8-b893-4a76bd4d5d97"
   },
   "outputs": [],
   "source": [
    "from google.colab import drive\n",
    "drive.mount('/content/drive')"
   ]
  }
 ],
 "metadata": {
  "accelerator": "GPU",
  "colab": {
   "name": "3. Training and Detection.ipynb",
   "provenance": []
  },
  "kernelspec": {
   "display_name": "newtfod",
   "language": "python",
   "name": "newtfod"
  },
  "language_info": {
   "codemirror_mode": {
    "name": "ipython",
    "version": 3
   },
   "file_extension": ".py",
   "mimetype": "text/x-python",
   "name": "python",
   "nbconvert_exporter": "python",
   "pygments_lexer": "ipython3",
   "version": "3.8.6"
  }
 },
 "nbformat": 4,
 "nbformat_minor": 4
}
