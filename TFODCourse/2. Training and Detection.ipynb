{
 "cells": [
  {
   "cell_type": "markdown",
   "metadata": {
    "id": "QUANWN3rpfC9"
   },
   "source": [
    "# 0. Setup Paths"
   ]
  },
  {
   "cell_type": "code",
   "execution_count": 1,
   "metadata": {
    "id": "146BB11JpfDA"
   },
   "outputs": [],
   "source": [
    "import os"
   ]
  },
  {
   "cell_type": "code",
   "execution_count": 2,
   "metadata": {
    "id": "42hJEdo_pfDB"
   },
   "outputs": [],
   "source": [
    "CUSTOM_MODEL_NAME = 'my_ssd_mobnet' \n",
    "PRETRAINED_MODEL_NAME = 'ssd_mobilenet_v2_fpnlite_320x320_coco17_tpu-8'\n",
    "PRETRAINED_MODEL_URL = 'http://download.tensorflow.org/models/object_detection/tf2/20200711/ssd_mobilenet_v2_fpnlite_320x320_coco17_tpu-8.tar.gz'\n",
    "TF_RECORD_SCRIPT_NAME = 'generate_tfrecord.py'\n",
    "LABEL_MAP_NAME = 'label_map.pbtxt'"
   ]
  },
  {
   "cell_type": "code",
   "execution_count": 3,
   "metadata": {
    "id": "hbPhYVy_pfDB"
   },
   "outputs": [],
   "source": [
    "paths = {\n",
    "    'WORKSPACE_PATH': os.path.join('Tensorflow', 'workspace'),\n",
    "    'SCRIPTS_PATH': os.path.join('Tensorflow','scripts'),\n",
    "    'APIMODEL_PATH': os.path.join('Tensorflow','models'),\n",
    "    'ANNOTATION_PATH': os.path.join('Tensorflow', 'workspace','annotations'),\n",
    "    'IMAGE_PATH': os.path.join('Tensorflow', 'workspace','images'),\n",
    "    'MODEL_PATH': os.path.join('Tensorflow', 'workspace','models'),\n",
    "    'PRETRAINED_MODEL_PATH': os.path.join('Tensorflow', 'workspace','pre-trained-models'),\n",
    "    'CHECKPOINT_PATH': os.path.join('Tensorflow', 'workspace','models',CUSTOM_MODEL_NAME), \n",
    "    'OUTPUT_PATH': os.path.join('Tensorflow', 'workspace','models',CUSTOM_MODEL_NAME, 'export'), \n",
    "    'TFJS_PATH':os.path.join('Tensorflow', 'workspace','models',CUSTOM_MODEL_NAME, 'tfjsexport'), \n",
    "    'TFLITE_PATH':os.path.join('Tensorflow', 'workspace','models',CUSTOM_MODEL_NAME, 'tfliteexport'), \n",
    "    'PROTOC_PATH':os.path.join('Tensorflow','protoc')\n",
    " }"
   ]
  },
  {
   "cell_type": "code",
   "execution_count": 4,
   "metadata": {
    "id": "LwhWZMI0pfDC"
   },
   "outputs": [],
   "source": [
    "files = {\n",
    "    'PIPELINE_CONFIG':os.path.join('Tensorflow', 'workspace','models', CUSTOM_MODEL_NAME, 'pipeline.config'),\n",
    "    'TF_RECORD_SCRIPT': os.path.join(paths['SCRIPTS_PATH'], TF_RECORD_SCRIPT_NAME), \n",
    "    'LABELMAP': os.path.join(paths['ANNOTATION_PATH'], LABEL_MAP_NAME)\n",
    "}"
   ]
  },
  {
   "cell_type": "code",
   "execution_count": 5,
   "metadata": {
    "id": "HR-TfDGrpfDC"
   },
   "outputs": [],
   "source": [
    "for path in paths.values():\n",
    "    if not os.path.exists(path):\n",
    "        if os.name == 'posix':\n",
    "            !mkdir -p {path}\n",
    "        if os.name == 'nt':\n",
    "            !mkdir {path}"
   ]
  },
  {
   "cell_type": "markdown",
   "metadata": {
    "id": "OLU-rs_ipfDE"
   },
   "source": [
    "# 1. Download TF Models Pretrained Models from Tensorflow Model Zoo and Install TFOD"
   ]
  },
  {
   "cell_type": "code",
   "execution_count": 6,
   "metadata": {},
   "outputs": [],
   "source": [
    "# https://www.tensorflow.org/install/source_windows"
   ]
  },
  {
   "cell_type": "code",
   "execution_count": 7,
   "metadata": {
    "id": "K-Cmz2edpfDE",
    "scrolled": true
   },
   "outputs": [],
   "source": [
    "if os.name=='nt':\n",
    "    !pip install wget\n",
    "    # brew install wget (Run in command line)\n",
    "    import wget"
   ]
  },
  {
   "cell_type": "code",
   "execution_count": 8,
   "metadata": {
    "id": "iA1DIq5OpfDE"
   },
   "outputs": [],
   "source": [
    "if not os.path.exists(os.path.join(paths['APIMODEL_PATH'], 'research', 'object_detection')):\n",
    "    !git clone https://github.com/tensorflow/models {paths['APIMODEL_PATH']}"
   ]
  },
  {
   "cell_type": "code",
   "execution_count": 22,
   "metadata": {
    "id": "rJjMHbnDs3Tv"
   },
   "outputs": [
    {
     "name": "stdout",
     "output_type": "stream",
     "text": [
      "Requirement already satisfied: cython<3.0.0 in ./newtfod/lib/python3.8/site-packages (0.29.37)\n",
      "Requirement already satisfied: wheel in ./newtfod/lib/python3.8/site-packages (0.42.0)\n",
      "Collecting pyyaml==5.4.1\n",
      "  Using cached PyYAML-5.4.1-cp38-cp38-macosx_10_9_x86_64.whl (253 kB)\n",
      "Installing collected packages: pyyaml\n",
      "  Attempting uninstall: pyyaml\n",
      "    Found existing installation: PyYAML 6.0.1\n",
      "    Uninstalling PyYAML-6.0.1:\n",
      "      Successfully uninstalled PyYAML-6.0.1\n",
      "\u001b[31mERROR: pip's dependency resolver does not currently take into account all the packages that are installed. This behaviour is the source of the following dependency conflicts.\n",
      "tf-models-official 2.13.2 requires numpy>=1.20, but you have numpy 1.19.5 which is incompatible.\n",
      "tf-models-official 2.13.2 requires pyyaml>=6.0.0, but you have pyyaml 5.4.1 which is incompatible.\n",
      "tf-models-official 2.13.2 requires tensorflow~=2.13.0, but you have tensorflow 2.4.1 which is incompatible.\u001b[0m\u001b[31m\n",
      "\u001b[0mSuccessfully installed pyyaml-5.4.1\n",
      "\u001b[31mERROR: Could not open requirements file: [Errno 2] No such file or directory: 'requirements.txt'\u001b[0m\u001b[31m\n",
      "\u001b[0m\u001b[33mWarning:\u001b[0m protobuf 25.1 is already installed and up-to-date.\n",
      "To reinstall 25.1, run:\n",
      "  brew reinstall protobuf\n",
      "\u001b[33mWarning:\u001b[0m Already linked: /opt/homebrew/Cellar/protobuf/25.1\n",
      "To relink, run:\n",
      "  brew unlink protobuf && brew link protobuf\n",
      "Requirement already satisfied: tf-models-official in ./newtfod/lib/python3.8/site-packages (2.13.2)\n",
      "Requirement already satisfied: Cython in ./newtfod/lib/python3.8/site-packages (from tf-models-official) (0.29.37)\n",
      "Requirement already satisfied: Pillow in ./newtfod/lib/python3.8/site-packages (from tf-models-official) (10.1.0)\n",
      "Requirement already satisfied: gin-config in ./newtfod/lib/python3.8/site-packages (from tf-models-official) (0.5.0)\n",
      "Requirement already satisfied: google-api-python-client>=1.6.7 in ./newtfod/lib/python3.8/site-packages (from tf-models-official) (2.111.0)\n",
      "Requirement already satisfied: immutabledict in ./newtfod/lib/python3.8/site-packages (from tf-models-official) (4.1.0)\n",
      "Requirement already satisfied: kaggle>=1.3.9 in ./newtfod/lib/python3.8/site-packages (from tf-models-official) (1.5.16)\n",
      "Requirement already satisfied: matplotlib in ./newtfod/lib/python3.8/site-packages (from tf-models-official) (3.2.0)\n",
      "Collecting numpy>=1.20 (from tf-models-official)\n",
      "  Using cached numpy-1.24.4-cp38-cp38-macosx_10_9_x86_64.whl.metadata (5.6 kB)\n",
      "Requirement already satisfied: oauth2client in ./newtfod/lib/python3.8/site-packages (from tf-models-official) (4.1.3)\n",
      "Requirement already satisfied: opencv-python-headless in ./newtfod/lib/python3.8/site-packages (from tf-models-official) (4.8.1.78)\n",
      "Requirement already satisfied: pandas>=0.22.0 in ./newtfod/lib/python3.8/site-packages (from tf-models-official) (2.0.3)\n",
      "Requirement already satisfied: psutil>=5.4.3 in ./newtfod/lib/python3.8/site-packages (from tf-models-official) (5.9.7)\n",
      "Requirement already satisfied: py-cpuinfo>=3.3.0 in ./newtfod/lib/python3.8/site-packages (from tf-models-official) (9.0.0)\n",
      "Requirement already satisfied: pycocotools in ./newtfod/lib/python3.8/site-packages (from tf-models-official) (2.0.7)\n",
      "Collecting pyyaml>=6.0.0 (from tf-models-official)\n",
      "  Using cached PyYAML-6.0.1-cp38-cp38-macosx_10_9_x86_64.whl.metadata (2.1 kB)\n",
      "Requirement already satisfied: sacrebleu in ./newtfod/lib/python3.8/site-packages (from tf-models-official) (2.2.0)\n",
      "Requirement already satisfied: scipy>=0.19.1 in ./newtfod/lib/python3.8/site-packages (from tf-models-official) (1.10.1)\n",
      "Requirement already satisfied: sentencepiece in ./newtfod/lib/python3.8/site-packages (from tf-models-official) (0.1.99)\n",
      "Requirement already satisfied: seqeval in ./newtfod/lib/python3.8/site-packages (from tf-models-official) (1.2.2)\n",
      "Requirement already satisfied: six in ./newtfod/lib/python3.8/site-packages (from tf-models-official) (1.15.0)\n",
      "Requirement already satisfied: tensorflow-datasets in ./newtfod/lib/python3.8/site-packages (from tf-models-official) (4.9.2)\n",
      "Requirement already satisfied: tensorflow-hub>=0.6.0 in ./newtfod/lib/python3.8/site-packages (from tf-models-official) (0.15.0)\n",
      "Requirement already satisfied: tensorflow-model-optimization>=0.4.1 in ./newtfod/lib/python3.8/site-packages (from tf-models-official) (0.7.5)\n",
      "Requirement already satisfied: tensorflow-text~=2.13.0 in ./newtfod/lib/python3.8/site-packages (from tf-models-official) (2.13.0)\n",
      "Collecting tensorflow~=2.13.0 (from tf-models-official)\n",
      "  Using cached tensorflow-2.13.1-cp38-cp38-macosx_10_15_x86_64.whl.metadata (3.2 kB)\n",
      "Requirement already satisfied: tf-slim>=1.1.0 in ./newtfod/lib/python3.8/site-packages (from tf-models-official) (1.1.0)\n",
      "Requirement already satisfied: httplib2<1.dev0,>=0.15.0 in ./newtfod/lib/python3.8/site-packages (from google-api-python-client>=1.6.7->tf-models-official) (0.22.0)\n",
      "Requirement already satisfied: google-auth<3.0.0.dev0,>=1.19.0 in ./newtfod/lib/python3.8/site-packages (from google-api-python-client>=1.6.7->tf-models-official) (2.25.2)\n",
      "Requirement already satisfied: google-auth-httplib2>=0.1.0 in ./newtfod/lib/python3.8/site-packages (from google-api-python-client>=1.6.7->tf-models-official) (0.2.0)\n",
      "Requirement already satisfied: google-api-core!=2.0.*,!=2.1.*,!=2.2.*,!=2.3.0,<3.0.0.dev0,>=1.31.5 in ./newtfod/lib/python3.8/site-packages (from google-api-python-client>=1.6.7->tf-models-official) (2.15.0)\n",
      "Requirement already satisfied: uritemplate<5,>=3.0.1 in ./newtfod/lib/python3.8/site-packages (from google-api-python-client>=1.6.7->tf-models-official) (4.1.1)\n",
      "Requirement already satisfied: certifi in ./newtfod/lib/python3.8/site-packages (from kaggle>=1.3.9->tf-models-official) (2023.11.17)\n",
      "Requirement already satisfied: python-dateutil in ./newtfod/lib/python3.8/site-packages (from kaggle>=1.3.9->tf-models-official) (2.8.2)\n",
      "Requirement already satisfied: requests in ./newtfod/lib/python3.8/site-packages (from kaggle>=1.3.9->tf-models-official) (2.31.0)\n",
      "Requirement already satisfied: tqdm in ./newtfod/lib/python3.8/site-packages (from kaggle>=1.3.9->tf-models-official) (4.66.1)\n",
      "Requirement already satisfied: python-slugify in ./newtfod/lib/python3.8/site-packages (from kaggle>=1.3.9->tf-models-official) (8.0.1)\n",
      "Requirement already satisfied: urllib3 in ./newtfod/lib/python3.8/site-packages (from kaggle>=1.3.9->tf-models-official) (2.1.0)\n",
      "Requirement already satisfied: bleach in ./newtfod/lib/python3.8/site-packages (from kaggle>=1.3.9->tf-models-official) (6.1.0)\n",
      "Requirement already satisfied: pytz>=2020.1 in ./newtfod/lib/python3.8/site-packages (from pandas>=0.22.0->tf-models-official) (2023.3.post1)\n",
      "Requirement already satisfied: tzdata>=2022.1 in ./newtfod/lib/python3.8/site-packages (from pandas>=0.22.0->tf-models-official) (2023.3)\n",
      "Requirement already satisfied: absl-py>=1.0.0 in ./newtfod/lib/python3.8/site-packages (from tensorflow~=2.13.0->tf-models-official) (2.0.0)\n",
      "Requirement already satisfied: astunparse>=1.6.0 in ./newtfod/lib/python3.8/site-packages (from tensorflow~=2.13.0->tf-models-official) (1.6.3)\n",
      "Collecting flatbuffers>=23.1.21 (from tensorflow~=2.13.0->tf-models-official)\n",
      "  Using cached flatbuffers-23.5.26-py2.py3-none-any.whl.metadata (850 bytes)\n",
      "Requirement already satisfied: gast<=0.4.0,>=0.2.1 in ./newtfod/lib/python3.8/site-packages (from tensorflow~=2.13.0->tf-models-official) (0.3.3)\n",
      "Requirement already satisfied: google-pasta>=0.1.1 in ./newtfod/lib/python3.8/site-packages (from tensorflow~=2.13.0->tf-models-official) (0.2.0)\n",
      "Requirement already satisfied: h5py>=2.9.0 in ./newtfod/lib/python3.8/site-packages (from tensorflow~=2.13.0->tf-models-official) (2.10.0)\n",
      "Requirement already satisfied: libclang>=13.0.0 in ./newtfod/lib/python3.8/site-packages (from tensorflow~=2.13.0->tf-models-official) (16.0.6)\n",
      "Collecting numpy>=1.20 (from tf-models-official)\n",
      "  Using cached numpy-1.24.3-cp38-cp38-macosx_10_9_x86_64.whl (19.8 MB)\n",
      "Requirement already satisfied: opt-einsum>=2.3.2 in ./newtfod/lib/python3.8/site-packages (from tensorflow~=2.13.0->tf-models-official) (3.3.0)\n",
      "Requirement already satisfied: packaging in ./newtfod/lib/python3.8/site-packages (from tensorflow~=2.13.0->tf-models-official) (23.2)\n",
      "Requirement already satisfied: protobuf!=4.21.0,!=4.21.1,!=4.21.2,!=4.21.3,!=4.21.4,!=4.21.5,<5.0.0dev,>=3.20.3 in ./newtfod/lib/python3.8/site-packages (from tensorflow~=2.13.0->tf-models-official) (4.25.1)\n",
      "Requirement already satisfied: setuptools in ./newtfod/lib/python3.8/site-packages (from tensorflow~=2.13.0->tf-models-official) (69.0.3)\n",
      "Requirement already satisfied: termcolor>=1.1.0 in ./newtfod/lib/python3.8/site-packages (from tensorflow~=2.13.0->tf-models-official) (1.1.0)\n",
      "Requirement already satisfied: typing-extensions<4.6.0,>=3.6.6 in ./newtfod/lib/python3.8/site-packages (from tensorflow~=2.13.0->tf-models-official) (3.7.4.3)\n",
      "Requirement already satisfied: wrapt>=1.11.0 in ./newtfod/lib/python3.8/site-packages (from tensorflow~=2.13.0->tf-models-official) (1.12.1)\n",
      "Requirement already satisfied: grpcio<2.0,>=1.24.3 in ./newtfod/lib/python3.8/site-packages (from tensorflow~=2.13.0->tf-models-official) (1.32.0)\n",
      "Collecting tensorboard<2.14,>=2.13 (from tensorflow~=2.13.0->tf-models-official)\n",
      "  Using cached tensorboard-2.13.0-py3-none-any.whl (5.6 MB)\n",
      "Collecting tensorflow-estimator<2.14,>=2.13.0 (from tensorflow~=2.13.0->tf-models-official)\n",
      "  Using cached tensorflow_estimator-2.13.0-py2.py3-none-any.whl.metadata (1.3 kB)\n",
      "Requirement already satisfied: keras<2.14,>=2.13.1 in ./newtfod/lib/python3.8/site-packages (from tensorflow~=2.13.0->tf-models-official) (2.13.1)\n",
      "Requirement already satisfied: tensorflow-io-gcs-filesystem>=0.23.1 in ./newtfod/lib/python3.8/site-packages (from tensorflow~=2.13.0->tf-models-official) (0.34.0)\n",
      "Collecting absl-py>=1.0.0 (from tensorflow~=2.13.0->tf-models-official)\n",
      "  Using cached absl_py-1.4.0-py3-none-any.whl (126 kB)\n",
      "Requirement already satisfied: dm-tree~=0.1.1 in ./newtfod/lib/python3.8/site-packages (from tensorflow-model-optimization>=0.4.1->tf-models-official) (0.1.8)\n",
      "Requirement already satisfied: cycler>=0.10 in ./newtfod/lib/python3.8/site-packages (from matplotlib->tf-models-official) (0.12.1)\n",
      "Requirement already satisfied: kiwisolver>=1.0.1 in ./newtfod/lib/python3.8/site-packages (from matplotlib->tf-models-official) (1.4.5)\n",
      "Requirement already satisfied: pyparsing!=2.0.4,!=2.1.2,!=2.1.6,>=2.0.1 in ./newtfod/lib/python3.8/site-packages (from matplotlib->tf-models-official) (2.4.7)\n",
      "Requirement already satisfied: pyasn1>=0.1.7 in ./newtfod/lib/python3.8/site-packages (from oauth2client->tf-models-official) (0.5.1)\n",
      "Requirement already satisfied: pyasn1-modules>=0.0.5 in ./newtfod/lib/python3.8/site-packages (from oauth2client->tf-models-official) (0.3.0)\n",
      "Requirement already satisfied: rsa>=3.1.4 in ./newtfod/lib/python3.8/site-packages (from oauth2client->tf-models-official) (4.9)\n",
      "Requirement already satisfied: portalocker in ./newtfod/lib/python3.8/site-packages (from sacrebleu->tf-models-official) (2.8.2)\n",
      "Requirement already satisfied: regex in ./newtfod/lib/python3.8/site-packages (from sacrebleu->tf-models-official) (2023.12.25)\n",
      "Requirement already satisfied: tabulate>=0.8.9 in ./newtfod/lib/python3.8/site-packages (from sacrebleu->tf-models-official) (0.9.0)\n",
      "Requirement already satisfied: colorama in ./newtfod/lib/python3.8/site-packages (from sacrebleu->tf-models-official) (0.4.6)\n",
      "Requirement already satisfied: lxml in ./newtfod/lib/python3.8/site-packages (from sacrebleu->tf-models-official) (4.9.4)\n",
      "Requirement already satisfied: scikit-learn>=0.21.3 in ./newtfod/lib/python3.8/site-packages (from seqeval->tf-models-official) (1.3.2)\n",
      "Requirement already satisfied: array-record in ./newtfod/lib/python3.8/site-packages (from tensorflow-datasets->tf-models-official) (0.4.0)\n",
      "Requirement already satisfied: click in ./newtfod/lib/python3.8/site-packages (from tensorflow-datasets->tf-models-official) (8.1.7)\n",
      "Requirement already satisfied: etils>=0.9.0 in ./newtfod/lib/python3.8/site-packages (from etils[enp,epath]>=0.9.0->tensorflow-datasets->tf-models-official) (1.3.0)\n",
      "Requirement already satisfied: promise in ./newtfod/lib/python3.8/site-packages (from tensorflow-datasets->tf-models-official) (2.3)\n",
      "Requirement already satisfied: tensorflow-metadata in ./newtfod/lib/python3.8/site-packages (from tensorflow-datasets->tf-models-official) (1.14.0)\n",
      "Requirement already satisfied: toml in ./newtfod/lib/python3.8/site-packages (from tensorflow-datasets->tf-models-official) (0.10.2)\n",
      "Requirement already satisfied: importlib-resources in ./newtfod/lib/python3.8/site-packages (from tensorflow-datasets->tf-models-official) (6.1.1)\n",
      "Requirement already satisfied: wheel<1.0,>=0.23.0 in ./newtfod/lib/python3.8/site-packages (from astunparse>=1.6.0->tensorflow~=2.13.0->tf-models-official) (0.42.0)\n",
      "Requirement already satisfied: zipp in ./newtfod/lib/python3.8/site-packages (from etils[enp,epath]>=0.9.0->tensorflow-datasets->tf-models-official) (3.17.0)\n",
      "Requirement already satisfied: googleapis-common-protos<2.0.dev0,>=1.56.2 in ./newtfod/lib/python3.8/site-packages (from google-api-core!=2.0.*,!=2.1.*,!=2.2.*,!=2.3.0,<3.0.0.dev0,>=1.31.5->google-api-python-client>=1.6.7->tf-models-official) (1.62.0)\n",
      "Requirement already satisfied: cachetools<6.0,>=2.0.0 in ./newtfod/lib/python3.8/site-packages (from google-auth<3.0.0.dev0,>=1.19.0->google-api-python-client>=1.6.7->tf-models-official) (5.3.2)\n",
      "Requirement already satisfied: charset-normalizer<4,>=2 in ./newtfod/lib/python3.8/site-packages (from requests->kaggle>=1.3.9->tf-models-official) (3.3.2)\n",
      "Requirement already satisfied: idna<4,>=2.5 in ./newtfod/lib/python3.8/site-packages (from requests->kaggle>=1.3.9->tf-models-official) (3.6)\n",
      "Requirement already satisfied: joblib>=1.1.1 in ./newtfod/lib/python3.8/site-packages (from scikit-learn>=0.21.3->seqeval->tf-models-official) (1.3.2)\n",
      "Requirement already satisfied: threadpoolctl>=2.0.0 in ./newtfod/lib/python3.8/site-packages (from scikit-learn>=0.21.3->seqeval->tf-models-official) (3.2.0)\n",
      "Collecting grpcio<2.0,>=1.24.3 (from tensorflow~=2.13.0->tf-models-official)\n",
      "  Using cached grpcio-1.60.0-cp38-cp38-macosx_10_10_universal2.whl.metadata (4.0 kB)\n",
      "Collecting google-auth-oauthlib<1.1,>=0.5 (from tensorboard<2.14,>=2.13->tensorflow~=2.13.0->tf-models-official)\n",
      "  Using cached google_auth_oauthlib-1.0.0-py2.py3-none-any.whl (18 kB)\n",
      "Requirement already satisfied: markdown>=2.6.8 in ./newtfod/lib/python3.8/site-packages (from tensorboard<2.14,>=2.13->tensorflow~=2.13.0->tf-models-official) (3.5.1)\n",
      "Collecting tensorboard-data-server<0.8.0,>=0.7.0 (from tensorboard<2.14,>=2.13->tensorflow~=2.13.0->tf-models-official)\n",
      "  Using cached tensorboard_data_server-0.7.2-py3-none-macosx_10_9_x86_64.whl.metadata (1.1 kB)\n",
      "Requirement already satisfied: werkzeug>=1.0.1 in ./newtfod/lib/python3.8/site-packages (from tensorboard<2.14,>=2.13->tensorflow~=2.13.0->tf-models-official) (3.0.1)\n",
      "Requirement already satisfied: webencodings in ./newtfod/lib/python3.8/site-packages (from bleach->kaggle>=1.3.9->tf-models-official) (0.5.1)\n",
      "Requirement already satisfied: text-unidecode>=1.3 in ./newtfod/lib/python3.8/site-packages (from python-slugify->kaggle>=1.3.9->tf-models-official) (1.3)\n",
      "Collecting protobuf!=4.21.0,!=4.21.1,!=4.21.2,!=4.21.3,!=4.21.4,!=4.21.5,<5.0.0dev,>=3.20.3 (from tensorflow~=2.13.0->tf-models-official)\n",
      "  Using cached protobuf-3.20.3-cp38-cp38-macosx_10_9_x86_64.whl (982 kB)\n",
      "Requirement already satisfied: requests-oauthlib>=0.7.0 in ./newtfod/lib/python3.8/site-packages (from google-auth-oauthlib<1.1,>=0.5->tensorboard<2.14,>=2.13->tensorflow~=2.13.0->tf-models-official) (1.3.1)\n",
      "Requirement already satisfied: importlib-metadata>=4.4 in ./newtfod/lib/python3.8/site-packages (from markdown>=2.6.8->tensorboard<2.14,>=2.13->tensorflow~=2.13.0->tf-models-official) (7.0.1)\n",
      "Requirement already satisfied: MarkupSafe>=2.1.1 in ./newtfod/lib/python3.8/site-packages (from werkzeug>=1.0.1->tensorboard<2.14,>=2.13->tensorflow~=2.13.0->tf-models-official) (2.1.3)\n",
      "Requirement already satisfied: oauthlib>=3.0.0 in ./newtfod/lib/python3.8/site-packages (from requests-oauthlib>=0.7.0->google-auth-oauthlib<1.1,>=0.5->tensorboard<2.14,>=2.13->tensorflow~=2.13.0->tf-models-official) (3.2.2)\n",
      "Using cached PyYAML-6.0.1-cp38-cp38-macosx_10_9_x86_64.whl (191 kB)\n",
      "Using cached tensorflow-2.13.1-cp38-cp38-macosx_10_15_x86_64.whl (216.2 MB)\n",
      "Using cached flatbuffers-23.5.26-py2.py3-none-any.whl (26 kB)\n",
      "Using cached grpcio-1.60.0-cp38-cp38-macosx_10_10_universal2.whl (9.7 MB)\n",
      "Using cached tensorflow_estimator-2.13.0-py2.py3-none-any.whl (440 kB)\n",
      "Using cached tensorboard_data_server-0.7.2-py3-none-macosx_10_9_x86_64.whl (4.8 MB)\n",
      "Installing collected packages: flatbuffers, tensorflow-estimator, tensorboard-data-server, pyyaml, protobuf, numpy, grpcio, absl-py, google-auth-oauthlib, tensorboard, tensorflow\n",
      "  Attempting uninstall: flatbuffers\n",
      "    Found existing installation: flatbuffers 1.12\n",
      "    Uninstalling flatbuffers-1.12:\n",
      "      Successfully uninstalled flatbuffers-1.12\n",
      "  Attempting uninstall: tensorflow-estimator\n",
      "    Found existing installation: tensorflow-estimator 2.4.0\n",
      "    Uninstalling tensorflow-estimator-2.4.0:\n",
      "      Successfully uninstalled tensorflow-estimator-2.4.0\n",
      "  Attempting uninstall: tensorboard-data-server\n",
      "    Found existing installation: tensorboard-data-server 0.6.1\n",
      "    Uninstalling tensorboard-data-server-0.6.1:\n",
      "      Successfully uninstalled tensorboard-data-server-0.6.1\n",
      "  Attempting uninstall: pyyaml\n",
      "    Found existing installation: PyYAML 5.4.1\n",
      "    Uninstalling PyYAML-5.4.1:\n",
      "      Successfully uninstalled PyYAML-5.4.1\n",
      "  Attempting uninstall: protobuf\n",
      "    Found existing installation: protobuf 4.25.1\n",
      "    Uninstalling protobuf-4.25.1:\n",
      "      Successfully uninstalled protobuf-4.25.1\n",
      "  Attempting uninstall: numpy\n",
      "    Found existing installation: numpy 1.19.5\n",
      "    Uninstalling numpy-1.19.5:\n",
      "      Successfully uninstalled numpy-1.19.5\n",
      "  Attempting uninstall: grpcio\n",
      "    Found existing installation: grpcio 1.32.0\n",
      "    Uninstalling grpcio-1.32.0:\n",
      "      Successfully uninstalled grpcio-1.32.0\n",
      "  Attempting uninstall: absl-py\n",
      "    Found existing installation: absl-py 2.0.0\n",
      "    Uninstalling absl-py-2.0.0:\n",
      "      Successfully uninstalled absl-py-2.0.0\n",
      "  Attempting uninstall: google-auth-oauthlib\n",
      "    Found existing installation: google-auth-oauthlib 0.4.6\n",
      "    Uninstalling google-auth-oauthlib-0.4.6:\n",
      "      Successfully uninstalled google-auth-oauthlib-0.4.6\n",
      "  Attempting uninstall: tensorboard\n",
      "    Found existing installation: tensorboard 2.11.2\n",
      "    Uninstalling tensorboard-2.11.2:\n",
      "      Successfully uninstalled tensorboard-2.11.2\n",
      "  Attempting uninstall: tensorflow\n",
      "    Found existing installation: tensorflow 2.4.1\n",
      "    Uninstalling tensorflow-2.4.1:\n",
      "      Successfully uninstalled tensorflow-2.4.1\n",
      "Successfully installed absl-py-1.4.0 flatbuffers-23.5.26 google-auth-oauthlib-1.0.0 grpcio-1.60.0 numpy-1.24.3 protobuf-3.20.3 pyyaml-6.0.1 tensorboard-2.13.0 tensorboard-data-server-0.7.2 tensorflow-2.13.1 tensorflow-estimator-2.13.0\n",
      "Requirement already satisfied: wheel in ./newtfod/lib/python3.8/site-packages (0.42.0)\n",
      "Requirement already satisfied: setuptools in ./newtfod/lib/python3.8/site-packages (69.0.3)\n",
      "Requirement already satisfied: pip in ./newtfod/lib/python3.8/site-packages (23.3.2)\n",
      "Processing /Users/quangnguyen/Documents/gsc24-test/TFODCourse/Tensorflow/models/research\n",
      "  Preparing metadata (setup.py) ... \u001b[?25ldone\n",
      "\u001b[?25hRequirement already satisfied: avro-python3 in /Users/quangnguyen/Documents/gsc24-test/TFODCourse/newtfod/lib/python3.8/site-packages (from object_detection==0.1) (1.10.2)\n",
      "Requirement already satisfied: apache-beam in /Users/quangnguyen/Documents/gsc24-test/TFODCourse/newtfod/lib/python3.8/site-packages (from object_detection==0.1) (2.52.0)\n",
      "Requirement already satisfied: pillow in /Users/quangnguyen/Documents/gsc24-test/TFODCourse/newtfod/lib/python3.8/site-packages (from object_detection==0.1) (10.1.0)\n",
      "Requirement already satisfied: lxml in /Users/quangnguyen/Documents/gsc24-test/TFODCourse/newtfod/lib/python3.8/site-packages (from object_detection==0.1) (4.9.4)\n",
      "Requirement already satisfied: matplotlib in /Users/quangnguyen/Documents/gsc24-test/TFODCourse/newtfod/lib/python3.8/site-packages (from object_detection==0.1) (3.2.0)\n",
      "Requirement already satisfied: Cython in /Users/quangnguyen/Documents/gsc24-test/TFODCourse/newtfod/lib/python3.8/site-packages (from object_detection==0.1) (0.29.37)\n",
      "Requirement already satisfied: contextlib2 in /Users/quangnguyen/Documents/gsc24-test/TFODCourse/newtfod/lib/python3.8/site-packages (from object_detection==0.1) (21.6.0)\n",
      "Requirement already satisfied: tf-slim in /Users/quangnguyen/Documents/gsc24-test/TFODCourse/newtfod/lib/python3.8/site-packages (from object_detection==0.1) (1.1.0)\n",
      "Requirement already satisfied: six in /Users/quangnguyen/Documents/gsc24-test/TFODCourse/newtfod/lib/python3.8/site-packages (from object_detection==0.1) (1.15.0)\n",
      "Requirement already satisfied: pycocotools in /Users/quangnguyen/Documents/gsc24-test/TFODCourse/newtfod/lib/python3.8/site-packages (from object_detection==0.1) (2.0.7)\n",
      "Requirement already satisfied: lvis in /Users/quangnguyen/Documents/gsc24-test/TFODCourse/newtfod/lib/python3.8/site-packages (from object_detection==0.1) (0.5.3)\n",
      "Requirement already satisfied: scipy in /Users/quangnguyen/Documents/gsc24-test/TFODCourse/newtfod/lib/python3.8/site-packages (from object_detection==0.1) (1.10.1)\n",
      "Requirement already satisfied: pandas in /Users/quangnguyen/Documents/gsc24-test/TFODCourse/newtfod/lib/python3.8/site-packages (from object_detection==0.1) (2.0.3)\n",
      "Requirement already satisfied: tf-models-official>=2.5.1 in /Users/quangnguyen/Documents/gsc24-test/TFODCourse/newtfod/lib/python3.8/site-packages (from object_detection==0.1) (2.13.2)\n",
      "Requirement already satisfied: tensorflow_io in /Users/quangnguyen/Documents/gsc24-test/TFODCourse/newtfod/lib/python3.8/site-packages (from object_detection==0.1) (0.34.0)\n",
      "Requirement already satisfied: keras in /Users/quangnguyen/Documents/gsc24-test/TFODCourse/newtfod/lib/python3.8/site-packages (from object_detection==0.1) (2.13.1)\n",
      "Requirement already satisfied: pyparsing==2.4.7 in /Users/quangnguyen/Documents/gsc24-test/TFODCourse/newtfod/lib/python3.8/site-packages (from object_detection==0.1) (2.4.7)\n",
      "Requirement already satisfied: sacrebleu<=2.2.0 in /Users/quangnguyen/Documents/gsc24-test/TFODCourse/newtfod/lib/python3.8/site-packages (from object_detection==0.1) (2.2.0)\n",
      "Requirement already satisfied: portalocker in /Users/quangnguyen/Documents/gsc24-test/TFODCourse/newtfod/lib/python3.8/site-packages (from sacrebleu<=2.2.0->object_detection==0.1) (2.8.2)\n",
      "Requirement already satisfied: regex in /Users/quangnguyen/Documents/gsc24-test/TFODCourse/newtfod/lib/python3.8/site-packages (from sacrebleu<=2.2.0->object_detection==0.1) (2023.12.25)\n",
      "Requirement already satisfied: tabulate>=0.8.9 in /Users/quangnguyen/Documents/gsc24-test/TFODCourse/newtfod/lib/python3.8/site-packages (from sacrebleu<=2.2.0->object_detection==0.1) (0.9.0)\n",
      "Requirement already satisfied: numpy>=1.17 in /Users/quangnguyen/Documents/gsc24-test/TFODCourse/newtfod/lib/python3.8/site-packages (from sacrebleu<=2.2.0->object_detection==0.1) (1.24.3)\n",
      "Requirement already satisfied: colorama in /Users/quangnguyen/Documents/gsc24-test/TFODCourse/newtfod/lib/python3.8/site-packages (from sacrebleu<=2.2.0->object_detection==0.1) (0.4.6)\n",
      "Requirement already satisfied: gin-config in /Users/quangnguyen/Documents/gsc24-test/TFODCourse/newtfod/lib/python3.8/site-packages (from tf-models-official>=2.5.1->object_detection==0.1) (0.5.0)\n",
      "Requirement already satisfied: google-api-python-client>=1.6.7 in /Users/quangnguyen/Documents/gsc24-test/TFODCourse/newtfod/lib/python3.8/site-packages (from tf-models-official>=2.5.1->object_detection==0.1) (2.111.0)\n",
      "Requirement already satisfied: immutabledict in /Users/quangnguyen/Documents/gsc24-test/TFODCourse/newtfod/lib/python3.8/site-packages (from tf-models-official>=2.5.1->object_detection==0.1) (4.1.0)\n",
      "Requirement already satisfied: kaggle>=1.3.9 in /Users/quangnguyen/Documents/gsc24-test/TFODCourse/newtfod/lib/python3.8/site-packages (from tf-models-official>=2.5.1->object_detection==0.1) (1.5.16)\n",
      "Requirement already satisfied: oauth2client in /Users/quangnguyen/Documents/gsc24-test/TFODCourse/newtfod/lib/python3.8/site-packages (from tf-models-official>=2.5.1->object_detection==0.1) (4.1.3)\n",
      "Requirement already satisfied: opencv-python-headless in /Users/quangnguyen/Documents/gsc24-test/TFODCourse/newtfod/lib/python3.8/site-packages (from tf-models-official>=2.5.1->object_detection==0.1) (4.8.1.78)\n",
      "Requirement already satisfied: psutil>=5.4.3 in /Users/quangnguyen/Documents/gsc24-test/TFODCourse/newtfod/lib/python3.8/site-packages (from tf-models-official>=2.5.1->object_detection==0.1) (5.9.7)\n",
      "Requirement already satisfied: py-cpuinfo>=3.3.0 in /Users/quangnguyen/Documents/gsc24-test/TFODCourse/newtfod/lib/python3.8/site-packages (from tf-models-official>=2.5.1->object_detection==0.1) (9.0.0)\n",
      "Requirement already satisfied: pyyaml>=6.0.0 in /Users/quangnguyen/Documents/gsc24-test/TFODCourse/newtfod/lib/python3.8/site-packages (from tf-models-official>=2.5.1->object_detection==0.1) (6.0.1)\n",
      "Requirement already satisfied: sentencepiece in /Users/quangnguyen/Documents/gsc24-test/TFODCourse/newtfod/lib/python3.8/site-packages (from tf-models-official>=2.5.1->object_detection==0.1) (0.1.99)\n",
      "Requirement already satisfied: seqeval in /Users/quangnguyen/Documents/gsc24-test/TFODCourse/newtfod/lib/python3.8/site-packages (from tf-models-official>=2.5.1->object_detection==0.1) (1.2.2)\n",
      "Requirement already satisfied: tensorflow-datasets in /Users/quangnguyen/Documents/gsc24-test/TFODCourse/newtfod/lib/python3.8/site-packages (from tf-models-official>=2.5.1->object_detection==0.1) (4.9.2)\n",
      "Requirement already satisfied: tensorflow-hub>=0.6.0 in /Users/quangnguyen/Documents/gsc24-test/TFODCourse/newtfod/lib/python3.8/site-packages (from tf-models-official>=2.5.1->object_detection==0.1) (0.15.0)\n",
      "Requirement already satisfied: tensorflow-model-optimization>=0.4.1 in /Users/quangnguyen/Documents/gsc24-test/TFODCourse/newtfod/lib/python3.8/site-packages (from tf-models-official>=2.5.1->object_detection==0.1) (0.7.5)\n",
      "Requirement already satisfied: tensorflow-text~=2.13.0 in /Users/quangnguyen/Documents/gsc24-test/TFODCourse/newtfod/lib/python3.8/site-packages (from tf-models-official>=2.5.1->object_detection==0.1) (2.13.0)\n",
      "Requirement already satisfied: tensorflow~=2.13.0 in /Users/quangnguyen/Documents/gsc24-test/TFODCourse/newtfod/lib/python3.8/site-packages (from tf-models-official>=2.5.1->object_detection==0.1) (2.13.1)\n",
      "Requirement already satisfied: python-dateutil>=2.8.2 in /Users/quangnguyen/Documents/gsc24-test/TFODCourse/newtfod/lib/python3.8/site-packages (from pandas->object_detection==0.1) (2.8.2)\n",
      "Requirement already satisfied: pytz>=2020.1 in /Users/quangnguyen/Documents/gsc24-test/TFODCourse/newtfod/lib/python3.8/site-packages (from pandas->object_detection==0.1) (2023.3.post1)\n",
      "Requirement already satisfied: tzdata>=2022.1 in /Users/quangnguyen/Documents/gsc24-test/TFODCourse/newtfod/lib/python3.8/site-packages (from pandas->object_detection==0.1) (2023.3)\n",
      "Requirement already satisfied: absl-py>=0.2.2 in /Users/quangnguyen/Documents/gsc24-test/TFODCourse/newtfod/lib/python3.8/site-packages (from tf-slim->object_detection==0.1) (1.4.0)\n",
      "Requirement already satisfied: crcmod<2.0,>=1.7 in /Users/quangnguyen/Documents/gsc24-test/TFODCourse/newtfod/lib/python3.8/site-packages (from apache-beam->object_detection==0.1) (1.7)\n",
      "Requirement already satisfied: orjson<4,>=3.9.7 in /Users/quangnguyen/Documents/gsc24-test/TFODCourse/newtfod/lib/python3.8/site-packages (from apache-beam->object_detection==0.1) (3.9.10)\n",
      "Requirement already satisfied: dill<0.3.2,>=0.3.1.1 in /Users/quangnguyen/Documents/gsc24-test/TFODCourse/newtfod/lib/python3.8/site-packages (from apache-beam->object_detection==0.1) (0.3.1.1)\n",
      "Requirement already satisfied: cloudpickle~=2.2.1 in /Users/quangnguyen/Documents/gsc24-test/TFODCourse/newtfod/lib/python3.8/site-packages (from apache-beam->object_detection==0.1) (2.2.1)\n",
      "Requirement already satisfied: fastavro<2,>=0.23.6 in /Users/quangnguyen/Documents/gsc24-test/TFODCourse/newtfod/lib/python3.8/site-packages (from apache-beam->object_detection==0.1) (1.9.2)\n",
      "Requirement already satisfied: fasteners<1.0,>=0.3 in /Users/quangnguyen/Documents/gsc24-test/TFODCourse/newtfod/lib/python3.8/site-packages (from apache-beam->object_detection==0.1) (0.19)\n",
      "Requirement already satisfied: grpcio!=1.48.0,<2,>=1.33.1 in /Users/quangnguyen/Documents/gsc24-test/TFODCourse/newtfod/lib/python3.8/site-packages (from apache-beam->object_detection==0.1) (1.60.0)\n",
      "Requirement already satisfied: hdfs<3.0.0,>=2.1.0 in /Users/quangnguyen/Documents/gsc24-test/TFODCourse/newtfod/lib/python3.8/site-packages (from apache-beam->object_detection==0.1) (2.7.3)\n",
      "Requirement already satisfied: httplib2<0.23.0,>=0.8 in /Users/quangnguyen/Documents/gsc24-test/TFODCourse/newtfod/lib/python3.8/site-packages (from apache-beam->object_detection==0.1) (0.22.0)\n",
      "Requirement already satisfied: js2py<1,>=0.74 in /Users/quangnguyen/Documents/gsc24-test/TFODCourse/newtfod/lib/python3.8/site-packages (from apache-beam->object_detection==0.1) (0.74)\n",
      "Requirement already satisfied: jsonschema<5.0.0,>=4.0.0 in /Users/quangnguyen/Documents/gsc24-test/TFODCourse/newtfod/lib/python3.8/site-packages (from apache-beam->object_detection==0.1) (4.20.0)\n",
      "Requirement already satisfied: objsize<0.7.0,>=0.6.1 in /Users/quangnguyen/Documents/gsc24-test/TFODCourse/newtfod/lib/python3.8/site-packages (from apache-beam->object_detection==0.1) (0.6.1)\n",
      "Requirement already satisfied: packaging>=22.0 in /Users/quangnguyen/Documents/gsc24-test/TFODCourse/newtfod/lib/python3.8/site-packages (from apache-beam->object_detection==0.1) (23.2)\n",
      "Requirement already satisfied: pymongo<5.0.0,>=3.8.0 in /Users/quangnguyen/Documents/gsc24-test/TFODCourse/newtfod/lib/python3.8/site-packages (from apache-beam->object_detection==0.1) (4.6.1)\n",
      "Requirement already satisfied: proto-plus<2,>=1.7.1 in /Users/quangnguyen/Documents/gsc24-test/TFODCourse/newtfod/lib/python3.8/site-packages (from apache-beam->object_detection==0.1) (1.23.0)\n",
      "Requirement already satisfied: protobuf!=4.0.*,!=4.21.*,!=4.22.0,!=4.23.*,!=4.24.*,<4.26.0,>=3.20.3 in /Users/quangnguyen/Documents/gsc24-test/TFODCourse/newtfod/lib/python3.8/site-packages (from apache-beam->object_detection==0.1) (3.20.3)\n",
      "Requirement already satisfied: pydot<2,>=1.2.0 in /Users/quangnguyen/Documents/gsc24-test/TFODCourse/newtfod/lib/python3.8/site-packages (from apache-beam->object_detection==0.1) (1.4.2)\n",
      "Requirement already satisfied: requests<3.0.0,>=2.24.0 in /Users/quangnguyen/Documents/gsc24-test/TFODCourse/newtfod/lib/python3.8/site-packages (from apache-beam->object_detection==0.1) (2.31.0)\n",
      "Requirement already satisfied: typing-extensions>=3.7.0 in /Users/quangnguyen/Documents/gsc24-test/TFODCourse/newtfod/lib/python3.8/site-packages (from apache-beam->object_detection==0.1) (3.7.4.3)\n",
      "Requirement already satisfied: zstandard<1,>=0.18.0 in /Users/quangnguyen/Documents/gsc24-test/TFODCourse/newtfod/lib/python3.8/site-packages (from apache-beam->object_detection==0.1) (0.22.0)\n",
      "Requirement already satisfied: pyarrow<12.0.0,>=3.0.0 in /Users/quangnguyen/Documents/gsc24-test/TFODCourse/newtfod/lib/python3.8/site-packages (from apache-beam->object_detection==0.1) (11.0.0)\n",
      "Requirement already satisfied: pyarrow-hotfix<1 in /Users/quangnguyen/Documents/gsc24-test/TFODCourse/newtfod/lib/python3.8/site-packages (from apache-beam->object_detection==0.1) (0.6)\n",
      "Requirement already satisfied: cycler>=0.10.0 in /Users/quangnguyen/Documents/gsc24-test/TFODCourse/newtfod/lib/python3.8/site-packages (from lvis->object_detection==0.1) (0.12.1)\n",
      "Requirement already satisfied: kiwisolver>=1.1.0 in /Users/quangnguyen/Documents/gsc24-test/TFODCourse/newtfod/lib/python3.8/site-packages (from lvis->object_detection==0.1) (1.4.5)\n",
      "Requirement already satisfied: opencv-python>=4.1.0.25 in /Users/quangnguyen/Documents/gsc24-test/TFODCourse/newtfod/lib/python3.8/site-packages (from lvis->object_detection==0.1) (4.8.1.78)\n",
      "Requirement already satisfied: tensorflow-io-gcs-filesystem==0.34.0 in /Users/quangnguyen/Documents/gsc24-test/TFODCourse/newtfod/lib/python3.8/site-packages (from tensorflow_io->object_detection==0.1) (0.34.0)\n",
      "Requirement already satisfied: google-auth<3.0.0.dev0,>=1.19.0 in /Users/quangnguyen/Documents/gsc24-test/TFODCourse/newtfod/lib/python3.8/site-packages (from google-api-python-client>=1.6.7->tf-models-official>=2.5.1->object_detection==0.1) (2.25.2)\n",
      "Requirement already satisfied: google-auth-httplib2>=0.1.0 in /Users/quangnguyen/Documents/gsc24-test/TFODCourse/newtfod/lib/python3.8/site-packages (from google-api-python-client>=1.6.7->tf-models-official>=2.5.1->object_detection==0.1) (0.2.0)\n",
      "Requirement already satisfied: google-api-core!=2.0.*,!=2.1.*,!=2.2.*,!=2.3.0,<3.0.0.dev0,>=1.31.5 in /Users/quangnguyen/Documents/gsc24-test/TFODCourse/newtfod/lib/python3.8/site-packages (from google-api-python-client>=1.6.7->tf-models-official>=2.5.1->object_detection==0.1) (2.15.0)\n",
      "Requirement already satisfied: uritemplate<5,>=3.0.1 in /Users/quangnguyen/Documents/gsc24-test/TFODCourse/newtfod/lib/python3.8/site-packages (from google-api-python-client>=1.6.7->tf-models-official>=2.5.1->object_detection==0.1) (4.1.1)\n",
      "Requirement already satisfied: docopt in /Users/quangnguyen/Documents/gsc24-test/TFODCourse/newtfod/lib/python3.8/site-packages (from hdfs<3.0.0,>=2.1.0->apache-beam->object_detection==0.1) (0.6.2)\n",
      "Requirement already satisfied: tzlocal>=1.2 in /Users/quangnguyen/Documents/gsc24-test/TFODCourse/newtfod/lib/python3.8/site-packages (from js2py<1,>=0.74->apache-beam->object_detection==0.1) (5.2)\n",
      "Requirement already satisfied: pyjsparser>=2.5.1 in /Users/quangnguyen/Documents/gsc24-test/TFODCourse/newtfod/lib/python3.8/site-packages (from js2py<1,>=0.74->apache-beam->object_detection==0.1) (2.7.1)\n",
      "Requirement already satisfied: attrs>=22.2.0 in /Users/quangnguyen/Documents/gsc24-test/TFODCourse/newtfod/lib/python3.8/site-packages (from jsonschema<5.0.0,>=4.0.0->apache-beam->object_detection==0.1) (23.1.0)\n",
      "Requirement already satisfied: importlib-resources>=1.4.0 in /Users/quangnguyen/Documents/gsc24-test/TFODCourse/newtfod/lib/python3.8/site-packages (from jsonschema<5.0.0,>=4.0.0->apache-beam->object_detection==0.1) (6.1.1)\n",
      "Requirement already satisfied: jsonschema-specifications>=2023.03.6 in /Users/quangnguyen/Documents/gsc24-test/TFODCourse/newtfod/lib/python3.8/site-packages (from jsonschema<5.0.0,>=4.0.0->apache-beam->object_detection==0.1) (2023.12.1)\n",
      "Requirement already satisfied: pkgutil-resolve-name>=1.3.10 in /Users/quangnguyen/Documents/gsc24-test/TFODCourse/newtfod/lib/python3.8/site-packages (from jsonschema<5.0.0,>=4.0.0->apache-beam->object_detection==0.1) (1.3.10)\n",
      "Requirement already satisfied: referencing>=0.28.4 in /Users/quangnguyen/Documents/gsc24-test/TFODCourse/newtfod/lib/python3.8/site-packages (from jsonschema<5.0.0,>=4.0.0->apache-beam->object_detection==0.1) (0.32.0)\n",
      "Requirement already satisfied: rpds-py>=0.7.1 in /Users/quangnguyen/Documents/gsc24-test/TFODCourse/newtfod/lib/python3.8/site-packages (from jsonschema<5.0.0,>=4.0.0->apache-beam->object_detection==0.1) (0.16.2)\n",
      "Requirement already satisfied: certifi in /Users/quangnguyen/Documents/gsc24-test/TFODCourse/newtfod/lib/python3.8/site-packages (from kaggle>=1.3.9->tf-models-official>=2.5.1->object_detection==0.1) (2023.11.17)\n",
      "Requirement already satisfied: tqdm in /Users/quangnguyen/Documents/gsc24-test/TFODCourse/newtfod/lib/python3.8/site-packages (from kaggle>=1.3.9->tf-models-official>=2.5.1->object_detection==0.1) (4.66.1)\n",
      "Requirement already satisfied: python-slugify in /Users/quangnguyen/Documents/gsc24-test/TFODCourse/newtfod/lib/python3.8/site-packages (from kaggle>=1.3.9->tf-models-official>=2.5.1->object_detection==0.1) (8.0.1)\n",
      "Requirement already satisfied: urllib3 in /Users/quangnguyen/Documents/gsc24-test/TFODCourse/newtfod/lib/python3.8/site-packages (from kaggle>=1.3.9->tf-models-official>=2.5.1->object_detection==0.1) (2.1.0)\n",
      "Requirement already satisfied: bleach in /Users/quangnguyen/Documents/gsc24-test/TFODCourse/newtfod/lib/python3.8/site-packages (from kaggle>=1.3.9->tf-models-official>=2.5.1->object_detection==0.1) (6.1.0)\n",
      "Requirement already satisfied: dnspython<3.0.0,>=1.16.0 in /Users/quangnguyen/Documents/gsc24-test/TFODCourse/newtfod/lib/python3.8/site-packages (from pymongo<5.0.0,>=3.8.0->apache-beam->object_detection==0.1) (2.4.2)\n",
      "Requirement already satisfied: charset-normalizer<4,>=2 in /Users/quangnguyen/Documents/gsc24-test/TFODCourse/newtfod/lib/python3.8/site-packages (from requests<3.0.0,>=2.24.0->apache-beam->object_detection==0.1) (3.3.2)\n",
      "Requirement already satisfied: idna<4,>=2.5 in /Users/quangnguyen/Documents/gsc24-test/TFODCourse/newtfod/lib/python3.8/site-packages (from requests<3.0.0,>=2.24.0->apache-beam->object_detection==0.1) (3.6)\n",
      "Requirement already satisfied: astunparse>=1.6.0 in /Users/quangnguyen/Documents/gsc24-test/TFODCourse/newtfod/lib/python3.8/site-packages (from tensorflow~=2.13.0->tf-models-official>=2.5.1->object_detection==0.1) (1.6.3)\n",
      "Requirement already satisfied: flatbuffers>=23.1.21 in /Users/quangnguyen/Documents/gsc24-test/TFODCourse/newtfod/lib/python3.8/site-packages (from tensorflow~=2.13.0->tf-models-official>=2.5.1->object_detection==0.1) (23.5.26)\n",
      "Requirement already satisfied: gast<=0.4.0,>=0.2.1 in /Users/quangnguyen/Documents/gsc24-test/TFODCourse/newtfod/lib/python3.8/site-packages (from tensorflow~=2.13.0->tf-models-official>=2.5.1->object_detection==0.1) (0.3.3)\n",
      "Requirement already satisfied: google-pasta>=0.1.1 in /Users/quangnguyen/Documents/gsc24-test/TFODCourse/newtfod/lib/python3.8/site-packages (from tensorflow~=2.13.0->tf-models-official>=2.5.1->object_detection==0.1) (0.2.0)\n",
      "Requirement already satisfied: h5py>=2.9.0 in /Users/quangnguyen/Documents/gsc24-test/TFODCourse/newtfod/lib/python3.8/site-packages (from tensorflow~=2.13.0->tf-models-official>=2.5.1->object_detection==0.1) (2.10.0)\n",
      "Requirement already satisfied: libclang>=13.0.0 in /Users/quangnguyen/Documents/gsc24-test/TFODCourse/newtfod/lib/python3.8/site-packages (from tensorflow~=2.13.0->tf-models-official>=2.5.1->object_detection==0.1) (16.0.6)\n",
      "Requirement already satisfied: opt-einsum>=2.3.2 in /Users/quangnguyen/Documents/gsc24-test/TFODCourse/newtfod/lib/python3.8/site-packages (from tensorflow~=2.13.0->tf-models-official>=2.5.1->object_detection==0.1) (3.3.0)\n",
      "Requirement already satisfied: setuptools in /Users/quangnguyen/Documents/gsc24-test/TFODCourse/newtfod/lib/python3.8/site-packages (from tensorflow~=2.13.0->tf-models-official>=2.5.1->object_detection==0.1) (69.0.3)\n",
      "Requirement already satisfied: termcolor>=1.1.0 in /Users/quangnguyen/Documents/gsc24-test/TFODCourse/newtfod/lib/python3.8/site-packages (from tensorflow~=2.13.0->tf-models-official>=2.5.1->object_detection==0.1) (1.1.0)\n",
      "Requirement already satisfied: wrapt>=1.11.0 in /Users/quangnguyen/Documents/gsc24-test/TFODCourse/newtfod/lib/python3.8/site-packages (from tensorflow~=2.13.0->tf-models-official>=2.5.1->object_detection==0.1) (1.12.1)\n",
      "Requirement already satisfied: tensorboard<2.14,>=2.13 in /Users/quangnguyen/Documents/gsc24-test/TFODCourse/newtfod/lib/python3.8/site-packages (from tensorflow~=2.13.0->tf-models-official>=2.5.1->object_detection==0.1) (2.13.0)\n",
      "Requirement already satisfied: tensorflow-estimator<2.14,>=2.13.0 in /Users/quangnguyen/Documents/gsc24-test/TFODCourse/newtfod/lib/python3.8/site-packages (from tensorflow~=2.13.0->tf-models-official>=2.5.1->object_detection==0.1) (2.13.0)\n",
      "Requirement already satisfied: dm-tree~=0.1.1 in /Users/quangnguyen/Documents/gsc24-test/TFODCourse/newtfod/lib/python3.8/site-packages (from tensorflow-model-optimization>=0.4.1->tf-models-official>=2.5.1->object_detection==0.1) (0.1.8)\n",
      "Requirement already satisfied: pyasn1>=0.1.7 in /Users/quangnguyen/Documents/gsc24-test/TFODCourse/newtfod/lib/python3.8/site-packages (from oauth2client->tf-models-official>=2.5.1->object_detection==0.1) (0.5.1)\n",
      "Requirement already satisfied: pyasn1-modules>=0.0.5 in /Users/quangnguyen/Documents/gsc24-test/TFODCourse/newtfod/lib/python3.8/site-packages (from oauth2client->tf-models-official>=2.5.1->object_detection==0.1) (0.3.0)\n",
      "Requirement already satisfied: rsa>=3.1.4 in /Users/quangnguyen/Documents/gsc24-test/TFODCourse/newtfod/lib/python3.8/site-packages (from oauth2client->tf-models-official>=2.5.1->object_detection==0.1) (4.9)\n",
      "Requirement already satisfied: scikit-learn>=0.21.3 in /Users/quangnguyen/Documents/gsc24-test/TFODCourse/newtfod/lib/python3.8/site-packages (from seqeval->tf-models-official>=2.5.1->object_detection==0.1) (1.3.2)\n",
      "Requirement already satisfied: array-record in /Users/quangnguyen/Documents/gsc24-test/TFODCourse/newtfod/lib/python3.8/site-packages (from tensorflow-datasets->tf-models-official>=2.5.1->object_detection==0.1) (0.4.0)\n",
      "Requirement already satisfied: click in /Users/quangnguyen/Documents/gsc24-test/TFODCourse/newtfod/lib/python3.8/site-packages (from tensorflow-datasets->tf-models-official>=2.5.1->object_detection==0.1) (8.1.7)\n",
      "Requirement already satisfied: etils>=0.9.0 in /Users/quangnguyen/Documents/gsc24-test/TFODCourse/newtfod/lib/python3.8/site-packages (from etils[enp,epath]>=0.9.0->tensorflow-datasets->tf-models-official>=2.5.1->object_detection==0.1) (1.3.0)\n",
      "Requirement already satisfied: promise in /Users/quangnguyen/Documents/gsc24-test/TFODCourse/newtfod/lib/python3.8/site-packages (from tensorflow-datasets->tf-models-official>=2.5.1->object_detection==0.1) (2.3)\n",
      "Requirement already satisfied: tensorflow-metadata in /Users/quangnguyen/Documents/gsc24-test/TFODCourse/newtfod/lib/python3.8/site-packages (from tensorflow-datasets->tf-models-official>=2.5.1->object_detection==0.1) (1.14.0)\n",
      "Requirement already satisfied: toml in /Users/quangnguyen/Documents/gsc24-test/TFODCourse/newtfod/lib/python3.8/site-packages (from tensorflow-datasets->tf-models-official>=2.5.1->object_detection==0.1) (0.10.2)\n",
      "Requirement already satisfied: wheel<1.0,>=0.23.0 in /Users/quangnguyen/Documents/gsc24-test/TFODCourse/newtfod/lib/python3.8/site-packages (from astunparse>=1.6.0->tensorflow~=2.13.0->tf-models-official>=2.5.1->object_detection==0.1) (0.42.0)\n",
      "Requirement already satisfied: zipp in /Users/quangnguyen/Documents/gsc24-test/TFODCourse/newtfod/lib/python3.8/site-packages (from etils[enp,epath]>=0.9.0->tensorflow-datasets->tf-models-official>=2.5.1->object_detection==0.1) (3.17.0)\n",
      "Requirement already satisfied: googleapis-common-protos<2.0.dev0,>=1.56.2 in /Users/quangnguyen/Documents/gsc24-test/TFODCourse/newtfod/lib/python3.8/site-packages (from google-api-core!=2.0.*,!=2.1.*,!=2.2.*,!=2.3.0,<3.0.0.dev0,>=1.31.5->google-api-python-client>=1.6.7->tf-models-official>=2.5.1->object_detection==0.1) (1.62.0)\n",
      "Requirement already satisfied: cachetools<6.0,>=2.0.0 in /Users/quangnguyen/Documents/gsc24-test/TFODCourse/newtfod/lib/python3.8/site-packages (from google-auth<3.0.0.dev0,>=1.19.0->google-api-python-client>=1.6.7->tf-models-official>=2.5.1->object_detection==0.1) (5.3.2)\n",
      "Requirement already satisfied: joblib>=1.1.1 in /Users/quangnguyen/Documents/gsc24-test/TFODCourse/newtfod/lib/python3.8/site-packages (from scikit-learn>=0.21.3->seqeval->tf-models-official>=2.5.1->object_detection==0.1) (1.3.2)\n",
      "Requirement already satisfied: threadpoolctl>=2.0.0 in /Users/quangnguyen/Documents/gsc24-test/TFODCourse/newtfod/lib/python3.8/site-packages (from scikit-learn>=0.21.3->seqeval->tf-models-official>=2.5.1->object_detection==0.1) (3.2.0)\n",
      "Requirement already satisfied: google-auth-oauthlib<1.1,>=0.5 in /Users/quangnguyen/Documents/gsc24-test/TFODCourse/newtfod/lib/python3.8/site-packages (from tensorboard<2.14,>=2.13->tensorflow~=2.13.0->tf-models-official>=2.5.1->object_detection==0.1) (1.0.0)\n",
      "Requirement already satisfied: markdown>=2.6.8 in /Users/quangnguyen/Documents/gsc24-test/TFODCourse/newtfod/lib/python3.8/site-packages (from tensorboard<2.14,>=2.13->tensorflow~=2.13.0->tf-models-official>=2.5.1->object_detection==0.1) (3.5.1)\n",
      "Requirement already satisfied: tensorboard-data-server<0.8.0,>=0.7.0 in /Users/quangnguyen/Documents/gsc24-test/TFODCourse/newtfod/lib/python3.8/site-packages (from tensorboard<2.14,>=2.13->tensorflow~=2.13.0->tf-models-official>=2.5.1->object_detection==0.1) (0.7.2)\n",
      "Requirement already satisfied: werkzeug>=1.0.1 in /Users/quangnguyen/Documents/gsc24-test/TFODCourse/newtfod/lib/python3.8/site-packages (from tensorboard<2.14,>=2.13->tensorflow~=2.13.0->tf-models-official>=2.5.1->object_detection==0.1) (3.0.1)\n",
      "Requirement already satisfied: backports.zoneinfo in /Users/quangnguyen/Documents/gsc24-test/TFODCourse/newtfod/lib/python3.8/site-packages (from tzlocal>=1.2->js2py<1,>=0.74->apache-beam->object_detection==0.1) (0.2.1)\n",
      "Requirement already satisfied: webencodings in /Users/quangnguyen/Documents/gsc24-test/TFODCourse/newtfod/lib/python3.8/site-packages (from bleach->kaggle>=1.3.9->tf-models-official>=2.5.1->object_detection==0.1) (0.5.1)\n",
      "Requirement already satisfied: text-unidecode>=1.3 in /Users/quangnguyen/Documents/gsc24-test/TFODCourse/newtfod/lib/python3.8/site-packages (from python-slugify->kaggle>=1.3.9->tf-models-official>=2.5.1->object_detection==0.1) (1.3)\n",
      "Requirement already satisfied: requests-oauthlib>=0.7.0 in /Users/quangnguyen/Documents/gsc24-test/TFODCourse/newtfod/lib/python3.8/site-packages (from google-auth-oauthlib<1.1,>=0.5->tensorboard<2.14,>=2.13->tensorflow~=2.13.0->tf-models-official>=2.5.1->object_detection==0.1) (1.3.1)\n",
      "Requirement already satisfied: importlib-metadata>=4.4 in /Users/quangnguyen/Documents/gsc24-test/TFODCourse/newtfod/lib/python3.8/site-packages (from markdown>=2.6.8->tensorboard<2.14,>=2.13->tensorflow~=2.13.0->tf-models-official>=2.5.1->object_detection==0.1) (7.0.1)\n",
      "Requirement already satisfied: MarkupSafe>=2.1.1 in /Users/quangnguyen/Documents/gsc24-test/TFODCourse/newtfod/lib/python3.8/site-packages (from werkzeug>=1.0.1->tensorboard<2.14,>=2.13->tensorflow~=2.13.0->tf-models-official>=2.5.1->object_detection==0.1) (2.1.3)\n",
      "Requirement already satisfied: oauthlib>=3.0.0 in /Users/quangnguyen/Documents/gsc24-test/TFODCourse/newtfod/lib/python3.8/site-packages (from requests-oauthlib>=0.7.0->google-auth-oauthlib<1.1,>=0.5->tensorboard<2.14,>=2.13->tensorflow~=2.13.0->tf-models-official>=2.5.1->object_detection==0.1) (3.2.2)\n",
      "Building wheels for collected packages: object_detection\n",
      "  Building wheel for object_detection (setup.py) ... \u001b[?25ldone\n",
      "\u001b[?25h  Created wheel for object_detection: filename=object_detection-0.1-py3-none-any.whl size=1656805 sha256=d8f6fcea8e3d46f0a6e2e048205b95f98a21a1a0977cbf2b891ad73b7b4cf862\n",
      "  Stored in directory: /private/var/folders/n4/7j7k85wj3cj51xb2m6wn13b40000gn/T/pip-ephem-wheel-cache-gnw25ykr/wheels/bb/60/a6/2df05cc82206359d225da40aa7276afd7a74a634b8bddcc27c\n",
      "Successfully built object_detection\n",
      "Installing collected packages: object_detection\n",
      "  Attempting uninstall: object_detection\n",
      "    Found existing installation: object_detection 0.1\n",
      "    Uninstalling object_detection-0.1:\n",
      "      Successfully uninstalled object_detection-0.1\n",
      "Successfully installed object_detection-0.1\n"
     ]
    }
   ],
   "source": [
    "# Install Tensorflow Object Detection \n",
    "if os.name=='posix':  \n",
    "    #!apt-get install protobuf-compiler\n",
    "    \n",
    "    # Work-around to solve the bug with version confliction of PyYaml and Cython \n",
    "    !pip install \"cython<3.0.0\" wheel\n",
    "    !pip install \"pyyaml==5.4.1\" --no-build-isolation\n",
    "    !pip install -r requirements.txt\n",
    "\n",
    "    # Install protobuf via brew as package installer\n",
    "    !brew install protobuf\n",
    "    !brew link --overwrite protobuf\n",
    "    !pip install tf-models-official\n",
    "    !pip install wheel setuptools pip --upgrade\n",
    "    !cd Tensorflow/models/research && protoc object_detection/protos/*.proto --python_out=. && cp object_detection/packages/tf2/setup.py . && python -m pip install . \n",
    "    \n",
    "if os.name=='nt':\n",
    "    url=\"https://github.com/protocolbuffers/protobuf/releases/download/v3.15.6/protoc-3.15.6-win64.zip\"\n",
    "    wget.download(url)\n",
    "    !move protoc-3.15.6-win64.zip {paths['PROTOC_PATH']}\n",
    "    !cd {paths['PROTOC_PATH']} && tar -xf protoc-3.15.6-win64.zip\n",
    "    os.environ['PATH'] += os.pathsep + os.path.abspath(os.path.join(paths['PROTOC_PATH'], 'bin'))   \n",
    "    !cd Tensorflow/models/research && protoc object_detection/protos/*.proto --python_out=. && copy object_detection\\\\packages\\\\tf2\\\\setup.py setup.py && python setup.py build && python setup.py install\n",
    "    !cd Tensorflow/models/research/slim && pip install -e . "
   ]
  },
  {
   "cell_type": "code",
   "execution_count": 25,
   "metadata": {},
   "outputs": [],
   "source": [
    "VERIFICATION_SCRIPT = os.path.join(paths['APIMODEL_PATH'], 'research', 'object_detection', 'builders', 'model_builder_tf2_test.py')\n",
    "# Verify Installation\n",
    "!python3 {VERIFICATION_SCRIPT}"
   ]
  },
  {
   "cell_type": "code",
   "execution_count": 13,
   "metadata": {},
   "outputs": [
    {
     "name": "stdout",
     "output_type": "stream",
     "text": [
      "Found existing installation: tensorflow 2.13.1\n",
      "Uninstalling tensorflow-2.13.1:\n",
      "  Successfully uninstalled tensorflow-2.13.1\n",
      "Collecting tensorflow==2.4.1\n",
      "  Downloading tensorflow-2.4.1-cp38-cp38-macosx_10_11_x86_64.whl (173.9 MB)\n",
      "\u001b[2K     \u001b[38;2;114;156;31m━━━━━━━━━━━━━━━━━━━━━━━━━━━━━━━━━━━━━━━\u001b[0m \u001b[32m173.9/173.9 MB\u001b[0m \u001b[31m4.6 MB/s\u001b[0m eta \u001b[36m0:00:00\u001b[0mm eta \u001b[36m0:00:01\u001b[0m[36m0:00:01\u001b[0m\n",
      "\u001b[?25hCollecting absl-py~=0.10 (from tensorflow==2.4.1)\n",
      "  Downloading absl_py-0.15.0-py3-none-any.whl (132 kB)\n",
      "\u001b[2K     \u001b[38;2;114;156;31m━━━━━━━━━━━━━━━━━━━━━━━━━━━━━━━━━━━━━━━\u001b[0m \u001b[32m132.0/132.0 kB\u001b[0m \u001b[31m9.9 MB/s\u001b[0m eta \u001b[36m0:00:00\u001b[0m\n",
      "\u001b[?25hRequirement already satisfied: astunparse~=1.6.3 in ./newtfod/lib/python3.8/site-packages (from tensorflow==2.4.1) (1.6.3)\n",
      "Collecting flatbuffers~=1.12.0 (from tensorflow==2.4.1)\n",
      "  Downloading flatbuffers-1.12-py2.py3-none-any.whl (15 kB)\n",
      "Requirement already satisfied: google-pasta~=0.2 in ./newtfod/lib/python3.8/site-packages (from tensorflow==2.4.1) (0.2.0)\n",
      "Collecting h5py~=2.10.0 (from tensorflow==2.4.1)\n",
      "  Downloading h5py-2.10.0-cp38-cp38-macosx_10_9_x86_64.whl (3.0 MB)\n",
      "\u001b[2K     \u001b[38;2;114;156;31m━━━━━━━━━━━━━━━━━━━━━━━━━━━━━━━━━━━━━━━━\u001b[0m \u001b[32m3.0/3.0 MB\u001b[0m \u001b[31m19.4 MB/s\u001b[0m eta \u001b[36m0:00:00\u001b[0m MB/s\u001b[0m eta \u001b[36m0:00:01\u001b[0m\n",
      "\u001b[?25hCollecting keras-preprocessing~=1.1.2 (from tensorflow==2.4.1)\n",
      "  Downloading Keras_Preprocessing-1.1.2-py2.py3-none-any.whl (42 kB)\n",
      "\u001b[2K     \u001b[38;2;114;156;31m━━━━━━━━━━━━━━━━━━━━━━━━━━━━━━━━━━━━━━━━\u001b[0m \u001b[32m42.6/42.6 kB\u001b[0m \u001b[31m6.0 MB/s\u001b[0m eta \u001b[36m0:00:00\u001b[0m\n",
      "\u001b[?25hCollecting numpy~=1.19.2 (from tensorflow==2.4.1)\n",
      "  Downloading numpy-1.19.5-cp38-cp38-macosx_10_9_x86_64.whl (15.6 MB)\n",
      "\u001b[2K     \u001b[38;2;114;156;31m━━━━━━━━━━━━━━━━━━━━━━━━━━━━━━━━━━━━━━━━\u001b[0m \u001b[32m15.6/15.6 MB\u001b[0m \u001b[31m27.5 MB/s\u001b[0m eta \u001b[36m0:00:00\u001b[0mm eta \u001b[36m0:00:01\u001b[0m[36m0:00:01\u001b[0m\n",
      "\u001b[?25hRequirement already satisfied: opt-einsum~=3.3.0 in ./newtfod/lib/python3.8/site-packages (from tensorflow==2.4.1) (3.3.0)\n",
      "Requirement already satisfied: protobuf>=3.9.2 in ./newtfod/lib/python3.8/site-packages (from tensorflow==2.4.1) (3.20.3)\n",
      "Collecting six~=1.15.0 (from tensorflow==2.4.1)\n",
      "  Downloading six-1.15.0-py2.py3-none-any.whl (10 kB)\n",
      "Collecting termcolor~=1.1.0 (from tensorflow==2.4.1)\n",
      "  Downloading termcolor-1.1.0.tar.gz (3.9 kB)\n",
      "  Preparing metadata (setup.py) ... \u001b[?25ldone\n",
      "\u001b[?25hCollecting typing-extensions~=3.7.4 (from tensorflow==2.4.1)\n",
      "  Downloading typing_extensions-3.7.4.3-py3-none-any.whl (22 kB)\n",
      "Requirement already satisfied: wheel~=0.35 in ./newtfod/lib/python3.8/site-packages (from tensorflow==2.4.1) (0.42.0)\n",
      "Collecting wrapt~=1.12.1 (from tensorflow==2.4.1)\n",
      "  Downloading wrapt-1.12.1.tar.gz (27 kB)\n",
      "  Preparing metadata (setup.py) ... \u001b[?25ldone\n",
      "\u001b[?25hCollecting gast==0.3.3 (from tensorflow==2.4.1)\n",
      "  Downloading gast-0.3.3-py2.py3-none-any.whl (9.7 kB)\n",
      "Requirement already satisfied: tensorboard~=2.4 in ./newtfod/lib/python3.8/site-packages (from tensorflow==2.4.1) (2.13.0)\n",
      "Collecting tensorflow-estimator<2.5.0,>=2.4.0 (from tensorflow==2.4.1)\n",
      "  Downloading tensorflow_estimator-2.4.0-py2.py3-none-any.whl (462 kB)\n",
      "\u001b[2K     \u001b[38;2;114;156;31m━━━━━━━━━━━━━━━━━━━━━━━━━━━━━━━━━━━━━━\u001b[0m \u001b[32m462.0/462.0 kB\u001b[0m \u001b[31m59.2 MB/s\u001b[0m eta \u001b[36m0:00:00\u001b[0m\n",
      "\u001b[?25hCollecting grpcio~=1.32.0 (from tensorflow==2.4.1)\n",
      "  Downloading grpcio-1.32.0-cp38-cp38-macosx_10_9_x86_64.whl (3.3 MB)\n",
      "\u001b[2K     \u001b[38;2;114;156;31m━━━━━━━━━━━━━━━━━━━━━━━━━━━━━━━━━━━━━━━━\u001b[0m \u001b[32m3.3/3.3 MB\u001b[0m \u001b[31m14.0 MB/s\u001b[0m eta \u001b[36m0:00:00\u001b[0mm eta \u001b[36m0:00:01\u001b[0m[36m0:00:01\u001b[0m\n",
      "\u001b[?25hINFO: pip is looking at multiple versions of tensorboard to determine which version is compatible with other requirements. This could take a while.\n",
      "Collecting tensorboard~=2.4 (from tensorflow==2.4.1)\n",
      "  Downloading tensorboard-2.14.0-py3-none-any.whl.metadata (1.8 kB)\n",
      "  Downloading tensorboard-2.12.3-py3-none-any.whl (5.6 MB)\n",
      "\u001b[2K     \u001b[38;2;114;156;31m━━━━━━━━━━━━━━━━━━━━━━━━━━━━━━━━━━━━━━━━\u001b[0m \u001b[32m5.6/5.6 MB\u001b[0m \u001b[31m20.7 MB/s\u001b[0m eta \u001b[36m0:00:00\u001b[0mm eta \u001b[36m0:00:01\u001b[0m0:01\u001b[0m:01\u001b[0m\n",
      "\u001b[?25h  Downloading tensorboard-2.12.2-py3-none-any.whl (5.6 MB)\n",
      "\u001b[2K     \u001b[38;2;114;156;31m━━━━━━━━━━━━━━━━━━━━━━━━━━━━━━━━━━━━━━━━\u001b[0m \u001b[32m5.6/5.6 MB\u001b[0m \u001b[31m25.3 MB/s\u001b[0m eta \u001b[36m0:00:00\u001b[0m31m27.5 MB/s\u001b[0m eta \u001b[36m0:00:01\u001b[0m\n",
      "\u001b[?25h  Downloading tensorboard-2.12.1-py3-none-any.whl (5.6 MB)\n",
      "\u001b[2K     \u001b[38;2;114;156;31m━━━━━━━━━━━━━━━━━━━━━━━━━━━━━━━━━━━━━━━━\u001b[0m \u001b[32m5.6/5.6 MB\u001b[0m \u001b[31m20.6 MB/s\u001b[0m eta \u001b[36m0:00:00\u001b[0mm eta \u001b[36m0:00:01\u001b[0m0:01\u001b[0m:01\u001b[0m\n",
      "\u001b[?25h  Downloading tensorboard-2.12.0-py3-none-any.whl (5.6 MB)\n",
      "\u001b[2K     \u001b[38;2;114;156;31m━━━━━━━━━━━━━━━━━━━━━━━━━━━━━━━━━━━━━━━━\u001b[0m \u001b[32m5.6/5.6 MB\u001b[0m \u001b[31m21.5 MB/s\u001b[0m eta \u001b[36m0:00:00\u001b[0m[36m0:00:01\u001b[0m[36m0:00:01\u001b[0m:01\u001b[0m\n",
      "\u001b[?25h  Downloading tensorboard-2.11.2-py3-none-any.whl (6.0 MB)\n",
      "\u001b[2K     \u001b[38;2;114;156;31m━━━━━━━━━━━━━━━━━━━━━━━━━━━━━━━━━━━━━━━━\u001b[0m \u001b[32m6.0/6.0 MB\u001b[0m \u001b[31m22.7 MB/s\u001b[0m eta \u001b[36m0:00:00\u001b[0m31m24.2 MB/s\u001b[0m eta \u001b[36m0:00:01\u001b[0m\n",
      "\u001b[?25hRequirement already satisfied: google-auth<3,>=1.6.3 in ./newtfod/lib/python3.8/site-packages (from tensorboard~=2.4->tensorflow==2.4.1) (2.25.2)\n",
      "Collecting google-auth-oauthlib<0.5,>=0.4.1 (from tensorboard~=2.4->tensorflow==2.4.1)\n",
      "  Downloading google_auth_oauthlib-0.4.6-py2.py3-none-any.whl (18 kB)\n",
      "Requirement already satisfied: markdown>=2.6.8 in ./newtfod/lib/python3.8/site-packages (from tensorboard~=2.4->tensorflow==2.4.1) (3.5.1)\n",
      "Requirement already satisfied: requests<3,>=2.21.0 in ./newtfod/lib/python3.8/site-packages (from tensorboard~=2.4->tensorflow==2.4.1) (2.31.0)\n",
      "Requirement already satisfied: setuptools>=41.0.0 in ./newtfod/lib/python3.8/site-packages (from tensorboard~=2.4->tensorflow==2.4.1) (69.0.3)\n",
      "Collecting tensorboard-data-server<0.7.0,>=0.6.0 (from tensorboard~=2.4->tensorflow==2.4.1)\n",
      "  Downloading tensorboard_data_server-0.6.1-py3-none-macosx_10_9_x86_64.whl (3.5 MB)\n",
      "\u001b[2K     \u001b[38;2;114;156;31m━━━━━━━━━━━━━━━━━━━━━━━━━━━━━━━━━━━━━━━━\u001b[0m \u001b[32m3.5/3.5 MB\u001b[0m \u001b[31m26.2 MB/s\u001b[0m eta \u001b[36m0:00:00\u001b[0m MB/s\u001b[0m eta \u001b[36m0:00:01\u001b[0m:01\u001b[0m\n",
      "\u001b[?25hCollecting tensorboard-plugin-wit>=1.6.0 (from tensorboard~=2.4->tensorflow==2.4.1)\n",
      "  Downloading tensorboard_plugin_wit-1.8.1-py3-none-any.whl (781 kB)\n",
      "\u001b[2K     \u001b[38;2;114;156;31m━━━━━━━━━━━━━━━━━━━━━━━━━━━━━━━━━━━━━━\u001b[0m \u001b[32m781.3/781.3 kB\u001b[0m \u001b[31m25.2 MB/s\u001b[0m eta \u001b[36m0:00:00\u001b[0m\n",
      "\u001b[?25hRequirement already satisfied: werkzeug>=1.0.1 in ./newtfod/lib/python3.8/site-packages (from tensorboard~=2.4->tensorflow==2.4.1) (3.0.1)\n",
      "Requirement already satisfied: cachetools<6.0,>=2.0.0 in ./newtfod/lib/python3.8/site-packages (from google-auth<3,>=1.6.3->tensorboard~=2.4->tensorflow==2.4.1) (5.3.2)\n",
      "Requirement already satisfied: pyasn1-modules>=0.2.1 in ./newtfod/lib/python3.8/site-packages (from google-auth<3,>=1.6.3->tensorboard~=2.4->tensorflow==2.4.1) (0.3.0)\n",
      "Requirement already satisfied: rsa<5,>=3.1.4 in ./newtfod/lib/python3.8/site-packages (from google-auth<3,>=1.6.3->tensorboard~=2.4->tensorflow==2.4.1) (4.9)\n",
      "Requirement already satisfied: requests-oauthlib>=0.7.0 in ./newtfod/lib/python3.8/site-packages (from google-auth-oauthlib<0.5,>=0.4.1->tensorboard~=2.4->tensorflow==2.4.1) (1.3.1)\n",
      "Requirement already satisfied: importlib-metadata>=4.4 in ./newtfod/lib/python3.8/site-packages (from markdown>=2.6.8->tensorboard~=2.4->tensorflow==2.4.1) (7.0.1)\n",
      "Requirement already satisfied: charset-normalizer<4,>=2 in ./newtfod/lib/python3.8/site-packages (from requests<3,>=2.21.0->tensorboard~=2.4->tensorflow==2.4.1) (3.3.2)\n",
      "Requirement already satisfied: idna<4,>=2.5 in ./newtfod/lib/python3.8/site-packages (from requests<3,>=2.21.0->tensorboard~=2.4->tensorflow==2.4.1) (3.6)\n",
      "Requirement already satisfied: urllib3<3,>=1.21.1 in ./newtfod/lib/python3.8/site-packages (from requests<3,>=2.21.0->tensorboard~=2.4->tensorflow==2.4.1) (2.1.0)\n",
      "Requirement already satisfied: certifi>=2017.4.17 in ./newtfod/lib/python3.8/site-packages (from requests<3,>=2.21.0->tensorboard~=2.4->tensorflow==2.4.1) (2023.11.17)\n",
      "Requirement already satisfied: MarkupSafe>=2.1.1 in ./newtfod/lib/python3.8/site-packages (from werkzeug>=1.0.1->tensorboard~=2.4->tensorflow==2.4.1) (2.1.3)\n",
      "Requirement already satisfied: zipp>=0.5 in ./newtfod/lib/python3.8/site-packages (from importlib-metadata>=4.4->markdown>=2.6.8->tensorboard~=2.4->tensorflow==2.4.1) (3.17.0)\n",
      "Requirement already satisfied: pyasn1<0.6.0,>=0.4.6 in ./newtfod/lib/python3.8/site-packages (from pyasn1-modules>=0.2.1->google-auth<3,>=1.6.3->tensorboard~=2.4->tensorflow==2.4.1) (0.5.1)\n",
      "Requirement already satisfied: oauthlib>=3.0.0 in ./newtfod/lib/python3.8/site-packages (from requests-oauthlib>=0.7.0->google-auth-oauthlib<0.5,>=0.4.1->tensorboard~=2.4->tensorflow==2.4.1) (3.2.2)\n",
      "Building wheels for collected packages: termcolor, wrapt\n",
      "  Building wheel for termcolor (setup.py) ... \u001b[?25ldone\n",
      "\u001b[?25h  Created wheel for termcolor: filename=termcolor-1.1.0-py3-none-any.whl size=4832 sha256=498cf0bf1a7fa2c9850cce2d83efdf95094682bb3d6bebd5099652d56011d225\n",
      "  Stored in directory: /Users/quangnguyen/Library/Caches/pip/wheels/a0/16/9c/5473df82468f958445479c59e784896fa24f4a5fc024b0f501\n",
      "  Building wheel for wrapt (setup.py) ... \u001b[?25ldone\n",
      "\u001b[?25h  Created wheel for wrapt: filename=wrapt-1.12.1-cp38-cp38-macosx_10_9_x86_64.whl size=32949 sha256=956b5b931f8a8000778a6f8223d4f203c303e832c8ef7cee7add55fe60a7bd3f\n",
      "  Stored in directory: /Users/quangnguyen/Library/Caches/pip/wheels/5f/fd/9e/b6cf5890494cb8ef0b5eaff72e5d55a70fb56316007d6dfe73\n",
      "Successfully built termcolor wrapt\n",
      "Installing collected packages: wrapt, typing-extensions, termcolor, tensorflow-estimator, tensorboard-plugin-wit, flatbuffers, tensorboard-data-server, six, numpy, gast, keras-preprocessing, h5py, grpcio, absl-py, google-auth-oauthlib, tensorboard, tensorflow\n",
      "  Attempting uninstall: wrapt\n",
      "    Found existing installation: wrapt 1.16.0\n",
      "    Uninstalling wrapt-1.16.0:\n",
      "      Successfully uninstalled wrapt-1.16.0\n",
      "  Attempting uninstall: typing-extensions\n",
      "    Found existing installation: typing_extensions 4.5.0\n",
      "    Uninstalling typing_extensions-4.5.0:\n",
      "      Successfully uninstalled typing_extensions-4.5.0\n",
      "  Attempting uninstall: termcolor\n",
      "    Found existing installation: termcolor 2.4.0\n",
      "    Uninstalling termcolor-2.4.0:\n",
      "      Successfully uninstalled termcolor-2.4.0\n",
      "  Attempting uninstall: tensorflow-estimator\n",
      "    Found existing installation: tensorflow-estimator 2.13.0\n",
      "    Uninstalling tensorflow-estimator-2.13.0:\n",
      "      Successfully uninstalled tensorflow-estimator-2.13.0\n",
      "  Attempting uninstall: flatbuffers\n",
      "    Found existing installation: flatbuffers 23.5.26\n",
      "    Uninstalling flatbuffers-23.5.26:\n",
      "      Successfully uninstalled flatbuffers-23.5.26\n",
      "  Attempting uninstall: tensorboard-data-server\n",
      "    Found existing installation: tensorboard-data-server 0.7.2\n",
      "    Uninstalling tensorboard-data-server-0.7.2:\n",
      "      Successfully uninstalled tensorboard-data-server-0.7.2\n",
      "  Attempting uninstall: six\n",
      "    Found existing installation: six 1.16.0\n",
      "    Uninstalling six-1.16.0:\n",
      "      Successfully uninstalled six-1.16.0\n",
      "  Attempting uninstall: numpy\n",
      "    Found existing installation: numpy 1.24.3\n",
      "    Uninstalling numpy-1.24.3:\n",
      "      Successfully uninstalled numpy-1.24.3\n",
      "  Attempting uninstall: gast\n",
      "    Found existing installation: gast 0.4.0\n",
      "    Uninstalling gast-0.4.0:\n",
      "      Successfully uninstalled gast-0.4.0\n",
      "  Attempting uninstall: h5py\n",
      "    Found existing installation: h5py 3.10.0\n",
      "    Uninstalling h5py-3.10.0:\n",
      "      Successfully uninstalled h5py-3.10.0\n",
      "  Attempting uninstall: grpcio\n",
      "    Found existing installation: grpcio 1.60.0\n",
      "    Uninstalling grpcio-1.60.0:\n",
      "      Successfully uninstalled grpcio-1.60.0\n",
      "  Attempting uninstall: absl-py\n",
      "    Found existing installation: absl-py 1.4.0\n",
      "    Uninstalling absl-py-1.4.0:\n",
      "      Successfully uninstalled absl-py-1.4.0\n",
      "  Attempting uninstall: google-auth-oauthlib\n",
      "    Found existing installation: google-auth-oauthlib 1.0.0\n",
      "    Uninstalling google-auth-oauthlib-1.0.0:\n",
      "      Successfully uninstalled google-auth-oauthlib-1.0.0\n",
      "  Attempting uninstall: tensorboard\n",
      "    Found existing installation: tensorboard 2.13.0\n",
      "    Uninstalling tensorboard-2.13.0:\n",
      "      Successfully uninstalled tensorboard-2.13.0\n",
      "\u001b[31mERROR: pip's dependency resolver does not currently take into account all the packages that are installed. This behaviour is the source of the following dependency conflicts.\n",
      "anyio 4.2.0 requires typing-extensions>=4.1; python_version < \"3.11\", but you have typing-extensions 3.7.4.3 which is incompatible.\n",
      "apache-beam 2.52.0 requires grpcio!=1.48.0,<2,>=1.33.1, but you have grpcio 1.32.0 which is incompatible.\n",
      "async-lru 2.0.4 requires typing-extensions>=4.0.0; python_version < \"3.11\", but you have typing-extensions 3.7.4.3 which is incompatible.\n",
      "matplotlib 3.7.4 requires numpy<2,>=1.20, but you have numpy 1.19.5 which is incompatible.\n",
      "pandas 2.0.3 requires numpy>=1.20.3; python_version < \"3.10\", but you have numpy 1.19.5 which is incompatible.\n",
      "tensorflow-model-optimization 0.7.5 requires absl-py~=1.2, but you have absl-py 0.15.0 which is incompatible.\n",
      "tensorflow-model-optimization 0.7.5 requires numpy~=1.23, but you have numpy 1.19.5 which is incompatible.\n",
      "tensorflow-text 2.13.0 requires tensorflow<2.14,>=2.13.0; platform_machine != \"arm64\" or platform_system != \"Darwin\", but you have tensorflow 2.4.1 which is incompatible.\n",
      "tf-models-official 2.13.2 requires numpy>=1.20, but you have numpy 1.19.5 which is incompatible.\n",
      "tf-models-official 2.13.2 requires tensorflow~=2.13.0, but you have tensorflow 2.4.1 which is incompatible.\u001b[0m\u001b[31m\n",
      "\u001b[0mSuccessfully installed absl-py-0.15.0 flatbuffers-1.12 gast-0.3.3 google-auth-oauthlib-0.4.6 grpcio-1.32.0 h5py-2.10.0 keras-preprocessing-1.1.2 numpy-1.19.5 six-1.15.0 tensorboard-2.11.2 tensorboard-data-server-0.6.1 tensorboard-plugin-wit-1.8.1 tensorflow-2.4.1 tensorflow-estimator-2.4.0 termcolor-1.1.0 typing-extensions-3.7.4.3 wrapt-1.12.1\n"
     ]
    }
   ],
   "source": [
    "!pip uninstall tensorflow -y\n",
    "!pip install tensorflow==2.4.1\n",
    "# brew install tensorflow"
   ]
  },
  {
   "cell_type": "code",
   "execution_count": 15,
   "metadata": {},
   "outputs": [
    {
     "name": "stdout",
     "output_type": "stream",
     "text": [
      "Found existing installation: protobuf 3.20.3\n",
      "Uninstalling protobuf-3.20.3:\n",
      "  Successfully uninstalled protobuf-3.20.3\n",
      "Found existing installation: matplotlib 3.7.4\n",
      "Uninstalling matplotlib-3.7.4:\n",
      "  Successfully uninstalled matplotlib-3.7.4\n",
      "Collecting protobuf\n",
      "  Using cached protobuf-4.25.1-cp37-abi3-macosx_10_9_universal2.whl.metadata (541 bytes)\n",
      "Collecting matplotlib==3.2\n",
      "  Downloading matplotlib-3.2.0-cp38-cp38-macosx_10_9_x86_64.whl (12.4 MB)\n",
      "\u001b[2K     \u001b[38;2;114;156;31m━━━━━━━━━━━━━━━━━━━━━━━━━━━━━━━━━━━━━━━━\u001b[0m \u001b[32m12.4/12.4 MB\u001b[0m \u001b[31m7.2 MB/s\u001b[0m eta \u001b[36m0:00:00\u001b[0mm eta \u001b[36m0:00:01\u001b[0m0:01\u001b[0m:01\u001b[0m\n",
      "\u001b[?25hRequirement already satisfied: cycler>=0.10 in ./newtfod/lib/python3.8/site-packages (from matplotlib==3.2) (0.12.1)\n",
      "Requirement already satisfied: kiwisolver>=1.0.1 in ./newtfod/lib/python3.8/site-packages (from matplotlib==3.2) (1.4.5)\n",
      "Requirement already satisfied: numpy>=1.11 in ./newtfod/lib/python3.8/site-packages (from matplotlib==3.2) (1.19.5)\n",
      "Requirement already satisfied: pyparsing!=2.0.4,!=2.1.2,!=2.1.6,>=2.0.1 in ./newtfod/lib/python3.8/site-packages (from matplotlib==3.2) (2.4.7)\n",
      "Requirement already satisfied: python-dateutil>=2.1 in ./newtfod/lib/python3.8/site-packages (from matplotlib==3.2) (2.8.2)\n",
      "Requirement already satisfied: six>=1.5 in ./newtfod/lib/python3.8/site-packages (from python-dateutil>=2.1->matplotlib==3.2) (1.15.0)\n",
      "Using cached protobuf-4.25.1-cp37-abi3-macosx_10_9_universal2.whl (394 kB)\n",
      "Installing collected packages: protobuf, matplotlib\n",
      "\u001b[31mERROR: pip's dependency resolver does not currently take into account all the packages that are installed. This behaviour is the source of the following dependency conflicts.\n",
      "apache-beam 2.52.0 requires grpcio!=1.48.0,<2,>=1.33.1, but you have grpcio 1.32.0 which is incompatible.\n",
      "tensorboard 2.11.2 requires protobuf<4,>=3.9.2, but you have protobuf 4.25.1 which is incompatible.\n",
      "tensorflow-metadata 1.14.0 requires protobuf<4.21,>=3.20.3, but you have protobuf 4.25.1 which is incompatible.\n",
      "tensorflow-text 2.13.0 requires tensorflow<2.14,>=2.13.0; platform_machine != \"arm64\" or platform_system != \"Darwin\", but you have tensorflow 2.4.1 which is incompatible.\n",
      "tf-models-official 2.13.2 requires numpy>=1.20, but you have numpy 1.19.5 which is incompatible.\n",
      "tf-models-official 2.13.2 requires tensorflow~=2.13.0, but you have tensorflow 2.4.1 which is incompatible.\u001b[0m\u001b[31m\n",
      "\u001b[0mSuccessfully installed matplotlib-3.2.0 protobuf-4.25.1\n"
     ]
    }
   ],
   "source": [
    "!pip uninstall protobuf matplotlib -y\n",
    "!pip install protobuf matplotlib==3.2"
   ]
  },
  {
   "cell_type": "code",
   "execution_count": 17,
   "metadata": {},
   "outputs": [],
   "source": [
    "import object_detection"
   ]
  },
  {
   "cell_type": "code",
   "execution_count": 18,
   "metadata": {
    "scrolled": true
   },
   "outputs": [
    {
     "name": "stdout",
     "output_type": "stream",
     "text": [
      "Package                       Version\n",
      "----------------------------- ------------\n",
      "absl-py                       0.15.0\n",
      "anyio                         4.2.0\n",
      "apache-beam                   2.52.0\n",
      "appnope                       0.1.3\n",
      "argon2-cffi                   23.1.0\n",
      "argon2-cffi-bindings          21.2.0\n",
      "array-record                  0.4.0\n",
      "arrow                         1.3.0\n",
      "asttokens                     2.4.1\n",
      "astunparse                    1.6.3\n",
      "async-lru                     2.0.4\n",
      "attrs                         23.1.0\n",
      "avro-python3                  1.10.2\n",
      "Babel                         2.14.0\n",
      "backcall                      0.2.0\n",
      "backports.zoneinfo            0.2.1\n",
      "beautifulsoup4                4.12.2\n",
      "bleach                        6.1.0\n",
      "cachetools                    5.3.2\n",
      "certifi                       2023.11.17\n",
      "cffi                          1.16.0\n",
      "charset-normalizer            3.3.2\n",
      "click                         8.1.7\n",
      "cloudpickle                   2.2.1\n",
      "colorama                      0.4.6\n",
      "comm                          0.2.0\n",
      "contextlib2                   21.6.0\n",
      "contourpy                     1.1.1\n",
      "crcmod                        1.7\n",
      "cycler                        0.12.1\n",
      "Cython                        0.29.37\n",
      "debugpy                       1.8.0\n",
      "decorator                     5.1.1\n",
      "defusedxml                    0.7.1\n",
      "dill                          0.3.1.1\n",
      "dm-tree                       0.1.8\n",
      "dnspython                     2.4.2\n",
      "docopt                        0.6.2\n",
      "etils                         1.3.0\n",
      "exceptiongroup                1.2.0\n",
      "executing                     2.0.1\n",
      "fastavro                      1.9.2\n",
      "fasteners                     0.19\n",
      "fastjsonschema                2.19.1\n",
      "flatbuffers                   1.12\n",
      "fonttools                     4.47.0\n",
      "fqdn                          1.5.1\n",
      "gast                          0.3.3\n",
      "gin-config                    0.5.0\n",
      "google-api-core               2.15.0\n",
      "google-api-python-client      2.111.0\n",
      "google-auth                   2.25.2\n",
      "google-auth-httplib2          0.2.0\n",
      "google-auth-oauthlib          0.4.6\n",
      "google-pasta                  0.2.0\n",
      "googleapis-common-protos      1.62.0\n",
      "grpcio                        1.32.0\n",
      "h5py                          2.10.0\n",
      "hdfs                          2.7.3\n",
      "httplib2                      0.22.0\n",
      "idna                          3.6\n",
      "immutabledict                 4.1.0\n",
      "importlib-metadata            7.0.1\n",
      "importlib-resources           6.1.1\n",
      "ipykernel                     6.28.0\n",
      "ipython                       8.12.3\n",
      "ipywidgets                    8.1.1\n",
      "isoduration                   20.11.0\n",
      "jedi                          0.19.1\n",
      "Jinja2                        3.1.2\n",
      "joblib                        1.3.2\n",
      "Js2Py                         0.74\n",
      "json5                         0.9.14\n",
      "jsonpointer                   2.4\n",
      "jsonschema                    4.20.0\n",
      "jsonschema-specifications     2023.12.1\n",
      "jupyter                       1.0.0\n",
      "jupyter_client                8.6.0\n",
      "jupyter-console               6.6.3\n",
      "jupyter_core                  5.5.1\n",
      "jupyter-events                0.9.0\n",
      "jupyter-lsp                   2.2.1\n",
      "jupyter_server                2.12.1\n",
      "jupyter_server_terminals      0.5.1\n",
      "jupyterlab                    4.0.9\n",
      "jupyterlab_pygments           0.3.0\n",
      "jupyterlab_server             2.25.2\n",
      "jupyterlab-widgets            3.0.9\n",
      "kaggle                        1.5.16\n",
      "keras                         2.13.1\n",
      "Keras-Preprocessing           1.1.2\n",
      "kiwisolver                    1.4.5\n",
      "libclang                      16.0.6\n",
      "lvis                          0.5.3\n",
      "lxml                          4.9.4\n",
      "Markdown                      3.5.1\n",
      "MarkupSafe                    2.1.3\n",
      "matplotlib                    3.2.0\n",
      "matplotlib-inline             0.1.6\n",
      "mistune                       3.0.2\n",
      "nbclient                      0.9.0\n",
      "nbconvert                     7.13.1\n",
      "nbformat                      5.9.2\n",
      "nest-asyncio                  1.5.8\n",
      "notebook                      7.0.6\n",
      "notebook_shim                 0.2.3\n",
      "numpy                         1.19.5\n",
      "oauth2client                  4.1.3\n",
      "oauthlib                      3.2.2\n",
      "object_detection              0.1\n",
      "objsize                       0.6.1\n",
      "opencv-python                 4.8.1.78\n",
      "opencv-python-headless        4.8.1.78\n",
      "opt-einsum                    3.3.0\n",
      "orjson                        3.9.10\n",
      "overrides                     7.4.0\n",
      "packaging                     23.2\n",
      "pandas                        2.0.3\n",
      "pandocfilters                 1.5.0\n",
      "parso                         0.8.3\n",
      "pexpect                       4.9.0\n",
      "pickleshare                   0.7.5\n",
      "Pillow                        10.1.0\n",
      "pip                           23.3.2\n",
      "pkgutil_resolve_name          1.3.10\n",
      "platformdirs                  4.1.0\n",
      "portalocker                   2.8.2\n",
      "prometheus-client             0.19.0\n",
      "promise                       2.3\n",
      "prompt-toolkit                3.0.43\n",
      "proto-plus                    1.23.0\n",
      "protobuf                      4.25.1\n",
      "psutil                        5.9.7\n",
      "ptyprocess                    0.7.0\n",
      "pure-eval                     0.2.2\n",
      "py-cpuinfo                    9.0.0\n",
      "pyarrow                       11.0.0\n",
      "pyarrow-hotfix                0.6\n",
      "pyasn1                        0.5.1\n",
      "pyasn1-modules                0.3.0\n",
      "pycocotools                   2.0.7\n",
      "pycparser                     2.21\n",
      "pydot                         1.4.2\n",
      "Pygments                      2.17.2\n",
      "pyjsparser                    2.7.1\n",
      "pymongo                       4.6.1\n",
      "pyparsing                     2.4.7\n",
      "PyQt5                         5.15.10\n",
      "PyQt5-Qt5                     5.15.12\n",
      "PyQt5-sip                     12.13.0\n",
      "python-dateutil               2.8.2\n",
      "python-json-logger            2.0.7\n",
      "python-slugify                8.0.1\n",
      "pytz                          2023.3.post1\n",
      "PyYAML                        6.0.1\n",
      "pyzmq                         25.1.2\n",
      "qtconsole                     5.5.1\n",
      "QtPy                          2.4.1\n",
      "referencing                   0.32.0\n",
      "regex                         2023.12.25\n",
      "requests                      2.31.0\n",
      "requests-oauthlib             1.3.1\n",
      "rfc3339-validator             0.1.4\n",
      "rfc3986-validator             0.1.1\n",
      "rpds-py                       0.16.2\n",
      "rsa                           4.9\n",
      "sacrebleu                     2.2.0\n",
      "scikit-learn                  1.3.2\n",
      "scipy                         1.10.1\n",
      "Send2Trash                    1.8.2\n",
      "sentencepiece                 0.1.99\n",
      "seqeval                       1.2.2\n",
      "setuptools                    69.0.3\n",
      "six                           1.15.0\n",
      "sniffio                       1.3.0\n",
      "soupsieve                     2.5\n",
      "stack-data                    0.6.3\n",
      "tabulate                      0.9.0\n",
      "tensorboard                   2.11.2\n",
      "tensorboard-data-server       0.6.1\n",
      "tensorboard-plugin-wit        1.8.1\n",
      "tensorflow                    2.4.1\n",
      "tensorflow-datasets           4.9.2\n",
      "tensorflow-estimator          2.4.0\n",
      "tensorflow-hub                0.15.0\n",
      "tensorflow-io                 0.34.0\n",
      "tensorflow-io-gcs-filesystem  0.34.0\n",
      "tensorflow-metadata           1.14.0\n",
      "tensorflow-model-optimization 0.7.5\n",
      "tensorflow-text               2.13.0\n",
      "termcolor                     1.1.0\n",
      "terminado                     0.18.0\n",
      "text-unidecode                1.3\n",
      "tf-models-official            2.13.2\n",
      "tf-slim                       1.1.0\n",
      "threadpoolctl                 3.2.0\n",
      "tinycss2                      1.2.1\n",
      "toml                          0.10.2\n",
      "tomli                         2.0.1\n",
      "tornado                       6.4\n",
      "tqdm                          4.66.1\n",
      "traitlets                     5.14.0\n",
      "types-python-dateutil         2.8.19.14\n",
      "typing-extensions             3.7.4.3\n",
      "tzdata                        2023.3\n",
      "tzlocal                       5.2\n",
      "uri-template                  1.3.0\n",
      "uritemplate                   4.1.1\n",
      "urllib3                       2.1.0\n",
      "wcwidth                       0.2.12\n",
      "webcolors                     1.13\n",
      "webencodings                  0.5.1\n",
      "websocket-client              1.7.0\n",
      "Werkzeug                      3.0.1\n",
      "wheel                         0.42.0\n",
      "widgetsnbextension            4.0.9\n",
      "wrapt                         1.12.1\n",
      "zipp                          3.17.0\n",
      "zstandard                     0.22.0\n"
     ]
    }
   ],
   "source": [
    "!pip list"
   ]
  },
  {
   "cell_type": "code",
   "execution_count": 26,
   "metadata": {
    "colab": {
     "base_uri": "https://localhost:8080/"
    },
    "id": "csofht2npfDE",
    "outputId": "ff5471b2-bed2-43f2-959c-327a706527b6"
   },
   "outputs": [
    {
     "name": "stdout",
     "output_type": "stream",
     "text": [
      "--2023-12-28 16:26:36--  http://download.tensorflow.org/models/object_detection/tf2/20200711/ssd_mobilenet_v2_fpnlite_320x320_coco17_tpu-8.tar.gz\n",
      "Resolving download.tensorflow.org (download.tensorflow.org)... 2607:f8b0:4005:80d::201b, 2607:f8b0:4005:811::201b, 2607:f8b0:4005:813::201b, ...\n",
      "Connecting to download.tensorflow.org (download.tensorflow.org)|2607:f8b0:4005:80d::201b|:80... connected.\n",
      "HTTP request sent, awaiting response... 200 OK\n",
      "Length: 20515344 (20M) [application/x-tar]\n",
      "Saving to: ‘ssd_mobilenet_v2_fpnlite_320x320_coco17_tpu-8.tar.gz’\n",
      "\n",
      "ssd_mobilenet_v2_fp 100%[===================>]  19.56M  30.1MB/s    in 0.7s    \n",
      "\n",
      "2023-12-28 16:26:37 (30.1 MB/s) - ‘ssd_mobilenet_v2_fpnlite_320x320_coco17_tpu-8.tar.gz’ saved [20515344/20515344]\n",
      "\n",
      "x ssd_mobilenet_v2_fpnlite_320x320_coco17_tpu-8/\n",
      "x ssd_mobilenet_v2_fpnlite_320x320_coco17_tpu-8/checkpoint/\n",
      "x ssd_mobilenet_v2_fpnlite_320x320_coco17_tpu-8/checkpoint/ckpt-0.data-00000-of-00001\n",
      "x ssd_mobilenet_v2_fpnlite_320x320_coco17_tpu-8/checkpoint/checkpoint\n",
      "x ssd_mobilenet_v2_fpnlite_320x320_coco17_tpu-8/checkpoint/ckpt-0.index\n",
      "x ssd_mobilenet_v2_fpnlite_320x320_coco17_tpu-8/pipeline.config\n",
      "x ssd_mobilenet_v2_fpnlite_320x320_coco17_tpu-8/saved_model/\n",
      "x ssd_mobilenet_v2_fpnlite_320x320_coco17_tpu-8/saved_model/saved_model.pb\n",
      "x ssd_mobilenet_v2_fpnlite_320x320_coco17_tpu-8/saved_model/variables/\n",
      "x ssd_mobilenet_v2_fpnlite_320x320_coco17_tpu-8/saved_model/variables/variables.data-00000-of-00001\n",
      "x ssd_mobilenet_v2_fpnlite_320x320_coco17_tpu-8/saved_model/variables/variables.index\n"
     ]
    }
   ],
   "source": [
    "if os.name =='posix':\n",
    "    !wget {PRETRAINED_MODEL_URL}\n",
    "    !mv {PRETRAINED_MODEL_NAME+'.tar.gz'} {paths['PRETRAINED_MODEL_PATH']}\n",
    "    !cd {paths['PRETRAINED_MODEL_PATH']} && tar -zxvf {PRETRAINED_MODEL_NAME+'.tar.gz'}\n",
    "if os.name == 'nt':\n",
    "    wget.download(PRETRAINED_MODEL_URL)\n",
    "    !move {PRETRAINED_MODEL_NAME+'.tar.gz'} {paths['PRETRAINED_MODEL_PATH']}\n",
    "    !cd {paths['PRETRAINED_MODEL_PATH']} && tar -zxvf {PRETRAINED_MODEL_NAME+'.tar.gz'}"
   ]
  },
  {
   "cell_type": "markdown",
   "metadata": {
    "id": "M5KJTnkfpfDC"
   },
   "source": [
    "# 2. Create Label Map"
   ]
  },
  {
   "cell_type": "code",
   "execution_count": 12,
   "metadata": {
    "id": "p1BVDWo7pfDC"
   },
   "outputs": [],
   "source": [
    "labels = [{'name':'bacon', 'id':1},\n",
    "          {'name':'broccoli', 'id':2},\n",
    "          {'name':'fish', 'id':3},\n",
    "          {'name':'french_fries', 'id':4},\n",
    "          {'name':'grilled_chicken', 'id':5},\n",
    "          {'name':'lettuce', 'id':6},\n",
    "          {'name':'pasta', 'id':7},\n",
    "          {'name':'sausage', 'id':8},\n",
    "          {'name':'scrambled_egg', 'id':9}]\n",
    "\n",
    "with open(files['LABELMAP'], 'w') as f:\n",
    "    for label in labels:\n",
    "        f.write('item { \\n')\n",
    "        f.write('\\tname:\\'{}\\'\\n'.format(label['name']))\n",
    "        f.write('\\tid:{}\\n'.format(label['id']))\n",
    "        f.write('}\\n')"
   ]
  },
  {
   "cell_type": "markdown",
   "metadata": {
    "id": "C88zyVELpfDC"
   },
   "source": [
    "# 3. Create TF records"
   ]
  },
  {
   "cell_type": "code",
   "execution_count": null,
   "metadata": {
    "colab": {
     "base_uri": "https://localhost:8080/"
    },
    "id": "kvf5WccwrFGq",
    "outputId": "49902aeb-0bd7-4298-e1a0-5b4a64eb2064"
   },
   "outputs": [],
   "source": [
    "# OPTIONAL IF RUNNING ON COLAB\n",
    "ARCHIVE_FILES = os.path.join(paths['IMAGE_PATH'], 'archive.tar.gz')\n",
    "if os.path.exists(ARCHIVE_FILES):\n",
    "  !tar -zxvf {ARCHIVE_FILES}"
   ]
  },
  {
   "cell_type": "code",
   "execution_count": 25,
   "metadata": {
    "colab": {
     "base_uri": "https://localhost:8080/"
    },
    "id": "KWpb_BVUpfDD",
    "outputId": "56ce2a3f-3933-4ee6-8a9d-d5ec65f7d73c"
   },
   "outputs": [],
   "source": [
    "if not os.path.exists(files['TF_RECORD_SCRIPT']):\n",
    "    !git clone https://github.com/nicknochnack/GenerateTFRecord {paths['SCRIPTS_PATH']}"
   ]
  },
  {
   "cell_type": "code",
   "execution_count": null,
   "metadata": {
    "colab": {
     "base_uri": "https://localhost:8080/"
    },
    "id": "UPFToGZqpfDD",
    "outputId": "0ebb456f-aadc-4a1f-96e6-fbfec1923e1c"
   },
   "outputs": [],
   "source": [
    "!python {files['TF_RECORD_SCRIPT']} -x {os.path.join(paths['IMAGE_PATH'], 'train')} -l {files['LABELMAP']} -o {os.path.join(paths['ANNOTATION_PATH'], 'train.record')} \n",
    "!python {files['TF_RECORD_SCRIPT']} -x {os.path.join(paths['IMAGE_PATH'], 'test')} -l {files['LABELMAP']} -o {os.path.join(paths['ANNOTATION_PATH'], 'test.record')} "
   ]
  },
  {
   "cell_type": "markdown",
   "metadata": {
    "id": "qT4QU7pLpfDE"
   },
   "source": [
    "# 4. Copy Model Config to Training Folder"
   ]
  },
  {
   "cell_type": "code",
   "execution_count": null,
   "metadata": {
    "id": "cOjuTFbwpfDF"
   },
   "outputs": [],
   "source": [
    "if os.name =='posix':\n",
    "    !cp {os.path.join(paths['PRETRAINED_MODEL_PATH'], PRETRAINED_MODEL_NAME, 'pipeline.config')} {os.path.join(paths['CHECKPOINT_PATH'])}\n",
    "if os.name == 'nt':\n",
    "    !copy {os.path.join(paths['PRETRAINED_MODEL_PATH'], PRETRAINED_MODEL_NAME, 'pipeline.config')} {os.path.join(paths['CHECKPOINT_PATH'])}"
   ]
  },
  {
   "cell_type": "markdown",
   "metadata": {
    "id": "Ga8gpNslpfDF"
   },
   "source": [
    "# 5. Update Config For Transfer Learning"
   ]
  },
  {
   "cell_type": "code",
   "execution_count": 7,
   "metadata": {
    "id": "Z9hRrO_ppfDF"
   },
   "outputs": [],
   "source": [
    "import tensorflow as tf\n",
    "from object_detection.utils import config_util\n",
    "from object_detection.protos import pipeline_pb2\n",
    "from google.protobuf import text_format"
   ]
  },
  {
   "cell_type": "code",
   "execution_count": 15,
   "metadata": {
    "id": "c2A0mn4ipfDF"
   },
   "outputs": [],
   "source": [
    "config = config_util.get_configs_from_pipeline_file(files['PIPELINE_CONFIG'])"
   ]
  },
  {
   "cell_type": "code",
   "execution_count": null,
   "metadata": {
    "colab": {
     "base_uri": "https://localhost:8080/"
    },
    "id": "uQA13-afpfDF",
    "outputId": "907496a4-a39d-4b13-8c2c-e5978ecb1f10"
   },
   "outputs": [],
   "source": [
    "config"
   ]
  },
  {
   "cell_type": "code",
   "execution_count": 10,
   "metadata": {
    "id": "9vK5lotDpfDF"
   },
   "outputs": [],
   "source": [
    "pipeline_config = pipeline_pb2.TrainEvalPipelineConfig()\n",
    "with tf.io.gfile.GFile(files['PIPELINE_CONFIG'], \"r\") as f:                                                                                                                                                                                                                     \n",
    "    proto_str = f.read()                                                                                                                                                                                                                                          \n",
    "    text_format.Merge(proto_str, pipeline_config)  "
   ]
  },
  {
   "cell_type": "code",
   "execution_count": 13,
   "metadata": {
    "id": "rP43Ph0JpfDG"
   },
   "outputs": [],
   "source": [
    "pipeline_config.model.ssd.num_classes = len(labels)\n",
    "pipeline_config.train_config.batch_size = 4\n",
    "pipeline_config.train_config.fine_tune_checkpoint = os.path.join(paths['PRETRAINED_MODEL_PATH'], PRETRAINED_MODEL_NAME, 'checkpoint', 'ckpt-0')\n",
    "pipeline_config.train_config.fine_tune_checkpoint_type = \"detection\"\n",
    "pipeline_config.train_input_reader.label_map_path= files['LABELMAP']\n",
    "pipeline_config.train_input_reader.tf_record_input_reader.input_path[:] = [os.path.join(paths['ANNOTATION_PATH'], 'train.record')]\n",
    "pipeline_config.eval_input_reader[0].label_map_path = files['LABELMAP']\n",
    "pipeline_config.eval_input_reader[0].tf_record_input_reader.input_path[:] = [os.path.join(paths['ANNOTATION_PATH'], 'test.record')]"
   ]
  },
  {
   "cell_type": "code",
   "execution_count": 14,
   "metadata": {
    "id": "oJvfgwWqpfDG"
   },
   "outputs": [],
   "source": [
    "config_text = text_format.MessageToString(pipeline_config)                                                                                                                                                                                                        \n",
    "with tf.io.gfile.GFile(files['PIPELINE_CONFIG'], \"wb\") as f:                                                                                                                                                                                                                     \n",
    "    f.write(config_text)   "
   ]
  },
  {
   "cell_type": "markdown",
   "metadata": {
    "id": "Zr3ON7xMpfDG"
   },
   "source": [
    "# 6. Train the model"
   ]
  },
  {
   "cell_type": "code",
   "execution_count": 17,
   "metadata": {
    "id": "B-Y2UQmQpfDG"
   },
   "outputs": [],
   "source": [
    "TRAINING_SCRIPT = os.path.join(paths['APIMODEL_PATH'], 'research', 'object_detection', 'model_main_tf2.py')"
   ]
  },
  {
   "cell_type": "code",
   "execution_count": 18,
   "metadata": {
    "id": "jMP2XDfQpfDH"
   },
   "outputs": [],
   "source": [
    "command = \"python {} --model_dir={} --pipeline_config_path={} --num_train_steps=2000\".format(TRAINING_SCRIPT, paths['CHECKPOINT_PATH'],files['PIPELINE_CONFIG'])"
   ]
  },
  {
   "cell_type": "code",
   "execution_count": null,
   "metadata": {
    "colab": {
     "base_uri": "https://localhost:8080/"
    },
    "id": "A4OXXi-ApfDH",
    "outputId": "117a0e83-012b-466e-b7a6-ccaa349ac5ab"
   },
   "outputs": [],
   "source": [
    "print(command)"
   ]
  },
  {
   "cell_type": "code",
   "execution_count": null,
   "metadata": {
    "colab": {
     "base_uri": "https://localhost:8080/"
    },
    "id": "i3ZsJR-qpfDH",
    "outputId": "cabec5e1-45e6-4f2f-d9cf-297d9c1d0225"
   },
   "outputs": [],
   "source": [
    "!{command}"
   ]
  },
  {
   "cell_type": "markdown",
   "metadata": {
    "id": "4_YRZu7npfDH"
   },
   "source": [
    "# 7. Evaluate the Model"
   ]
  },
  {
   "cell_type": "code",
   "execution_count": 20,
   "metadata": {
    "id": "80L7-fdPpfDH"
   },
   "outputs": [],
   "source": [
    "command = \"python {} --model_dir={} --pipeline_config_path={} --checkpoint_dir={}\".format(TRAINING_SCRIPT, paths['CHECKPOINT_PATH'],files['PIPELINE_CONFIG'], paths['CHECKPOINT_PATH'])"
   ]
  },
  {
   "cell_type": "code",
   "execution_count": null,
   "metadata": {
    "colab": {
     "base_uri": "https://localhost:8080/"
    },
    "id": "lYsgEPx9pfDH",
    "outputId": "8632d48b-91d2-45d9-bcb8-c1b172bf6eed"
   },
   "outputs": [],
   "source": [
    "print(command)"
   ]
  },
  {
   "cell_type": "code",
   "execution_count": null,
   "metadata": {
    "id": "lqTV2jGBpfDH"
   },
   "outputs": [],
   "source": [
    "!{command}"
   ]
  },
  {
   "cell_type": "markdown",
   "metadata": {
    "id": "orvRk02UpfDI"
   },
   "source": [
    "# 8. Load Train Model From Checkpoint"
   ]
  },
  {
   "cell_type": "code",
   "execution_count": 7,
   "metadata": {
    "id": "8TYk4_oIpfDI"
   },
   "outputs": [],
   "source": [
    "import os\n",
    "import tensorflow as tf\n",
    "from object_detection.utils import label_map_util\n",
    "from object_detection.utils import visualization_utils as viz_utils\n",
    "from object_detection.builders import model_builder\n",
    "from object_detection.utils import config_util"
   ]
  },
  {
   "cell_type": "code",
   "execution_count": 11,
   "metadata": {
    "id": "tDnQg-cYpfDI"
   },
   "outputs": [],
   "source": [
    "# Load pipeline config and build a detection model\n",
    "configs = config_util.get_configs_from_pipeline_file(files['PIPELINE_CONFIG'])\n",
    "detection_model = model_builder.build(model_config=configs['model'], is_training=False)\n",
    "\n",
    "# Restore checkpoint\n",
    "ckpt = tf.compat.v2.train.Checkpoint(model=detection_model)\n",
    "ckpt.restore(os.path.join(paths['CHECKPOINT_PATH'], 'ckpt-5')).expect_partial()\n",
    "\n",
    "@tf.function\n",
    "def detect_fn(image):\n",
    "    image, shapes = detection_model.preprocess(image)\n",
    "    prediction_dict = detection_model.predict(image, shapes)\n",
    "    detections = detection_model.postprocess(prediction_dict, shapes)\n",
    "    return detections"
   ]
  },
  {
   "cell_type": "markdown",
   "metadata": {
    "id": "0EmsmbBZpfDI"
   },
   "source": [
    "# 9. Detect from an Image"
   ]
  },
  {
   "cell_type": "code",
   "execution_count": 9,
   "metadata": {
    "id": "Y_MKiuZ4pfDI"
   },
   "outputs": [],
   "source": [
    "import cv2 \n",
    "import numpy as np\n",
    "from matplotlib import pyplot as plt\n",
    "%matplotlib inline"
   ]
  },
  {
   "cell_type": "code",
   "execution_count": 10,
   "metadata": {
    "id": "cBDbIhNapfDI"
   },
   "outputs": [],
   "source": [
    "category_index = label_map_util.create_category_index_from_labelmap(files['LABELMAP'])"
   ]
  },
  {
   "cell_type": "code",
   "execution_count": 12,
   "metadata": {
    "id": "Lx3crOhOzITB"
   },
   "outputs": [],
   "source": [
    "IMAGE_PATH = os.path.join(paths['IMAGE_PATH'], 'test', 'livelong.02533422-940e-11eb-9dbd-5cf3709bbcc6.jpg')"
   ]
  },
  {
   "cell_type": "code",
   "execution_count": null,
   "metadata": {
    "colab": {
     "base_uri": "https://localhost:8080/",
     "height": 269
    },
    "id": "Tpzn1SMry1yK",
    "outputId": "c392a2c5-10fe-4fc4-9998-a1d4c7db2bd3"
   },
   "outputs": [],
   "source": [
    "img = cv2.imread(IMAGE_PATH)\n",
    "image_np = np.array(img)\n",
    "\n",
    "input_tensor = tf.convert_to_tensor(np.expand_dims(image_np, 0), dtype=tf.float32)\n",
    "detections = detect_fn(input_tensor)\n",
    "\n",
    "num_detections = int(detections.pop('num_detections'))\n",
    "detections = {key: value[0, :num_detections].numpy()\n",
    "              for key, value in detections.items()}\n",
    "detections['num_detections'] = num_detections\n",
    "\n",
    "# detection_classes should be ints.\n",
    "detections['detection_classes'] = detections['detection_classes'].astype(np.int64)\n",
    "\n",
    "label_id_offset = 1\n",
    "image_np_with_detections = image_np.copy()\n",
    "\n",
    "viz_utils.visualize_boxes_and_labels_on_image_array(\n",
    "            image_np_with_detections,\n",
    "            detections['detection_boxes'],\n",
    "            detections['detection_classes']+label_id_offset,\n",
    "            detections['detection_scores'],\n",
    "            category_index,\n",
    "            use_normalized_coordinates=True,\n",
    "            max_boxes_to_draw=5,\n",
    "            min_score_thresh=.8,\n",
    "            agnostic_mode=False)\n",
    "\n",
    "plt.imshow(cv2.cvtColor(image_np_with_detections, cv2.COLOR_BGR2RGB))\n",
    "plt.show()"
   ]
  },
  {
   "cell_type": "markdown",
   "metadata": {
    "id": "IsNAaYAo0WVL"
   },
   "source": [
    "# 10. Real Time Detections from your Webcam"
   ]
  },
  {
   "cell_type": "code",
   "execution_count": null,
   "metadata": {},
   "outputs": [],
   "source": [
    "!pip uninstall opencv-python-headless -y"
   ]
  },
  {
   "cell_type": "code",
   "execution_count": 14,
   "metadata": {
    "id": "o_grs6OGpfDJ"
   },
   "outputs": [],
   "source": [
    "cap = cv2.VideoCapture(0)\n",
    "width = int(cap.get(cv2.CAP_PROP_FRAME_WIDTH))\n",
    "height = int(cap.get(cv2.CAP_PROP_FRAME_HEIGHT))\n",
    "\n",
    "while cap.isOpened(): \n",
    "    ret, frame = cap.read()\n",
    "    image_np = np.array(frame)\n",
    "    \n",
    "    input_tensor = tf.convert_to_tensor(np.expand_dims(image_np, 0), dtype=tf.float32)\n",
    "    detections = detect_fn(input_tensor)\n",
    "    \n",
    "    num_detections = int(detections.pop('num_detections'))\n",
    "    detections = {key: value[0, :num_detections].numpy()\n",
    "                  for key, value in detections.items()}\n",
    "    detections['num_detections'] = num_detections\n",
    "\n",
    "    # detection_classes should be ints.\n",
    "    detections['detection_classes'] = detections['detection_classes'].astype(np.int64)\n",
    "\n",
    "    label_id_offset = 1\n",
    "    image_np_with_detections = image_np.copy()\n",
    "\n",
    "    viz_utils.visualize_boxes_and_labels_on_image_array(\n",
    "                image_np_with_detections,\n",
    "                detections['detection_boxes'],\n",
    "                detections['detection_classes']+label_id_offset,\n",
    "                detections['detection_scores'],\n",
    "                category_index,\n",
    "                use_normalized_coordinates=True,\n",
    "                max_boxes_to_draw=5,\n",
    "                min_score_thresh=.8,\n",
    "                agnostic_mode=False)\n",
    "\n",
    "    cv2.imshow('object detection',  cv2.resize(image_np_with_detections, (800, 600)))\n",
    "    \n",
    "    if cv2.waitKey(10) & 0xFF == ord('q'):\n",
    "        cap.release()\n",
    "        cv2.destroyAllWindows()\n",
    "        break"
   ]
  },
  {
   "cell_type": "markdown",
   "metadata": {
    "id": "rzlM4jt0pfDJ"
   },
   "source": [
    "# 10. Freezing the Graph"
   ]
  },
  {
   "cell_type": "code",
   "execution_count": 15,
   "metadata": {
    "id": "n4olHB2npfDJ"
   },
   "outputs": [],
   "source": [
    "FREEZE_SCRIPT = os.path.join(paths['APIMODEL_PATH'], 'research', 'object_detection', 'exporter_main_v2.py ')"
   ]
  },
  {
   "cell_type": "code",
   "execution_count": 16,
   "metadata": {
    "id": "0AjO93QDpfDJ"
   },
   "outputs": [],
   "source": [
    "command = \"python {} --input_type=image_tensor --pipeline_config_path={} --trained_checkpoint_dir={} --output_directory={}\".format(FREEZE_SCRIPT ,files['PIPELINE_CONFIG'], paths['CHECKPOINT_PATH'], paths['OUTPUT_PATH'])"
   ]
  },
  {
   "cell_type": "code",
   "execution_count": null,
   "metadata": {
    "colab": {
     "base_uri": "https://localhost:8080/"
    },
    "id": "F6Lsp3tCpfDJ",
    "outputId": "c3828529-bf06-4df5-d7f3-145890ec3edd"
   },
   "outputs": [],
   "source": [
    "print(command)"
   ]
  },
  {
   "cell_type": "code",
   "execution_count": null,
   "metadata": {
    "colab": {
     "base_uri": "https://localhost:8080/"
    },
    "id": "1Sw1ULgHpfDJ",
    "outputId": "6fd441e1-9fc9-4889-d072-3395c21e40b6"
   },
   "outputs": [],
   "source": [
    "!{command}"
   ]
  },
  {
   "cell_type": "code",
   "execution_count": null,
   "metadata": {
    "colab": {
     "base_uri": "https://localhost:8080/"
    },
    "id": "gZ6UzY_fpfDK",
    "outputId": "0c84722e-1c2b-4002-d857-80827ade828a",
    "scrolled": true
   },
   "outputs": [],
   "source": [
    "!pip install tensorflowjs"
   ]
  },
  {
   "cell_type": "code",
   "execution_count": 20,
   "metadata": {
    "id": "0oxbVynHpfDK"
   },
   "outputs": [],
   "source": [
    "command = \"tensorflowjs_converter --input_format=tf_saved_model --output_node_names='detection_boxes,detection_classes,detection_features,detection_multiclass_scores,detection_scores,num_detections,raw_detection_boxes,raw_detection_scores' --output_format=tfjs_graph_model --signature_name=serving_default {} {}\".format(os.path.join(paths['OUTPUT_PATH'], 'saved_model'), paths['TFJS_PATH'])"
   ]
  },
  {
   "cell_type": "code",
   "execution_count": 21,
   "metadata": {
    "colab": {
     "base_uri": "https://localhost:8080/"
    },
    "id": "DB2AGNmJpfDK",
    "outputId": "fbc9f747-f511-47e8-df8f-5ea65cef0374"
   },
   "outputs": [
    {
     "name": "stdout",
     "output_type": "stream",
     "text": [
      "tensorflowjs_converter --input_format=tf_saved_model --output_node_names='detection_boxes,detection_classes,detection_features,detection_multiclass_scores,detection_scores,num_detections,raw_detection_boxes,raw_detection_scores' --output_format=tfjs_graph_model --signature_name=serving_default Tensorflow\\workspace\\models\\my_ssd_mobnet\\export\\saved_model Tensorflow\\workspace\\models\\my_ssd_mobnet\\tfjsexport\n"
     ]
    }
   ],
   "source": [
    "print(command)"
   ]
  },
  {
   "cell_type": "code",
   "execution_count": null,
   "metadata": {
    "colab": {
     "base_uri": "https://localhost:8080/"
    },
    "id": "K7rfT4-hpfDK",
    "outputId": "532707fd-6feb-4bc6-84a3-325b5d16303c"
   },
   "outputs": [],
   "source": [
    "!{command}"
   ]
  },
  {
   "cell_type": "code",
   "execution_count": null,
   "metadata": {
    "id": "o8_hm-itpfDK"
   },
   "outputs": [],
   "source": [
    "# Test Code: https://github.com/nicknochnack/RealTimeSignLanguageDetectionwithTFJS"
   ]
  },
  {
   "cell_type": "markdown",
   "metadata": {
    "id": "VtUw73FHpfDK"
   },
   "source": [
    "# 11. Conversion to TFLite"
   ]
  },
  {
   "cell_type": "code",
   "execution_count": 23,
   "metadata": {
    "id": "XviMtewLpfDK"
   },
   "outputs": [],
   "source": [
    "TFLITE_SCRIPT = os.path.join(paths['APIMODEL_PATH'], 'research', 'object_detection', 'export_tflite_graph_tf2.py ')"
   ]
  },
  {
   "cell_type": "code",
   "execution_count": 24,
   "metadata": {
    "id": "us86cjC4pfDL"
   },
   "outputs": [],
   "source": [
    "command = \"python {} --pipeline_config_path={} --trained_checkpoint_dir={} --output_directory={}\".format(TFLITE_SCRIPT ,files['PIPELINE_CONFIG'], paths['CHECKPOINT_PATH'], paths['TFLITE_PATH'])"
   ]
  },
  {
   "cell_type": "code",
   "execution_count": null,
   "metadata": {
    "colab": {
     "base_uri": "https://localhost:8080/"
    },
    "id": "n1r5YO3rpfDL",
    "outputId": "5fcdf7a4-eee2-4365-f1ca-1751968379ea"
   },
   "outputs": [],
   "source": [
    "print(command)"
   ]
  },
  {
   "cell_type": "code",
   "execution_count": null,
   "metadata": {
    "colab": {
     "base_uri": "https://localhost:8080/"
    },
    "id": "I-xWpHN8pfDL",
    "outputId": "7f6bacd8-d077-43b5-c131-5b081fba24a4"
   },
   "outputs": [],
   "source": [
    "!{command}"
   ]
  },
  {
   "cell_type": "code",
   "execution_count": 27,
   "metadata": {
    "id": "iJfYMbN6pfDL"
   },
   "outputs": [],
   "source": [
    "FROZEN_TFLITE_PATH = os.path.join(paths['TFLITE_PATH'], 'saved_model')\n",
    "TFLITE_MODEL = os.path.join(paths['TFLITE_PATH'], 'saved_model', 'detect.tflite')"
   ]
  },
  {
   "cell_type": "code",
   "execution_count": 28,
   "metadata": {},
   "outputs": [],
   "source": [
    "command = \"tflite_convert \\\n",
    "--saved_model_dir={} \\\n",
    "--output_file={} \\\n",
    "--input_shapes=1,300,300,3 \\\n",
    "--input_arrays=normalized_input_image_tensor \\\n",
    "--output_arrays='TFLite_Detection_PostProcess','TFLite_Detection_PostProcess:1','TFLite_Detection_PostProcess:2','TFLite_Detection_PostProcess:3' \\\n",
    "--inference_type=FLOAT \\\n",
    "--allow_custom_ops\".format(FROZEN_TFLITE_PATH, TFLITE_MODEL, )"
   ]
  },
  {
   "cell_type": "code",
   "execution_count": null,
   "metadata": {
    "colab": {
     "base_uri": "https://localhost:8080/"
    },
    "id": "E8GwUeoFpfDL",
    "outputId": "fac43ea4-cc85-471b-a362-e994b06fd583"
   },
   "outputs": [],
   "source": [
    "print(command)"
   ]
  },
  {
   "cell_type": "code",
   "execution_count": null,
   "metadata": {
    "colab": {
     "base_uri": "https://localhost:8080/"
    },
    "id": "Nbd7gqHMpfDL",
    "outputId": "7c8fe6d5-2415-4641-8548-39d425c202f7"
   },
   "outputs": [],
   "source": [
    "!{command}"
   ]
  },
  {
   "cell_type": "markdown",
   "metadata": {
    "id": "5NQqZRdA21Uc"
   },
   "source": [
    "# 13. Zip and Export Models "
   ]
  },
  {
   "cell_type": "code",
   "execution_count": null,
   "metadata": {
    "id": "tTVTGCQp2ZJJ"
   },
   "outputs": [],
   "source": [
    "!tar -czf models.tar.gz {paths['CHECKPOINT_PATH']}"
   ]
  },
  {
   "cell_type": "code",
   "execution_count": null,
   "metadata": {
    "colab": {
     "base_uri": "https://localhost:8080/"
    },
    "id": "whShhB0x3PYJ",
    "outputId": "b773201d-35c9-46a8-b893-4a76bd4d5d97"
   },
   "outputs": [],
   "source": [
    "from google.colab import drive\n",
    "drive.mount('/content/drive')"
   ]
  }
 ],
 "metadata": {
  "accelerator": "GPU",
  "colab": {
   "name": "3. Training and Detection.ipynb",
   "provenance": []
  },
  "kernelspec": {
   "display_name": "newtfod",
   "language": "python",
   "name": "newtfod"
  },
  "language_info": {
   "codemirror_mode": {
    "name": "ipython",
    "version": 3
   },
   "file_extension": ".py",
   "mimetype": "text/x-python",
   "name": "python",
   "nbconvert_exporter": "python",
   "pygments_lexer": "ipython3",
   "version": "3.8.6"
  }
 },
 "nbformat": 4,
 "nbformat_minor": 4
}
