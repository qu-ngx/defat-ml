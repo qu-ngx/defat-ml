{
 "cells": [
  {
   "cell_type": "code",
   "execution_count": 1,
   "metadata": {},
   "outputs": [
    {
     "name": "stdout",
     "output_type": "stream",
     "text": [
      "\u001b[33mWARNING: Skipping Cython as it is not installed.\u001b[0m\u001b[33m\n",
      "\u001b[0mCloning into 'models'...\n",
      "remote: Enumerating objects: 4065, done.\u001b[K\n",
      "remote: Counting objects: 100% (4065/4065), done.\u001b[K\n",
      "remote: Compressing objects: 100% (3103/3103), done.\u001b[K\n",
      "remote: Total 4065 (delta 1185), reused 1924 (delta 902), pack-reused 0\u001b[K\n",
      "Receiving objects: 100% (4065/4065), 54.72 MiB | 22.55 MiB/s, done.\n",
      "Resolving deltas: 100% (1185/1185), done.\n"
     ]
    }
   ],
   "source": [
    "# Clone the tensorflow models repository from GitHub\n",
    "!pip uninstall Cython -y # Temporary fix for \"No module named 'object_detection'\" error\n",
    "!git clone --depth 1 https://github.com/tensorflow/models"
   ]
  }
 ],
 "metadata": {
  "kernelspec": {
   "display_name": "Python 3 (ipykernel)",
   "language": "python",
   "name": "python3"
  },
  "language_info": {
   "codemirror_mode": {
    "name": "ipython",
    "version": 3
   },
   "file_extension": ".py",
   "mimetype": "text/x-python",
   "name": "python",
   "nbconvert_exporter": "python",
   "pygments_lexer": "ipython3",
   "version": "3.7.9"
  }
 },
 "nbformat": 4,
 "nbformat_minor": 2
}
